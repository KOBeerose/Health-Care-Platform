{
 "cells": [
  {
   "cell_type": "markdown",
   "metadata": {
    "papermill": {
     "duration": 0.019073,
     "end_time": "2021-03-13T22:14:08.432359",
     "exception": false,
     "start_time": "2021-03-13T22:14:08.413286",
     "status": "completed"
    },
    "tags": []
   },
   "source": [
    "<center><h1 style=\"color:#1a1a1a;\n",
    "                    font-size:3em\">\n",
    "        NHANES Labels Scraping 🕸️\n",
    "        </h1> \n",
    "</center>"
   ]
  },
  {
   "cell_type": "markdown",
   "metadata": {
    "papermill": {
     "duration": 0.019252,
     "end_time": "2021-03-13T22:14:08.470997",
     "exception": false,
     "start_time": "2021-03-13T22:14:08.451745",
     "status": "completed"
    },
    "tags": []
   },
   "source": [
    "## Purpose\n",
    "While doing a our Machine Learning project about Stroke Prediction using the NHANES dataset, I find that it was hard to locate the desired variable and difficult to tell the meaning of each variable after feature selection. Therefore, we need to scrap the information from the NHANES website using **Beautiful Soup**. \n",
    "\n",
    "\n",
    "\n",
    "In this notebook the main purpose is to extract the sas labels from the data documentations websites in the 5 main categories:\n",
    "- Demographics: https://wwwn.cdc.gov/nchs/nhanes/search/datapage.aspx?Component=Demographics&CycleBeginYear=2013\n",
    "- Dietary: https://wwwn.cdc.gov/nchs/nhanes/Search/DataPage.aspx?Component=Dietary&CycleBeginYear=2013\n",
    "- Examination: https://wwwn.cdc.gov/nchs/nhanes/Search/DataPage.aspx?Component=Examination&CycleBeginYear=2013\n",
    "- Laboratory: https://wwwn.cdc.gov/nchs/nhanes/Search/DataPage.aspx?Component=Laboratory&CycleBeginYear=2013\n",
    "- Questionnaire: https://wwwn.cdc.gov/nchs/nhanes/Search/DataPage.aspx?Component=Questionnaire&CycleBeginYear=2013\n"
   ]
  },
  {
   "cell_type": "code",
   "execution_count": 1,
   "metadata": {
    "execution": {
     "iopub.execute_input": "2021-03-13T22:14:08.513098Z",
     "iopub.status.busy": "2021-03-13T22:14:08.512303Z",
     "iopub.status.idle": "2021-03-13T22:14:08.679564Z",
     "shell.execute_reply": "2021-03-13T22:14:08.678910Z"
    },
    "papermill": {
     "duration": 0.189408,
     "end_time": "2021-03-13T22:14:08.679713",
     "exception": false,
     "start_time": "2021-03-13T22:14:08.490305",
     "status": "completed"
    },
    "tags": []
   },
   "outputs": [],
   "source": [
    "import pandas as pd\n",
    "import requests\n",
    "from bs4 import BeautifulSoup\n",
    "import regex as re\n",
    "import urllib"
   ]
  },
  {
   "cell_type": "code",
   "execution_count": 2,
   "metadata": {
    "execution": {
     "iopub.execute_input": "2021-03-13T22:14:08.714413Z",
     "iopub.status.busy": "2021-03-13T22:14:08.713838Z",
     "iopub.status.idle": "2021-03-13T22:14:17.002323Z",
     "shell.execute_reply": "2021-03-13T22:14:17.001612Z"
    },
    "papermill": {
     "duration": 8.309293,
     "end_time": "2021-03-13T22:14:17.002520",
     "exception": false,
     "start_time": "2021-03-13T22:14:08.693227",
     "status": "completed"
    },
    "tags": []
   },
   "outputs": [
    {
     "name": "stdout",
     "output_type": "stream",
     "text": [
      "Demographics https://wwwn.cdc.gov/nchs/nhanes/search/datapage.aspx?Component=Demographics&CycleBeginYear=2013\n",
      "Dietary https://wwwn.cdc.gov/nchs/nhanes/Search/DataPage.aspx?Component=Dietary&CycleBeginYear=2013\n",
      "Examination https://wwwn.cdc.gov/nchs/nhanes/Search/DataPage.aspx?Component=Examination&CycleBeginYear=2013\n",
      "Laboratory https://wwwn.cdc.gov/nchs/nhanes/Search/DataPage.aspx?Component=Laboratory&CycleBeginYear=2013\n",
      "Questionnaire https://wwwn.cdc.gov/nchs/nhanes/Search/DataPage.aspx?Component=Questionnaire&CycleBeginYear=2013\n"
     ]
    }
   ],
   "source": [
    "\n",
    "\n",
    "def parse_main(URL, links, category):\n",
    "    page = requests.get(URL)\n",
    "    soup = BeautifulSoup(page.content, 'html.parser')\n",
    "    table = soup.find('table')\n",
    "\n",
    "    for link in table.find_all('a'):\n",
    "        if str(link.get('href')).endswith('.htm') == True:\n",
    "            link_j = urllib.parse.urljoin('https://wwwn.cdc.gov/', link.get('href'))\n",
    "            links[category].append(link_j)\n",
    "\n",
    "\n",
    "urls = {'Demographics':'https://wwwn.cdc.gov/nchs/nhanes/search/datapage.aspx?Component=Demographics&CycleBeginYear=2013',\n",
    "        'Dietary':'https://wwwn.cdc.gov/nchs/nhanes/Search/DataPage.aspx?Component=Dietary&CycleBeginYear=2013',\n",
    "        'Examination':'https://wwwn.cdc.gov/nchs/nhanes/Search/DataPage.aspx?Component=Examination&CycleBeginYear=2013',\n",
    "        'Laboratory':'https://wwwn.cdc.gov/nchs/nhanes/Search/DataPage.aspx?Component=Laboratory&CycleBeginYear=2013',\n",
    "        'Questionnaire':'https://wwwn.cdc.gov/nchs/nhanes/Search/DataPage.aspx?Component=Questionnaire&CycleBeginYear=2013'}\n",
    "\n",
    "links = {v:[] for v in urls.keys()}\n",
    "\n",
    "for c, URL in urls.items():\n",
    "    print(c, URL)\n",
    "    parse_main(URL, links, c)\n"
   ]
  },
  {
   "cell_type": "code",
   "execution_count": null,
   "metadata": {
    "execution": {
     "iopub.execute_input": "2021-03-13T22:14:17.057497Z",
     "iopub.status.busy": "2021-03-13T22:14:17.056664Z",
     "iopub.status.idle": "2021-03-13T22:17:05.441968Z",
     "shell.execute_reply": "2021-03-13T22:17:05.441302Z"
    },
    "papermill": {
     "duration": 168.417245,
     "end_time": "2021-03-13T22:17:05.442100",
     "exception": false,
     "start_time": "2021-03-13T22:14:17.024855",
     "status": "completed"
    },
    "tags": []
   },
   "outputs": [],
   "source": [
    "def parse_nhanes(links, codes):\n",
    "    for c, URLs in links.items():\n",
    "        for URL in URLs:\n",
    "            # access webs site\n",
    "            page = requests.get(URL)\n",
    "\n",
    "            # parse data\n",
    "            soup = BeautifulSoup(page.content, 'html.parser')\n",
    "            containers = soup.find_all('dl')\n",
    "            for i in containers:\n",
    "                try:\n",
    "                    varname = str(i.find(\"dt\",string=\"Variable Name: \").findNext(\"dd\").text)\n",
    "                    saslabel = str(i.find(\"dt\",string=\"SAS Label: \").findNext(\"dd\").text)\n",
    "#                     print(varname, saslabel)\n",
    "                    codes['category'].append(c)\n",
    "                    codes['variable'].append(varname.strip())\n",
    "                    codes['label'].append(saslabel.strip())\n",
    "                except:\n",
    "#                     print(f'error in {URL} {i}')\n",
    "                    pass\n",
    "    return codes\n",
    "\n",
    "codes = {\"category\": [], \"variable\": [], \"label\": []}\n",
    "\n",
    "\n",
    "parse_nhanes(links, codes)\n",
    "\n",
    "\n",
    "codebook = pd.DataFrame(codes)"
   ]
  },
  {
   "cell_type": "code",
   "execution_count": null,
   "metadata": {
    "execution": {
     "iopub.execute_input": "2021-03-13T22:17:05.475923Z",
     "iopub.status.busy": "2021-03-13T22:17:05.475300Z",
     "iopub.status.idle": "2021-03-13T22:17:05.525328Z",
     "shell.execute_reply": "2021-03-13T22:17:05.524740Z"
    },
    "papermill": {
     "duration": 0.068074,
     "end_time": "2021-03-13T22:17:05.525472",
     "exception": false,
     "start_time": "2021-03-13T22:17:05.457398",
     "status": "completed"
    },
    "tags": []
   },
   "outputs": [],
   "source": [
    "codebook.value_counts()"
   ]
  },
  {
   "cell_type": "markdown",
   "metadata": {
    "papermill": {
     "duration": 0.016004,
     "end_time": "2021-03-13T22:17:05.556934",
     "exception": false,
     "start_time": "2021-03-13T22:17:05.540930",
     "status": "completed"
    },
    "tags": []
   },
   "source": [
    "From the value_counts() above, you can see that there are several repeated varaibles due to the data design for the NHANES dataset. To easily match each variable I have list the unique variables separately."
   ]
  },
  {
   "cell_type": "code",
   "execution_count": null,
   "metadata": {
    "execution": {
     "iopub.execute_input": "2021-03-13T22:17:05.595167Z",
     "iopub.status.busy": "2021-03-13T22:17:05.594579Z",
     "iopub.status.idle": "2021-03-13T22:17:05.608684Z",
     "shell.execute_reply": "2021-03-13T22:17:05.607576Z"
    },
    "papermill": {
     "duration": 0.036588,
     "end_time": "2021-03-13T22:17:05.608975",
     "exception": false,
     "start_time": "2021-03-13T22:17:05.572387",
     "status": "completed"
    },
    "tags": []
   },
   "outputs": [],
   "source": [
    "code_unique = codebook[['variable', 'label']].drop_duplicates(subset=['variable'])\n",
    "print(code_unique)"
   ]
  },
  {
   "cell_type": "code",
   "execution_count": null,
   "metadata": {
    "execution": {
     "iopub.execute_input": "2021-03-13T22:17:05.645759Z",
     "iopub.status.busy": "2021-03-13T22:17:05.645139Z",
     "iopub.status.idle": "2021-03-13T22:17:05.660589Z",
     "shell.execute_reply": "2021-03-13T22:17:05.660084Z"
    },
    "papermill": {
     "duration": 0.035383,
     "end_time": "2021-03-13T22:17:05.660706",
     "exception": false,
     "start_time": "2021-03-13T22:17:05.625323",
     "status": "completed"
    },
    "tags": []
   },
   "outputs": [],
   "source": [
    "code_unique.to_csv('Datasets/NHANES_Labels.csv', index=False)"
   ]
  }
 ],
 "metadata": {
  "kernelspec": {
   "display_name": "Python 3 (ipykernel)",
   "language": "python",
   "name": "python3"
  },
  "language_info": {
   "codemirror_mode": {
    "name": "ipython",
    "version": 3
   },
   "file_extension": ".py",
   "mimetype": "text/x-python",
   "name": "python",
   "nbconvert_exporter": "python",
   "pygments_lexer": "ipython3",
   "version": "3.9.7"
  },
  "papermill": {
   "default_parameters": {},
   "duration": 193.598171,
   "end_time": "2021-03-13T22:17:06.186276",
   "environment_variables": {},
   "exception": null,
   "input_path": "__notebook__.ipynb",
   "output_path": "__notebook__.ipynb",
   "parameters": {},
   "start_time": "2021-03-13T22:13:52.588105",
   "version": "2.2.2"
  }
 },
 "nbformat": 4,
 "nbformat_minor": 4
}
