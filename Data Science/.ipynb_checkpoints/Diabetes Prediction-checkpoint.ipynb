{
 "cells": [
  {
   "cell_type": "markdown",
   "metadata": {
    "_uuid": "615476b132b1e36171e0a10efe648a868b97524b"
   },
   "source": [
    "<center><h1 style=\"color:#1a1a1a;\n",
    "                    font-size:3em\">\n",
    "        Machine Learning 🧠\n",
    "        </h1> \n",
    "        <h2 style=\"color:#1a1a1a;\n",
    "                    font-size:2em\">\n",
    "        Diabetes prediction with demographic features 🧑‍⚕️\n",
    "       </h2>\n",
    "</center>"
   ]
  },
  {
   "cell_type": "code",
   "execution_count": null,
   "metadata": {},
   "outputs": [],
   "source": [
    "<div style=\"font-size:1.3em\">\n",
    "    <span>\n",
    "    Réalisé par :¶\n",
    "    </span>\n",
    "      <ul>\n",
    "         <li>ELGHABI Taha</li>\n",
    "         <li>ELBATOURI Badr-eddine</li>\n",
    "      </ul>\n",
    "    <span>\n",
    "    Encadré par :¶\n",
    "    </span>\n",
    "      <ul>\n",
    "         <li>Pr. FISSAA TARIK</li>\n",
    "      </ul>\n",
    "</div>\n"
   ]
  },
  {
   "cell_type": "code",
   "execution_count": null,
   "metadata": {},
   "outputs": [],
   "source": [
    "<p style=\"font-size:2em\">📜 Table of Content:</p><br>\n",
    "<div style=\"font-size:1.5em\">\n",
    "    <ul>\n",
    "        <li>\n",
    "          <a href=\"#intro\">Introduction 🧾</a>\n",
    "       </li><br>\n",
    "       <li>\n",
    "          <a href=\"#pre-processing\">Prepare a dataset 📂</a>\n",
    "       </li><br>\n",
    "        <li>\n",
    "          <a href=\"#ftr-selct\"> Feature Selection 🛒</a>\n",
    "       </li><br>\n",
    "       <li>\n",
    "          <a href=\"#model-building\">Building models 🛠️</a>\n",
    "       </li><br>\n",
    "       <li>\n",
    "          <a href=\"#model-eval\">Model Comparison 📉</a>\n",
    "       </li><br> \n",
    "               <li>\n",
    "          <a href=\"#model-eval\">Model Comparison 📉</a>\n",
    "       </li><br> \n",
    "    </ul>\n",
    "</div>"
   ]
  },
  {
   "cell_type": "code",
   "execution_count": null,
   "metadata": {},
   "outputs": [],
   "source": [
    "<div id=\"intro\">\n",
    "        <h1 style=\"color:#1a1a1a\">\n",
    "         Introduction 🧾\n",
    "        </h1>\n",
    "</div>"
   ]
  },
  {
   "cell_type": "code",
   "execution_count": null,
   "metadata": {},
   "outputs": [],
   "source": [
    "<h4 style=\"color:grey\"> Importing Liberaries</h4>"
   ]
  },
  {
   "cell_type": "code",
   "execution_count": null,
   "metadata": {
    "_uuid": "81336c70eace1fc3a670fea98ac4b23d1678597e"
   },
   "outputs": [],
   "source": [
    "import pandas as pd\n",
    "import seaborn as sns\n",
    "import numpy as np\n",
    "import matplotlib.pyplot as plt\n",
    "import matplotlib as matplot\n",
    "\n",
    "import re\n",
    "import sklearn\n",
    "\n",
    "import warnings\n",
    "warnings.filterwarnings(\"ignore\")\n",
    "\n",
    "%matplotlib inline"
   ]
  },
  {
   "cell_type": "code",
   "execution_count": null,
   "metadata": {},
   "outputs": [],
   "source": [
    "<div id=\"#pre-processing\">\n",
    "        <h1 style=\"color:#1a1a1a\">\n",
    "            Prepare a dataset 📂\n",
    "        </h1>\n",
    "</div>"
   ]
  },
  {
   "cell_type": "code",
   "execution_count": null,
   "metadata": {},
   "outputs": [],
   "source": [
    "### Datasets\n",
    "- NHANES Datasets<br><br>\n",
    "https://www.kaggle.com/cdc/national-health-and-nutrition-examination-survey\n",
    "<br><br>\n",
    "- Variable Search<br><br>\n",
    "https://wwwn.cdc.gov/nchs/nhanes/search/default.aspx\n",
    "<br><br>\n",
    "- Varibles Labels<br><br>\n",
    "https://wwwn.cdc.gov/nchs/nhanes/Search/DataPage.aspx?Component=Demographics&CycleBeginYear=2013\n",
    "<br><br>\n"
   ]
  },
  {
   "cell_type": "markdown",
   "metadata": {
    "_uuid": "2fb65dac73c632c7c47024a53bad563b161cb0f6"
   },
   "source": [
    "### Dataset Merge & select attribute"
   ]
  },
  {
   "cell_type": "code",
   "execution_count": null,
   "metadata": {
    "_uuid": "c1de05c0bbcc41f4c52b5f954c52b850d877cfcd"
   },
   "outputs": [],
   "source": [
    "df1 = pd.read_csv('../input/labs.csv')\n",
    "df2 = pd.read_csv('../input/examination.csv')\n",
    "df3 = pd.read_csv('../input/demographic.csv')\n",
    "df4 = pd.read_csv('../input/diet.csv')\n",
    "df5 = pd.read_csv('../input/questionnaire.csv')\n",
    "\n",
    "df2.drop(['SEQN'], axis = 1, inplace=True)\n",
    "df3.drop(['SEQN'], axis = 1, inplace=True)\n",
    "df4.drop(['SEQN'], axis = 1, inplace=True)\n",
    "df5.drop(['SEQN'], axis = 1, inplace=True)\n",
    "\n",
    "df = pd.concat([df1, df2], axis=1, join='inner')\n",
    "df = pd.concat([df, df3], axis=1, join='inner')\n",
    "df = pd.concat([df, df4], axis=1, join='inner')\n",
    "df = pd.concat([df, df5], axis=1, join='inner')\n",
    "\n",
    "#sel = VarianceThreshold(threshold=(.8 * (1 - .8)))\n",
    "#sel.fit_transform(df)\n",
    "\n",
    "df.describe()"
   ]
  },
  {
   "cell_type": "markdown",
   "metadata": {
    "_uuid": "124a850ee526b30045bf7c79f8a2b6e8f423ae53"
   },
   "source": [
    "#### NA handling, Feature selection"
   ]
  },
  {
   "cell_type": "code",
   "execution_count": null,
   "metadata": {
    "_uuid": "5680290e280ee574067a322611e32613fb290730"
   },
   "outputs": [],
   "source": [
    "from sklearn.feature_selection import VarianceThreshold\n",
    "\n",
    "df.dropna(axis=1, how='all')\n",
    "df.dropna(axis=0, how='all')\n",
    "\n",
    "df = df.rename(columns = {'SEQN' : 'ID',\n",
    "                          'RIAGENDR' : 'Gender',\n",
    "                          'DMDYRSUS' : 'Years_in_US', # Nan -> american i guess\n",
    "                          'INDFMPIR' : 'Family_income',\n",
    "                          'LBXGH' : 'GlycoHemoglobin',\n",
    "                          'BMXARMC' : 'ArmCircum',\n",
    "                          'BMDAVSAD' : 'SaggitalAbdominal',\n",
    "                          'MGDCGSZ' : 'GripStrength',\n",
    "                          'DRABF' : 'Breast_fed'})\n",
    "\n",
    "df = df.loc[:, ['ID', 'Gender', 'Years_in_US', 'Family_income','GlycoHemoglobin', 'ArmCircum', \n",
    "                'SaggitalAbdominal', 'GripStrength', 'Breast_fed']]\n",
    "\n",
    "df.describe()"
   ]
  },
  {
   "cell_type": "markdown",
   "metadata": {
    "_uuid": "1249de5d283aab1a00789129776dbc53ed071003"
   },
   "source": [
    "#### **According to Glycohemoglobin, 0-> Normal status 1-> High-risk diabetes 2-> Diabetes patients**"
   ]
  },
  {
   "cell_type": "code",
   "execution_count": null,
   "metadata": {
    "_uuid": "ccdd5c4887f20bc1d32a1db0e53df28f36bb11b2"
   },
   "outputs": [],
   "source": [
    "from sklearn.feature_selection import VarianceThreshold\n",
    "\n",
    "#year in us -> american : 0, not american : 1\n",
    "df.dropna(axis=1, how='all')\n",
    "df.dropna(axis=0, how='all')\n",
    "\n",
    "#YEARS IN US NA처리\n",
    "df['Years_in_US'] = df['Years_in_US'].apply(lambda x: x if x > 0 else 0)\n",
    "\n",
    "#GlycoHemoglobin, Saggital Abdominal(median)\n",
    "df['GlycoHemoglobin'] = df['GlycoHemoglobin'].fillna(df['GlycoHemoglobin'].median())\n",
    "df['SaggitalAbdominal'] = df['SaggitalAbdominal'].fillna(df['SaggitalAbdominal'].median())\n",
    "df['ArmCircum'] = df['ArmCircum'].fillna(df['ArmCircum'].median())\n",
    "df['GripStrength'] = df['GripStrength'].fillna(df['GripStrength'].median())\n",
    "\n",
    "#Family Income -> use ffill to fill na\n",
    "df['Family_income'] = df['Family_income'].fillna(method='ffill')\n",
    "\n",
    "#Breat_fed -> fill to 1\n",
    "df['Breast_fed'] = df['Breast_fed'].fillna(value = 1)\n",
    "\n",
    "sel = VarianceThreshold(threshold=(.8 * (1 - .8)))\n",
    "sel.fit_transform(df)\n",
    "\n",
    "#for dataset in df:\n",
    "#    dataset['GlycoHemoglobin'] = dataset['GlycoHemoglobin'].fillna(df['GlycoHemoglobin'].median())\n",
    "\n",
    "#df.head(12)\n",
    "\n",
    "\n",
    "df.describe()"
   ]
  },
  {
   "cell_type": "code",
   "execution_count": null,
   "metadata": {
    "_uuid": "cf9fcd9771e006f909eb7309a1ba71cf3115286b"
   },
   "outputs": [],
   "source": [
    "df.loc[df['GlycoHemoglobin'] < 6.0, 'Diabetes'] = 0\n",
    "df.loc[(df['GlycoHemoglobin'] >= 6.0) & (df['GlycoHemoglobin'] <= 6.4), 'Diabetes'] = 1\n",
    "df.loc[df['GlycoHemoglobin'] >= 6.5, 'Diabetes'] = 2\n",
    "\n",
    "df.head(10)"
   ]
  },
  {
   "cell_type": "code",
   "execution_count": null,
   "metadata": {
    "_uuid": "1b66389559599c4c426975bf501617a85e34f1ca"
   },
   "outputs": [],
   "source": [
    "colormap = plt.cm.viridis\n",
    "plt.figure(figsize=(10,10))\n",
    "sns.heatmap(df.astype(float).drop(axis=1, labels='ID').corr(), linewidths=0.1, vmax=1.0, square=True, cmap=colormap, annot=True)"
   ]
  },
  {
   "cell_type": "code",
   "execution_count": null,
   "metadata": {
    "_uuid": "f9b7db6a917e9870b0d313496b59fa182bbb6fa4"
   },
   "outputs": [],
   "source": [
    "show = sns.pairplot(df.drop(['ID', 'GlycoHemoglobin'], axis=1), hue='Diabetes', size=1.5, diag_kind='kde')\n",
    "\n",
    "show.set(xticklabels=[])"
   ]
  },
  {
   "cell_type": "code",
   "execution_count": null,
   "metadata": {
    "_uuid": "78b75b03cd63bc58bb59dab49938d17eb46adde8"
   },
   "outputs": [],
   "source": [
    "from sklearn import linear_model\n",
    "from sklearn.svm import SVC\n",
    "from sklearn.cross_validation import KFold;\n",
    "from sklearn.metrics import mean_squared_error, r2_score"
   ]
  },
  {
   "cell_type": "code",
   "execution_count": null,
   "metadata": {
    "_uuid": "241c76c6e5244d0a43bd150f18df657185a9ace9"
   },
   "outputs": [],
   "source": [
    "df.drop(['GlycoHemoglobin'], axis = 1, inplace=True)\n",
    "\n",
    "df.head(5)"
   ]
  },
  {
   "cell_type": "code",
   "execution_count": null,
   "metadata": {
    "_uuid": "b2fc68b863dd617da1922c18599df1f937cf9b4a"
   },
   "outputs": [],
   "source": [
    "#data -> attributes, target -> diabetes\n",
    "data = df.drop(['Diabetes'], axis=1)\n",
    "target = df[['Diabetes']]\n",
    "\n",
    "#seperate training set and test set\n",
    "train_X = data[:6000]\n",
    "test_X = data[6000:]\n",
    "train_Y = target[:6000]\n",
    "test_Y = target[6000:]\n",
    "\n",
    "#create linear regression obj\n",
    "lr_regr = linear_model.LinearRegression()\n",
    "\n",
    "#training via linear regression model\n",
    "lr_regr.fit(train_X, train_Y)\n",
    "\n",
    "#make prediction using the test set\n",
    "lr_pred_diabetes = lr_regr.predict(test_X)\n",
    "lr_score = lr_regr.score(test_X, test_Y)\n",
    "\n",
    "print('LRr_Coefficients: ', lr_regr.coef_)\n",
    "print('LR_Mean Square Error: %.2f' % mean_squared_error(test_Y, lr_pred_diabetes))\n",
    "print('LR_Variance score: %.2f' % r2_score(test_Y, lr_pred_diabetes))\n",
    "print('Score: %.2f' % lr_regr.score(test_X, test_Y))"
   ]
  },
  {
   "cell_type": "code",
   "execution_count": null,
   "metadata": {
    "_uuid": "99ad34b380fbfa5baafd473d5f0f53d9e61e4359"
   },
   "outputs": [],
   "source": [
    "from sklearn.cluster import KMeans"
   ]
  },
  {
   "cell_type": "code",
   "execution_count": null,
   "metadata": {
    "_uuid": "4116af0f7d6b435af48fbfcc299b54509e8369d6"
   },
   "outputs": [],
   "source": [
    "kms = KMeans(n_clusters = 3, tol = 0.0005, algorithm=\"auto\")\n",
    "\n",
    "kms.fit_predict(train_X)\n",
    "\n",
    "print (\"parameters: \", kms.get_params)\n",
    "print (\"preict: \", kms.predict)\n",
    "print (\"\\nscore: %.2f\" % kms.score(test_X))"
   ]
  },
  {
   "cell_type": "code",
   "execution_count": null,
   "metadata": {
    "_uuid": "ec51592831f5a46e4acb4e383c6e273fcec909d8"
   },
   "outputs": [],
   "source": [
    "from sklearn.ensemble import AdaBoostClassifier\n",
    "from sklearn.tree import DecisionTreeClassifier\n",
    "from sklearn.model_selection import cross_val_score\n",
    "\n",
    "#create adaboost classification obj\n",
    "ab_clf = AdaBoostClassifier(base_estimator=DecisionTreeClassifier(), n_estimators=100, \n",
    "                            learning_rate=0.5, random_state=100)\n",
    "\n",
    "#training via adaboost classficiation model\n",
    "ab_clf.fit(train_X, train_Y)\n",
    "print(\"training....\\n\")\n",
    "\n",
    "#make prediction using the test set\n",
    "ab_pred_diabetes = ab_clf.predict(test_X)\n",
    "print('prediction: \\n', ab_pred_diabetes)\n",
    "\n",
    "print('\\nparms: \\n', ab_clf.get_params)\n",
    "\n",
    "#predict probability\n",
    "#print('predict probability: %.2f' % ab_clf.staged_score(test_X, ab_pred_diabetes))\n",
    "\n",
    "#score\n",
    "ab_clf_score = ab_clf.score(test_X, test_Y)\n",
    "print(\"\\nmean accuracy: %.2f\" % ab_clf.score(test_X, test_Y))"
   ]
  },
  {
   "cell_type": "code",
   "execution_count": null,
   "metadata": {
    "_uuid": "ed3d2275cb0d878d121d95e7296d88c8b731fdad"
   },
   "outputs": [],
   "source": [
    "from sklearn.ensemble import BaggingClassifier\n",
    "from sklearn.neighbors import KNeighborsClassifier"
   ]
  },
  {
   "cell_type": "code",
   "execution_count": null,
   "metadata": {
    "_uuid": "27bec1924a09af4207962ee4a27857ae37eb77b4"
   },
   "outputs": [],
   "source": [
    "bagging = BaggingClassifier(base_estimator= DecisionTreeClassifier(), max_samples = 0.5, max_features = 0.5, \n",
    "                            bootstrap = False, bootstrap_features = False)\n",
    "\n",
    "bagging.fit(train_X, train_Y)\n",
    "bg_pred_diabetes = bagging.predict(test_X)\n",
    "\n",
    "bg_dt_score = bagging.score(test_X, test_Y)\n",
    "bagging.score(test_X, test_Y)"
   ]
  },
  {
   "cell_type": "code",
   "execution_count": null,
   "metadata": {
    "_uuid": "618e88dcb6224f5a0ad1a0af8ee31f1e315c0318"
   },
   "outputs": [],
   "source": [
    "bagging = BaggingClassifier(base_estimator= KNeighborsClassifier(), max_samples = 0.5, max_features = 0.5, \n",
    "                            bootstrap = False, bootstrap_features = False)\n",
    "\n",
    "bagging.fit(train_X, train_Y)\n",
    "bg_pred_diabetes = bagging.predict(test_X)\n",
    "\n",
    "bg_score = bagging.score(test_X, test_Y)\n",
    "bagging.score(test_X, test_Y)"
   ]
  },
  {
   "cell_type": "code",
   "execution_count": null,
   "metadata": {
    "_uuid": "18787364826c569288d609898aacefe252d448fd"
   },
   "outputs": [],
   "source": [
    "from sklearn.neural_network import MLPClassifier"
   ]
  },
  {
   "cell_type": "code",
   "execution_count": null,
   "metadata": {
    "_uuid": "ebb5f9e22ac83745fc3da66feb299bc7a8ade29b"
   },
   "outputs": [],
   "source": [
    "mlp = MLPClassifier(hidden_layer_sizes=(1000, 300, 300), solver='adam', shuffle=False, tol = 0.0001)\n",
    "\n",
    "mlp.fit(train_X, train_Y)\n",
    "mlp_pred_diabetes = mlp.predict(test_X)\n",
    "\n",
    "print(\"parameter: \", mlp.get_params())\n",
    "\n",
    "mlp_score = mlp.score(test_X, test_Y)\n",
    "mlp.score(test_X, test_Y)"
   ]
  },
  {
   "cell_type": "code",
   "execution_count": null,
   "metadata": {
    "_uuid": "1e937b31b513a6f2949e4b1b1470bae6a47166c3"
   },
   "outputs": [],
   "source": [
    "d = {'Model': ['Linear Regression', 'Adaboost', 'Bagging_decision tree based', 'Bagging_KNeighbors', 'MLP'],\n",
    "     'accuracy' : [lr_score, ab_clf_score, bg_dt_score, bg_score, mlp_score]}\n",
    "\n",
    "result_df = pd.DataFrame(data = d)\n",
    "result_df"
   ]
  },
  {
   "cell_type": "code",
   "execution_count": null,
   "metadata": {
    "_uuid": "0fd6c157a097f2d38174df69c6d705546a3185ec"
   },
   "outputs": [],
   "source": [
    "result_df.plot(x='Model', y='accuracy', kind='bar', figsize=(8, 8), title='Diabetes Prediction Accuracy', \n",
    "               sort_columns=True)"
   ]
  },
  {
   "cell_type": "code",
   "execution_count": null,
   "metadata": {
    "_uuid": "ddbd3019c77e0f8c2f484d11f74181a4646f7483",
    "collapsed": true
   },
   "outputs": [],
   "source": []
  }
 ],
 "metadata": {
  "kernelspec": {
   "display_name": "Python 3 (ipykernel)",
   "language": "python",
   "name": "python3"
  },
  "language_info": {
   "codemirror_mode": {
    "name": "ipython",
    "version": 3
   },
   "file_extension": ".py",
   "mimetype": "text/x-python",
   "name": "python",
   "nbconvert_exporter": "python",
   "pygments_lexer": "ipython3",
   "version": "3.9.7"
  }
 },
 "nbformat": 4,
 "nbformat_minor": 1
}
