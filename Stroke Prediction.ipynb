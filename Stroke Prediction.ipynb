{
 "cells": [
  {
   "cell_type": "markdown",
   "metadata": {
    "_cell_guid": "b1076dfc-b9ad-4769-8c92-a6c4dae69d19",
    "_kg_hide-input": true,
    "_kg_hide-output": true,
    "_uuid": "8f2839f25d086af736a60e9eeb907d3b93b6e0e5",
    "execution": {
     "iopub.execute_input": "2021-03-15T07:42:17.006787Z",
     "iopub.status.busy": "2021-03-15T07:42:17.006271Z",
     "iopub.status.idle": "2021-03-15T07:42:17.029651Z",
     "shell.execute_reply": "2021-03-15T07:42:17.030271Z"
    },
    "papermill": {
     "duration": 0.060258,
     "end_time": "2021-03-15T07:42:17.030446",
     "exception": false,
     "start_time": "2021-03-15T07:42:16.970188",
     "status": "completed"
    },
    "tags": []
   },
   "source": [
    "<center><h1 style=\"color:#1a1a1a;\n",
    "                    font-size:3em\">\n",
    "        Machine Learning 🧠\n",
    "        </h1> \n",
    "        <h2 style=\"color:#1a1a1a;\n",
    "                    font-size:2em\">\n",
    "        Project: Stroke Prediction Using Machine Learning 🏥\n",
    "       </h2>\n",
    "</center>"
   ]
  },
  {
   "cell_type": "markdown",
   "metadata": {},
   "source": [
    "<div style=\"font-size:1.3em\">\n",
    "    <span>\n",
    "    Réalisé par :¶\n",
    "    </span>\n",
    "      <ul>\n",
    "         <li>ELGHABI Taha</li>\n",
    "         <li>ELBATOURI Badr-eddine</li>\n",
    "      </ul>\n",
    "    <span>\n",
    "    Encadré par :¶\n",
    "    </span>\n",
    "      <ul>\n",
    "         <li>Pr. FISSAA TARIK</li>\n",
    "      </ul>\n",
    "</div>\n"
   ]
  },
  {
   "cell_type": "markdown",
   "metadata": {},
   "source": [
    "<p style=\"font-size:2em\">📜 Table of Content:</p><br>\n",
    "<div style=\"font-size:1.5em\">\n",
    "    <ul>\n",
    "        <li>\n",
    "          <a href=\"#intro\">Introduction 🧾</a>\n",
    "       </li><br>\n",
    "       <li>\n",
    "          <a href=\"#pre-processing\">Prepare a dataset 📂</a>\n",
    "       </li><br>\n",
    "        <li>\n",
    "          <a href=\"#ftr-selct\"> Feature Selection 🛒</a>\n",
    "       </li><br>\n",
    "       <li>\n",
    "          <a href=\"#model-building\">Building models 🛠️</a>\n",
    "       </li><br>\n",
    "       <li>\n",
    "          <a href=\"#model-eval\">Model Comparison 📉</a>\n",
    "       </li><br> \n",
    "    </ul>\n",
    "</div>"
   ]
  },
  {
   "cell_type": "markdown",
   "metadata": {},
   "source": [
    "<div id=\"intro\">\n",
    "        <h1 style=\"color:#1a1a1a\">\n",
    "         Introduction 🧾\n",
    "        </h1>\n",
    "</div>"
   ]
  },
  {
   "cell_type": "markdown",
   "metadata": {
    "papermill": {
     "duration": 0.030848,
     "end_time": "2021-03-15T07:42:17.093522",
     "exception": false,
     "start_time": "2021-03-15T07:42:17.062674",
     "status": "completed"
    },
    "tags": []
   },
   "source": [
    "Stroke is the fifth cause of death in the United States, according to the Heart Disease and Stroke Statistics 2020 report. Those who suffer from stroke, if luckily survived, may also suffer from expensive medical bills and even disability. Foreseeing the underlying risk factors of stroke is highly valuable to stroke screening and prevention. In this project, the National Health and Nutrition Examination Survey (NHANES) data from the National Center for Health Statistics (NCHS) is used to develop machine learning models. The NHANES dataset holds an abundance of variables, ranging from demographics, medical history, physical examinations, biochemistry to dietary and lifestyle questionnaires. Known features contributing to stroke, such as blood pressure, serum cholesterol level, alcohol consumption, weight, etc., and additional features will be selected for correlation evaluation and machine learning model development. \n",
    "\n",
    "Main elements include data cleaning, imbalance dataset processing, feature selection from over 1,000 variables, and model training."
   ]
  },
  {
   "cell_type": "markdown",
   "metadata": {},
   "source": [
    "<h4 style=\"color:grey\"> Importing Liberaries</h4>"
   ]
  },
  {
   "cell_type": "code",
   "execution_count": null,
   "metadata": {
    "execution": {
     "iopub.execute_input": "2021-03-15T07:42:17.160029Z",
     "iopub.status.busy": "2021-03-15T07:42:17.159327Z",
     "iopub.status.idle": "2021-03-15T07:42:17.977609Z",
     "shell.execute_reply": "2021-03-15T07:42:17.978078Z"
    },
    "papermill": {
     "duration": 0.853655,
     "end_time": "2021-03-15T07:42:17.978223",
     "exception": false,
     "start_time": "2021-03-15T07:42:17.124568",
     "status": "completed"
    },
    "tags": []
   },
   "outputs": [],
   "source": [
    "# Setup Matplotlib to plot inline ( within the notebook ) \n",
    "%matplotlib inline\n",
    "import matplotlib\n",
    "\n",
    "# Import the pyplot module of Matplotlib as plt\n",
    "import matplotlib.pyplot as plt\n",
    "\n",
    "# Import pandas under the abbreviation 'pd'\n",
    "import pandas as pd\n",
    "\n",
    "# Import numPy under the abbreviation 'np'\n",
    "import numpy as np\n",
    "\n",
    "import sklearn\n",
    "import seaborn as sns"
   ]
  },
  {
   "cell_type": "code",
   "execution_count": null,
   "metadata": {},
   "outputs": [],
   "source": [
    "#  ignore wornings\n",
    "import warnings\n",
    "\n",
    "warnings.filterwarnings(\"ignore\")"
   ]
  },
  {
   "cell_type": "markdown",
   "metadata": {},
   "source": [
    "<div id=\"#pre-processing\">\n",
    "        <h1 style=\"color:#1a1a1a\">\n",
    "            Prepare a dataset 📂\n",
    "        </h1>\n",
    "</div>"
   ]
  },
  {
   "cell_type": "markdown",
   "metadata": {
    "papermill": {
     "duration": 0.031322,
     "end_time": "2021-03-15T07:42:18.041746",
     "exception": false,
     "start_time": "2021-03-15T07:42:18.010424",
     "status": "completed"
    },
    "tags": []
   },
   "source": [
    "### Datasets\n",
    "- NHANES Datasets<br><br>\n",
    "https://www.kaggle.com/cdc/national-health-and-nutrition-examination-survey\n",
    "<br><br>\n",
    "- Variable Search<br><br>\n",
    "https://wwwn.cdc.gov/nchs/nhanes/search/default.aspx\n",
    "<br><br>\n",
    "- Varibles Labels<br><br>\n",
    "https://wwwn.cdc.gov/nchs/nhanes/Search/DataPage.aspx?Component=Demographics&CycleBeginYear=2013\n",
    "<br><br>\n"
   ]
  },
  {
   "cell_type": "code",
   "execution_count": null,
   "metadata": {
    "execution": {
     "iopub.execute_input": "2021-03-15T07:42:18.107288Z",
     "iopub.status.busy": "2021-03-15T07:42:18.106473Z",
     "iopub.status.idle": "2021-03-15T07:42:18.110797Z",
     "shell.execute_reply": "2021-03-15T07:42:18.111204Z"
    },
    "papermill": {
     "duration": 0.038274,
     "end_time": "2021-03-15T07:42:18.111315",
     "exception": false,
     "start_time": "2021-03-15T07:42:18.073041",
     "status": "completed"
    },
    "tags": []
   },
   "outputs": [],
   "source": [
    "# datasets path and df names\n",
    "path = [\n",
    "    'Datasets/demographic.csv',\n",
    "    'Datasets/examination.csv',\n",
    "    'Datasets/questionnaire.csv',\n",
    "    'Datasets/labs.csv',\n",
    "    'Datasets/diet.csv'  \n",
    "]\n",
    "\n",
    "dfname = [\n",
    "    'dm',\n",
    "    'exam',\n",
    "    'qs',\n",
    "    'lab',\n",
    "    'diet'\n",
    "]"
   ]
  },
  {
   "cell_type": "code",
   "execution_count": null,
   "metadata": {
    "execution": {
     "iopub.execute_input": "2021-03-15T07:42:18.176914Z",
     "iopub.status.busy": "2021-03-15T07:42:18.176122Z",
     "iopub.status.idle": "2021-03-15T07:42:19.995636Z",
     "shell.execute_reply": "2021-03-15T07:42:19.995018Z"
    },
    "papermill": {
     "duration": 1.853036,
     "end_time": "2021-03-15T07:42:19.995739",
     "exception": false,
     "start_time": "2021-03-15T07:42:18.142703",
     "status": "completed"
    },
    "tags": []
   },
   "outputs": [],
   "source": [
    "# import datasets as dfs\n",
    "\n",
    "df = {}\n",
    "dfn = dict(zip(dfname, path))\n",
    "df = {key: pd.read_csv(value) for key, value in dfn.items()}"
   ]
  },
  {
   "cell_type": "code",
   "execution_count": null,
   "metadata": {
    "execution": {
     "iopub.execute_input": "2021-03-15T07:42:20.071145Z",
     "iopub.status.busy": "2021-03-15T07:42:20.070126Z",
     "iopub.status.idle": "2021-03-15T07:42:20.136468Z",
     "shell.execute_reply": "2021-03-15T07:42:20.136029Z"
    },
    "papermill": {
     "duration": 0.107357,
     "end_time": "2021-03-15T07:42:20.136565",
     "exception": false,
     "start_time": "2021-03-15T07:42:20.029208",
     "status": "completed"
    },
    "tags": []
   },
   "outputs": [],
   "source": [
    "Xs = {k: v for k, v in df.items() if k in ['dm', 'exam', 'labs']}\n",
    "\n",
    "dfs = Xs.values()\n",
    "\n",
    "from functools import partial, reduce \n",
    "inner_merge = partial(pd.merge, how='inner', on='SEQN') \n",
    "\n",
    "c = reduce(inner_merge, dfs)\n",
    "c\n",
    "\n",
    "# check if there are duplicated SEQN\n",
    "c.SEQN.duplicated().value_counts()\n"
   ]
  },
  {
   "cell_type": "code",
   "execution_count": null,
   "metadata": {
    "execution": {
     "iopub.execute_input": "2021-03-15T07:42:20.209280Z",
     "iopub.status.busy": "2021-03-15T07:42:20.208743Z",
     "iopub.status.idle": "2021-03-15T07:42:20.214994Z",
     "shell.execute_reply": "2021-03-15T07:42:20.215448Z"
    },
    "papermill": {
     "duration": 0.047055,
     "end_time": "2021-03-15T07:42:20.215552",
     "exception": false,
     "start_time": "2021-03-15T07:42:20.168497",
     "status": "completed"
    },
    "tags": []
   },
   "outputs": [],
   "source": [
    "# show combined df\n",
    "qs = df['qs'][['SEQN','MCQ160F']]\n",
    "qs"
   ]
  },
  {
   "cell_type": "code",
   "execution_count": null,
   "metadata": {
    "execution": {
     "iopub.execute_input": "2021-03-15T07:42:20.282741Z",
     "iopub.status.busy": "2021-03-15T07:42:20.282250Z",
     "iopub.status.idle": "2021-03-15T07:42:20.326242Z",
     "shell.execute_reply": "2021-03-15T07:42:20.326673Z"
    },
    "papermill": {
     "duration": 0.078379,
     "end_time": "2021-03-15T07:42:20.326775",
     "exception": false,
     "start_time": "2021-03-15T07:42:20.248396",
     "status": "completed"
    },
    "tags": []
   },
   "outputs": [],
   "source": [
    "c = pd.merge(c,qs, how='left', on='SEQN')\n",
    "c"
   ]
  },
  {
   "cell_type": "code",
   "execution_count": null,
   "metadata": {
    "execution": {
     "iopub.execute_input": "2021-03-15T07:42:20.399056Z",
     "iopub.status.busy": "2021-03-15T07:42:20.396955Z",
     "iopub.status.idle": "2021-03-15T07:42:20.403418Z",
     "shell.execute_reply": "2021-03-15T07:42:20.402905Z"
    },
    "papermill": {
     "duration": 0.042926,
     "end_time": "2021-03-15T07:42:20.403501",
     "exception": false,
     "start_time": "2021-03-15T07:42:20.360575",
     "status": "completed"
    },
    "tags": []
   },
   "outputs": [],
   "source": [
    "c.MCQ160F.value_counts()"
   ]
  },
  {
   "cell_type": "markdown",
   "metadata": {
    "papermill": {
     "duration": 0.033847,
     "end_time": "2021-03-15T07:42:20.471168",
     "exception": false,
     "start_time": "2021-03-15T07:42:20.437321",
     "status": "completed"
    },
    "tags": []
   },
   "source": [
    "### Exclude rows with null values or NA for MCQ160F\n",
    "The prediction target in the dataset is MCQ160F, a questionnaire question \"Has a doctor or other health professional ever told you that you had a stroke?\"\n"
   ]
  },
  {
   "cell_type": "code",
   "execution_count": null,
   "metadata": {
    "execution": {
     "iopub.execute_input": "2021-03-15T07:42:20.543703Z",
     "iopub.status.busy": "2021-03-15T07:42:20.543189Z",
     "iopub.status.idle": "2021-03-15T07:42:20.587125Z",
     "shell.execute_reply": "2021-03-15T07:42:20.587544Z"
    },
    "papermill": {
     "duration": 0.082487,
     "end_time": "2021-03-15T07:42:20.587664",
     "exception": false,
     "start_time": "2021-03-15T07:42:20.505177",
     "status": "completed"
    },
    "tags": []
   },
   "outputs": [],
   "source": [
    "# MCQ160F (target feature): exclude null values and NA\n",
    "c = c[(c.MCQ160F.notnull()) & (c.MCQ160F != 9)]\n",
    "\n",
    "# check MCQ160F\n",
    "c.MCQ160F.describe()"
   ]
  },
  {
   "cell_type": "code",
   "execution_count": null,
   "metadata": {
    "execution": {
     "iopub.execute_input": "2021-03-15T07:42:20.659220Z",
     "iopub.status.busy": "2021-03-15T07:42:20.658424Z",
     "iopub.status.idle": "2021-03-15T07:42:20.664475Z",
     "shell.execute_reply": "2021-03-15T07:42:20.664934Z"
    },
    "papermill": {
     "duration": 0.04314,
     "end_time": "2021-03-15T07:42:20.665049",
     "exception": false,
     "start_time": "2021-03-15T07:42:20.621909",
     "status": "completed"
    },
    "tags": []
   },
   "outputs": [],
   "source": [
    "# target varoable counts\n",
    "c.MCQ160F.value_counts()"
   ]
  },
  {
   "cell_type": "markdown",
   "metadata": {
    "papermill": {
     "duration": 0.034792,
     "end_time": "2021-03-15T07:42:20.734170",
     "exception": false,
     "start_time": "2021-03-15T07:42:20.699378",
     "status": "completed"
    },
    "tags": []
   },
   "source": [
    "### NHANES Labels Scraping \n",
    "- Codebook with variable and sas label parsed with Beautiful Soup:\n"
   ]
  },
  {
   "cell_type": "code",
   "execution_count": null,
   "metadata": {
    "execution": {
     "iopub.execute_input": "2021-03-15T07:42:20.807981Z",
     "iopub.status.busy": "2021-03-15T07:42:20.807169Z",
     "iopub.status.idle": "2021-03-15T07:42:20.827623Z",
     "shell.execute_reply": "2021-03-15T07:42:20.827156Z"
    },
    "papermill": {
     "duration": 0.058145,
     "end_time": "2021-03-15T07:42:20.827708",
     "exception": false,
     "start_time": "2021-03-15T07:42:20.769563",
     "status": "completed"
    },
    "tags": []
   },
   "outputs": [],
   "source": [
    "# import code book\n",
    "Labels = pd.read_csv('Datasets/NHANES_Labels.csv')\n",
    "\n",
    "Labels"
   ]
  },
  {
   "cell_type": "markdown",
   "metadata": {
    "papermill": {
     "duration": 0.035365,
     "end_time": "2021-03-15T07:42:20.898539",
     "exception": false,
     "start_time": "2021-03-15T07:42:20.863174",
     "status": "completed"
    },
    "tags": []
   },
   "source": [
    "### Data Cleaning"
   ]
  },
  {
   "cell_type": "code",
   "execution_count": null,
   "metadata": {
    "execution": {
     "iopub.execute_input": "2021-03-15T07:42:20.974262Z",
     "iopub.status.busy": "2021-03-15T07:42:20.973464Z",
     "iopub.status.idle": "2021-03-15T07:42:20.992674Z",
     "shell.execute_reply": "2021-03-15T07:42:20.992151Z"
    },
    "papermill": {
     "duration": 0.058378,
     "end_time": "2021-03-15T07:42:20.992768",
     "exception": false,
     "start_time": "2021-03-15T07:42:20.934390",
     "status": "completed"
    },
    "tags": []
   },
   "outputs": [],
   "source": [
    "# exclude non-numeric values\n",
    "d = c.select_dtypes(['number'])\n",
    "\n",
    "# exclue columns that have over 50% NaN\n",
    "d = d.dropna(thresh = 0.5*len(d), axis =1)\n",
    "\n",
    "print(len(d.columns), 'columns left')"
   ]
  },
  {
   "cell_type": "code",
   "execution_count": null,
   "metadata": {
    "execution": {
     "iopub.execute_input": "2021-03-15T07:42:21.067306Z",
     "iopub.status.busy": "2021-03-15T07:42:21.066771Z",
     "iopub.status.idle": "2021-03-15T07:42:21.162390Z",
     "shell.execute_reply": "2021-03-15T07:42:21.162792Z"
    },
    "papermill": {
     "duration": 0.133839,
     "end_time": "2021-03-15T07:42:21.162935",
     "exception": false,
     "start_time": "2021-03-15T07:42:21.029096",
     "status": "completed"
    },
    "scrolled": true,
    "tags": []
   },
   "outputs": [],
   "source": [
    "# changing target variable coding from 1, 2 to 0 (Negative), 1 (Positive)\n",
    "d['MCQ160F']=d.apply(lambda x: 1 if x.MCQ160F == 1 else 0, axis='columns')\n",
    "d.MCQ160F.value_counts()"
   ]
  },
  {
   "cell_type": "code",
   "execution_count": null,
   "metadata": {},
   "outputs": [],
   "source": []
  },
  {
   "cell_type": "markdown",
   "metadata": {},
   "source": [
    "<div id=\"ftr-selct\">\n",
    "        <h1 style=\"color:#1a1a1a\">\n",
    "              Feature Selection 🛒\n",
    "        </h1>\n",
    "</div>"
   ]
  },
  {
   "cell_type": "code",
   "execution_count": null,
   "metadata": {
    "execution": {
     "iopub.execute_input": "2021-03-15T07:42:21.317074Z",
     "iopub.status.busy": "2021-03-15T07:42:21.316522Z",
     "iopub.status.idle": "2021-03-15T07:42:21.462719Z",
     "shell.execute_reply": "2021-03-15T07:42:21.462307Z"
    },
    "papermill": {
     "duration": 0.190117,
     "end_time": "2021-03-15T07:42:21.462850",
     "exception": false,
     "start_time": "2021-03-15T07:42:21.272733",
     "status": "completed"
    },
    "tags": []
   },
   "outputs": [],
   "source": [
    "vals = d.MCQ160F.value_counts()\n",
    "\n",
    "plt.figure(figsize=(8,6))\n",
    "plt.rc('font', size=12)\n",
    "\n",
    "ax = vals.plot.bar(rot=0, color='#4B4E6D')\n",
    "\n",
    "for i in range(len(vals)):\n",
    "    ax.annotate(vals[i], xy=[vals.index[i], vals[i]], ha='center', va='bottom')"
   ]
  },
  {
   "cell_type": "code",
   "execution_count": null,
   "metadata": {
    "execution": {
     "iopub.execute_input": "2021-03-15T07:42:21.540576Z",
     "iopub.status.busy": "2021-03-15T07:42:21.540075Z",
     "iopub.status.idle": "2021-03-15T07:42:21.785294Z",
     "shell.execute_reply": "2021-03-15T07:42:21.784792Z"
    },
    "papermill": {
     "duration": 0.285519,
     "end_time": "2021-03-15T07:42:21.785397",
     "exception": false,
     "start_time": "2021-03-15T07:42:21.499878",
     "status": "completed"
    },
    "tags": []
   },
   "outputs": [],
   "source": [
    "from sklearn.impute import SimpleImputer\n",
    "imp_mode=SimpleImputer(strategy='most_frequent')\n",
    "\n",
    "d = pd.DataFrame(imp_mode.fit_transform(d), columns=d.columns)"
   ]
  },
  {
   "cell_type": "markdown",
   "metadata": {
    "papermill": {
     "duration": 0.037061,
     "end_time": "2021-03-15T07:42:21.859979",
     "exception": false,
     "start_time": "2021-03-15T07:42:21.822918",
     "status": "completed"
    },
    "tags": []
   },
   "source": [
    "### Train/Test Split"
   ]
  },
  {
   "cell_type": "code",
   "execution_count": null,
   "metadata": {
    "execution": {
     "iopub.execute_input": "2021-03-15T07:42:21.943968Z",
     "iopub.status.busy": "2021-03-15T07:42:21.943335Z",
     "iopub.status.idle": "2021-03-15T07:42:21.945964Z",
     "shell.execute_reply": "2021-03-15T07:42:21.946418Z"
    },
    "papermill": {
     "duration": 0.049497,
     "end_time": "2021-03-15T07:42:21.946548",
     "exception": false,
     "start_time": "2021-03-15T07:42:21.897051",
     "status": "completed"
    },
    "tags": []
   },
   "outputs": [],
   "source": [
    "X = d.loc[:, d.columns != 'MCQ160F']\n",
    "y = d.MCQ160F"
   ]
  },
  {
   "cell_type": "code",
   "execution_count": null,
   "metadata": {
    "execution": {
     "iopub.execute_input": "2021-03-15T07:42:22.033800Z",
     "iopub.status.busy": "2021-03-15T07:42:22.033252Z",
     "iopub.status.idle": "2021-03-15T07:42:22.035932Z",
     "shell.execute_reply": "2021-03-15T07:42:22.036541Z"
    },
    "papermill": {
     "duration": 0.047188,
     "end_time": "2021-03-15T07:42:22.036682",
     "exception": false,
     "start_time": "2021-03-15T07:42:21.989494",
     "status": "completed"
    },
    "tags": []
   },
   "outputs": [],
   "source": [
    "print('X shape:', X.shape)\n",
    "print('y shape:', y.shape)"
   ]
  },
  {
   "cell_type": "code",
   "execution_count": null,
   "metadata": {
    "execution": {
     "iopub.execute_input": "2021-03-15T07:42:22.115650Z",
     "iopub.status.busy": "2021-03-15T07:42:22.115132Z",
     "iopub.status.idle": "2021-03-15T07:42:22.123585Z",
     "shell.execute_reply": "2021-03-15T07:42:22.123154Z"
    },
    "papermill": {
     "duration": 0.048649,
     "end_time": "2021-03-15T07:42:22.123671",
     "exception": false,
     "start_time": "2021-03-15T07:42:22.075022",
     "status": "completed"
    },
    "tags": []
   },
   "outputs": [],
   "source": [
    "from sklearn.model_selection import train_test_split\n",
    "X_train, X_test, y_train, y_test = train_test_split(X, y, test_size=0.2, random_state=12)"
   ]
  },
  {
   "cell_type": "markdown",
   "metadata": {
    "papermill": {
     "duration": 0.03759,
     "end_time": "2021-03-15T07:42:22.199080",
     "exception": false,
     "start_time": "2021-03-15T07:42:22.161490",
     "status": "completed"
    },
    "tags": []
   },
   "source": [
    "### XGBClassifier for feature selection\n",
    "From the classificaiton result, the accuracy is pretty decent. However once look into the confusion matrix we can see there is only 1 correct prediction for class 1 (recall for class 1 is bad). This is commonly seen for imbalanced dataset, which the classes in the dataset have highly uneven sample sizes. Imbalanced problems is often seen in healthcare  datasets."
   ]
  },
  {
   "cell_type": "code",
   "execution_count": null,
   "metadata": {
    "execution": {
     "iopub.execute_input": "2021-03-15T07:42:22.282958Z",
     "iopub.status.busy": "2021-03-15T07:42:22.282262Z",
     "iopub.status.idle": "2021-03-15T07:42:24.323439Z",
     "shell.execute_reply": "2021-03-15T07:42:24.324366Z"
    },
    "papermill": {
     "duration": 2.086952,
     "end_time": "2021-03-15T07:42:24.324538",
     "exception": false,
     "start_time": "2021-03-15T07:42:22.237586",
     "status": "completed"
    },
    "tags": []
   },
   "outputs": [],
   "source": [
    "from xgboost import XGBClassifier\n",
    "from sklearn.metrics import classification_report, accuracy_score, confusion_matrix\n",
    "\n",
    "model = XGBClassifier()\n",
    "model.fit(X_train, y_train)\n",
    "y_pred = model.predict(X_test)\n",
    "\n",
    "accuracy = accuracy_score(y_test, y_pred)\n",
    "print(\"Accuracy: %.2f%%\" % (accuracy * 100.0))\n",
    "\n",
    "def confusion(y_test, y_pred):\n",
    "    conf = pd.DataFrame(confusion_matrix(y_test, y_pred), index=['True[0]', 'True[1]'], columns=['Predict[0]', 'Predict[1]'])\n",
    "    print('Confusion Matrix:')\n",
    "    print(conf)\n",
    "    return conf\n",
    "\n",
    "confusion(y_test, y_pred)"
   ]
  },
  {
   "cell_type": "markdown",
   "metadata": {
    "papermill": {
     "duration": 0.048935,
     "end_time": "2021-03-15T07:42:24.423540",
     "exception": false,
     "start_time": "2021-03-15T07:42:24.374605",
     "status": "completed"
    },
    "tags": []
   },
   "source": [
    "### Upsampling minority class\n",
    "In the following cells the minority class is upsampled with SMOTE (Synthetic Minority Oversampling Technique)."
   ]
  },
  {
   "cell_type": "code",
   "execution_count": null,
   "metadata": {
    "execution": {
     "iopub.execute_input": "2021-03-15T07:42:24.524078Z",
     "iopub.status.busy": "2021-03-15T07:42:24.523291Z",
     "iopub.status.idle": "2021-03-15T07:42:24.527068Z",
     "shell.execute_reply": "2021-03-15T07:42:24.526530Z"
    },
    "papermill": {
     "duration": 0.054476,
     "end_time": "2021-03-15T07:42:24.527153",
     "exception": false,
     "start_time": "2021-03-15T07:42:24.472677",
     "status": "completed"
    },
    "tags": []
   },
   "outputs": [],
   "source": [
    "y_test.value_counts()\n"
   ]
  },
  {
   "cell_type": "markdown",
   "metadata": {
    "papermill": {
     "duration": 0.038548,
     "end_time": "2021-03-15T07:42:24.604312",
     "exception": false,
     "start_time": "2021-03-15T07:42:24.565764",
     "status": "completed"
    },
    "tags": []
   },
   "source": [
    "#### Oversampling with SMOTE"
   ]
  },
  {
   "cell_type": "code",
   "execution_count": null,
   "metadata": {
    "execution": {
     "iopub.execute_input": "2021-03-15T07:42:24.686630Z",
     "iopub.status.busy": "2021-03-15T07:42:24.685987Z",
     "iopub.status.idle": "2021-03-15T07:42:24.903489Z",
     "shell.execute_reply": "2021-03-15T07:42:24.902805Z"
    },
    "papermill": {
     "duration": 0.261025,
     "end_time": "2021-03-15T07:42:24.903633",
     "exception": false,
     "start_time": "2021-03-15T07:42:24.642608",
     "status": "completed"
    },
    "tags": []
   },
   "outputs": [],
   "source": [
    "from imblearn.over_sampling import SMOTE\n",
    "\n",
    "smote = SMOTE()\n",
    "X_train_sm, y_train_sm = smote.fit_sample(X_train, y_train)\n",
    "X_test_sm, y_test_sm = smote.fit_sample(X_test, y_test)\n",
    "\n",
    "X_train_sm = pd.DataFrame(X_train_sm, columns=X.columns)\n",
    "X_test_sm = pd.DataFrame(X_test_sm, columns=X.columns)"
   ]
  },
  {
   "cell_type": "code",
   "execution_count": null,
   "metadata": {
    "execution": {
     "iopub.execute_input": "2021-03-15T07:42:24.989286Z",
     "iopub.status.busy": "2021-03-15T07:42:24.988657Z",
     "iopub.status.idle": "2021-03-15T07:42:24.992349Z",
     "shell.execute_reply": "2021-03-15T07:42:24.991609Z"
    },
    "papermill": {
     "duration": 0.048717,
     "end_time": "2021-03-15T07:42:24.992470",
     "exception": false,
     "start_time": "2021-03-15T07:42:24.943753",
     "status": "completed"
    },
    "tags": []
   },
   "outputs": [],
   "source": [
    "print(y_train_sm.value_counts())\n",
    "print(y_test_sm.value_counts())"
   ]
  },
  {
   "cell_type": "markdown",
   "metadata": {
    "papermill": {
     "duration": 0.040982,
     "end_time": "2021-03-15T07:42:25.073755",
     "exception": false,
     "start_time": "2021-03-15T07:42:25.032773",
     "status": "completed"
    },
    "tags": []
   },
   "source": [
    "#### Check the Classification Result Again\n",
    "After oversampling, the classification result is more reasonable."
   ]
  },
  {
   "cell_type": "code",
   "execution_count": null,
   "metadata": {
    "execution": {
     "iopub.execute_input": "2021-03-15T07:42:25.159289Z",
     "iopub.status.busy": "2021-03-15T07:42:25.158684Z",
     "iopub.status.idle": "2021-03-15T07:42:28.536715Z",
     "shell.execute_reply": "2021-03-15T07:42:28.537260Z"
    },
    "papermill": {
     "duration": 3.424001,
     "end_time": "2021-03-15T07:42:28.537427",
     "exception": false,
     "start_time": "2021-03-15T07:42:25.113426",
     "status": "completed"
    },
    "tags": []
   },
   "outputs": [],
   "source": [
    "model = XGBClassifier()\n",
    "model.fit(X_train_sm, y_train_sm)\n",
    "y_pred_sm = model.predict(X_test_sm)\n",
    "\n",
    "accuracy = accuracy_score(y_test_sm, y_pred_sm)\n",
    "print(\"Accuracy: %.2f%%\" % (accuracy * 100.0))\n",
    "conf = pd.DataFrame(confusion_matrix(y_test_sm, y_pred_sm), index=['True[0]', 'True[1]'], columns=['Predict[0]', 'Predict[1]'])\n",
    "conf"
   ]
  },
  {
   "cell_type": "markdown",
   "metadata": {
    "papermill": {
     "duration": 0.051396,
     "end_time": "2021-03-15T07:42:28.640591",
     "exception": false,
     "start_time": "2021-03-15T07:42:28.589195",
     "status": "completed"
    },
    "tags": []
   },
   "source": [
    "### Feature Selection with XGBoost"
   ]
  },
  {
   "cell_type": "code",
   "execution_count": null,
   "metadata": {
    "execution": {
     "iopub.execute_input": "2021-03-15T07:42:28.745046Z",
     "iopub.status.busy": "2021-03-15T07:42:28.744465Z",
     "iopub.status.idle": "2021-03-15T07:42:32.437204Z",
     "shell.execute_reply": "2021-03-15T07:42:32.437983Z"
    },
    "papermill": {
     "duration": 3.745837,
     "end_time": "2021-03-15T07:42:32.438114",
     "exception": false,
     "start_time": "2021-03-15T07:42:28.692277",
     "status": "completed"
    },
    "tags": []
   },
   "outputs": [],
   "source": [
    "from xgboost import XGBClassifier\n",
    "from matplotlib import pyplot\n",
    "\n",
    "# fit model no training data\n",
    "model = XGBClassifier()\n",
    "model.fit(X_train_sm, y_train_sm)\n",
    "\n",
    "# Features selected by XGBoost\n",
    "keys = list(model.get_booster().feature_names)\n",
    "values = list(model.feature_importances_)\n",
    "\n",
    "data = pd.DataFrame(data=values, index=keys, columns=[\"score\"]).sort_values(by = \"score\", ascending=False)\n",
    "\n",
    "# Top 24 features\n",
    "xgbfs_ = data[:24]\n",
    "\n",
    "# Plot feature score\n",
    "xgbfs_.sort_values(by='score').plot(kind='barh', figsize=(10, 8), color='#4B4E6D')\n"
   ]
  },
  {
   "cell_type": "code",
   "execution_count": null,
   "metadata": {
    "execution": {
     "iopub.execute_input": "2021-03-15T07:42:32.532394Z",
     "iopub.status.busy": "2021-03-15T07:42:32.531799Z",
     "iopub.status.idle": "2021-03-15T07:42:32.535163Z",
     "shell.execute_reply": "2021-03-15T07:42:32.535609Z"
    },
    "papermill": {
     "duration": 0.055502,
     "end_time": "2021-03-15T07:42:32.535730",
     "exception": false,
     "start_time": "2021-03-15T07:42:32.480228",
     "status": "completed"
    },
    "tags": []
   },
   "outputs": [],
   "source": [
    "xgbfs_.reset_index()"
   ]
  },
  {
   "cell_type": "markdown",
   "metadata": {
    "papermill": {
     "duration": 0.041842,
     "end_time": "2021-03-15T07:42:32.620041",
     "exception": false,
     "start_time": "2021-03-15T07:42:32.578199",
     "status": "completed"
    },
    "tags": []
   },
   "source": [
    "### Merge SAS Labels from the codebook"
   ]
  },
  {
   "cell_type": "code",
   "execution_count": null,
   "metadata": {
    "execution": {
     "iopub.execute_input": "2021-03-15T07:42:32.713966Z",
     "iopub.status.busy": "2021-03-15T07:42:32.713419Z",
     "iopub.status.idle": "2021-03-15T07:42:32.725721Z",
     "shell.execute_reply": "2021-03-15T07:42:32.726167Z"
    },
    "papermill": {
     "duration": 0.063612,
     "end_time": "2021-03-15T07:42:32.726271",
     "exception": false,
     "start_time": "2021-03-15T07:42:32.662659",
     "status": "completed"
    },
    "tags": []
   },
   "outputs": [],
   "source": [
    "xgbfs = xgbfs_.reset_index()\n",
    "xgbfs.columns=['variable', 'score']\n",
    "\n",
    "xgbfs['variable'] = xgbfs['variable'].apply(lambda x: x.upper())\n",
    "\n",
    "xgbfs = pd.merge(left=xgbfs, right=cbook, left_on='variable', right_on='variable', how='left')\n",
    "xgbfs"
   ]
  },
  {
   "cell_type": "code",
   "execution_count": null,
   "metadata": {
    "execution": {
     "iopub.execute_input": "2021-03-15T07:42:32.818165Z",
     "iopub.status.busy": "2021-03-15T07:42:32.817660Z",
     "iopub.status.idle": "2021-03-15T07:42:32.821043Z",
     "shell.execute_reply": "2021-03-15T07:42:32.820591Z"
    },
    "papermill": {
     "duration": 0.050949,
     "end_time": "2021-03-15T07:42:32.821134",
     "exception": false,
     "start_time": "2021-03-15T07:42:32.770185",
     "status": "completed"
    },
    "tags": []
   },
   "outputs": [],
   "source": [
    "# final variables\n",
    "var_list = xgbfs.variable.tolist()\n",
    "var_list.append('MCQ160F')\n",
    "print(var_list)"
   ]
  },
  {
   "cell_type": "code",
   "execution_count": null,
   "metadata": {
    "execution": {
     "iopub.execute_input": "2021-03-15T07:42:32.919544Z",
     "iopub.status.busy": "2021-03-15T07:42:32.912243Z",
     "iopub.status.idle": "2021-03-15T07:42:32.941279Z",
     "shell.execute_reply": "2021-03-15T07:42:32.940742Z"
    },
    "papermill": {
     "duration": 0.077147,
     "end_time": "2021-03-15T07:42:32.941364",
     "exception": false,
     "start_time": "2021-03-15T07:42:32.864217",
     "status": "completed"
    },
    "tags": []
   },
   "outputs": [],
   "source": [
    "#final df\n",
    "df_final = d.filter(var_list)\n",
    "df_final"
   ]
  },
  {
   "cell_type": "code",
   "execution_count": null,
   "metadata": {
    "execution": {
     "iopub.execute_input": "2021-03-15T07:42:33.071289Z",
     "iopub.status.busy": "2021-03-15T07:42:33.070742Z",
     "iopub.status.idle": "2021-03-15T07:42:33.560169Z",
     "shell.execute_reply": "2021-03-15T07:42:33.559699Z"
    },
    "papermill": {
     "duration": 0.574213,
     "end_time": "2021-03-15T07:42:33.560268",
     "exception": false,
     "start_time": "2021-03-15T07:42:32.986055",
     "status": "completed"
    },
    "tags": []
   },
   "outputs": [],
   "source": [
    "# sns.axes_style(\"white\")\n",
    "ax = plt.subplots(figsize=(20,20))\n",
    "\n",
    "corr = df_final.corr()\n",
    "\n",
    "# sns.heatmap(corr, vmin=-1, vmax=1, cmap=sns.cm.rocket_r)\n",
    "sns.heatmap(corr, cmap=sns.cm.rocket_r)"
   ]
  },
  {
   "cell_type": "markdown",
   "metadata": {
    "papermill": {
     "duration": 0.045759,
     "end_time": "2021-03-15T07:42:33.652723",
     "exception": false,
     "start_time": "2021-03-15T07:42:33.606964",
     "status": "completed"
    },
    "tags": []
   },
   "source": [
    "<div id=\"model-building\">\n",
    "        <h1 style=\"color:#1a1a1a\">\n",
    "         Model Building ⚙️\n",
    "        </h1>\n",
    "</div>"
   ]
  },
  {
   "cell_type": "markdown",
   "metadata": {
    "papermill": {
     "duration": 0.046314,
     "end_time": "2021-03-15T07:42:33.745025",
     "exception": false,
     "start_time": "2021-03-15T07:42:33.698711",
     "status": "completed"
    },
    "tags": []
   },
   "source": [
    "### Train/Test Split"
   ]
  },
  {
   "cell_type": "code",
   "execution_count": null,
   "metadata": {
    "execution": {
     "iopub.execute_input": "2021-03-15T07:42:33.844428Z",
     "iopub.status.busy": "2021-03-15T07:42:33.843909Z",
     "iopub.status.idle": "2021-03-15T07:42:33.845670Z",
     "shell.execute_reply": "2021-03-15T07:42:33.846062Z"
    },
    "papermill": {
     "duration": 0.053865,
     "end_time": "2021-03-15T07:42:33.846172",
     "exception": false,
     "start_time": "2021-03-15T07:42:33.792307",
     "status": "completed"
    },
    "tags": []
   },
   "outputs": [],
   "source": [
    "X_ = df_final.loc[:, df_final.columns != 'MCQ160F']\n",
    "y = df_final.MCQ160F"
   ]
  },
  {
   "cell_type": "markdown",
   "metadata": {
    "papermill": {
     "duration": 0.045719,
     "end_time": "2021-03-15T07:42:33.937689",
     "exception": false,
     "start_time": "2021-03-15T07:42:33.891970",
     "status": "completed"
    },
    "tags": []
   },
   "source": [
    "### Data Normalization"
   ]
  },
  {
   "cell_type": "code",
   "execution_count": null,
   "metadata": {
    "execution": {
     "iopub.execute_input": "2021-03-15T07:42:34.046706Z",
     "iopub.status.busy": "2021-03-15T07:42:34.045737Z",
     "iopub.status.idle": "2021-03-15T07:42:34.088632Z",
     "shell.execute_reply": "2021-03-15T07:42:34.089212Z"
    },
    "papermill": {
     "duration": 0.103648,
     "end_time": "2021-03-15T07:42:34.089343",
     "exception": false,
     "start_time": "2021-03-15T07:42:33.985695",
     "status": "completed"
    },
    "tags": []
   },
   "outputs": [],
   "source": [
    "from sklearn.preprocessing import MinMaxScaler\n",
    "\n",
    "minmax=MinMaxScaler()\n",
    "X = pd.DataFrame(minmax.fit_transform(X_), columns=X_.columns)\n",
    "X"
   ]
  },
  {
   "cell_type": "markdown",
   "metadata": {
    "papermill": {
     "duration": 0.047069,
     "end_time": "2021-03-15T07:42:34.188205",
     "exception": false,
     "start_time": "2021-03-15T07:42:34.141136",
     "status": "completed"
    },
    "tags": []
   },
   "source": [
    "### Upsampling Minoroty Class with SMOTE\n",
    "Note that it is important to only oversample after train/test split, so the testing data will not leak."
   ]
  },
  {
   "cell_type": "code",
   "execution_count": null,
   "metadata": {
    "execution": {
     "iopub.execute_input": "2021-03-15T07:42:34.285532Z",
     "iopub.status.busy": "2021-03-15T07:42:34.285034Z",
     "iopub.status.idle": "2021-03-15T07:42:34.290654Z",
     "shell.execute_reply": "2021-03-15T07:42:34.291127Z"
    },
    "papermill": {
     "duration": 0.055826,
     "end_time": "2021-03-15T07:42:34.291235",
     "exception": false,
     "start_time": "2021-03-15T07:42:34.235409",
     "status": "completed"
    },
    "tags": []
   },
   "outputs": [],
   "source": [
    "from sklearn.model_selection import train_test_split \n",
    "\n",
    "X_train, X_test, y_train, y_test = train_test_split(X, y, random_state=11)"
   ]
  },
  {
   "cell_type": "code",
   "execution_count": null,
   "metadata": {
    "execution": {
     "iopub.execute_input": "2021-03-15T07:42:34.387681Z",
     "iopub.status.busy": "2021-03-15T07:42:34.387192Z",
     "iopub.status.idle": "2021-03-15T07:42:34.402423Z",
     "shell.execute_reply": "2021-03-15T07:42:34.402873Z"
    },
    "papermill": {
     "duration": 0.064814,
     "end_time": "2021-03-15T07:42:34.402987",
     "exception": false,
     "start_time": "2021-03-15T07:42:34.338173",
     "status": "completed"
    },
    "tags": []
   },
   "outputs": [],
   "source": [
    "from imblearn.over_sampling import SMOTE\n",
    "\n",
    "smote = SMOTE()\n",
    "X_train_sm, y_train_sm = smote.fit_sample(X_train, y_train)\n",
    "# X_test_sm, y_test_sm = smote.fit_sample(X_test, y_test)\n",
    "\n",
    "X_train_sm = pd.DataFrame(X_train_sm, columns=X.columns)\n",
    "# X_test_sm = pd.DataFrame(X_test_sm, columns=X.columns)"
   ]
  },
  {
   "cell_type": "code",
   "execution_count": null,
   "metadata": {
    "execution": {
     "iopub.execute_input": "2021-03-15T07:42:34.499301Z",
     "iopub.status.busy": "2021-03-15T07:42:34.498778Z",
     "iopub.status.idle": "2021-03-15T07:42:34.507458Z",
     "shell.execute_reply": "2021-03-15T07:42:34.507861Z"
    },
    "papermill": {
     "duration": 0.058045,
     "end_time": "2021-03-15T07:42:34.507978",
     "exception": false,
     "start_time": "2021-03-15T07:42:34.449933",
     "status": "completed"
    },
    "tags": []
   },
   "outputs": [],
   "source": [
    "print('X train shape: ',X_train_sm.shape)\n",
    "print('y train values: \\n', y_train_sm.value_counts())\n",
    "print()\n",
    "print('X test shape: ',X_test.shape)\n",
    "print('y test values: \\n', y_test.value_counts())"
   ]
  },
  {
   "cell_type": "code",
   "execution_count": null,
   "metadata": {
    "execution": {
     "iopub.execute_input": "2021-03-15T07:42:34.606680Z",
     "iopub.status.busy": "2021-03-15T07:42:34.606185Z",
     "iopub.status.idle": "2021-03-15T07:42:34.608878Z",
     "shell.execute_reply": "2021-03-15T07:42:34.608434Z"
    },
    "papermill": {
     "duration": 0.05343,
     "end_time": "2021-03-15T07:42:34.608969",
     "exception": false,
     "start_time": "2021-03-15T07:42:34.555539",
     "status": "completed"
    },
    "tags": []
   },
   "outputs": [],
   "source": [
    "mscore=[]"
   ]
  },
  {
   "cell_type": "markdown",
   "metadata": {
    "papermill": {
     "duration": 0.04753,
     "end_time": "2021-03-15T07:42:34.704276",
     "exception": false,
     "start_time": "2021-03-15T07:42:34.656746",
     "status": "completed"
    },
    "tags": []
   },
   "source": [
    "### Logistic Regression"
   ]
  },
  {
   "cell_type": "code",
   "execution_count": null,
   "metadata": {
    "execution": {
     "iopub.execute_input": "2021-03-15T07:42:34.808581Z",
     "iopub.status.busy": "2021-03-15T07:42:34.808055Z",
     "iopub.status.idle": "2021-03-15T07:42:34.956688Z",
     "shell.execute_reply": "2021-03-15T07:42:34.957293Z"
    },
    "papermill": {
     "duration": 0.205655,
     "end_time": "2021-03-15T07:42:34.957432",
     "exception": false,
     "start_time": "2021-03-15T07:42:34.751777",
     "status": "completed"
    },
    "tags": []
   },
   "outputs": [],
   "source": [
    "from sklearn.linear_model import LogisticRegression\n",
    "\n",
    "clf = LogisticRegression(max_iter=100, solver='lbfgs', class_weight='balanced', random_state=11).fit(X_train_sm, y_train_sm)\n",
    "y_pred = clf.predict(X_test)\n",
    "\n",
    "print('Accuracy Score:', clf.score(X_test, y_test))\n",
    "print('Prediction:', y_pred)\n",
    "\n",
    "mscore.append(['Logistic Regression', clf.score(X_test, y_test)])\n",
    "\n",
    "print(classification_report(y_test, y_pred))\n",
    "confusion(y_test, y_pred)"
   ]
  },
  {
   "cell_type": "markdown",
   "metadata": {
    "papermill": {
     "duration": 0.04955,
     "end_time": "2021-03-15T07:42:35.056525",
     "exception": false,
     "start_time": "2021-03-15T07:42:35.006975",
     "status": "completed"
    },
    "tags": []
   },
   "source": [
    "### Random Forest"
   ]
  },
  {
   "cell_type": "code",
   "execution_count": null,
   "metadata": {
    "execution": {
     "iopub.execute_input": "2021-03-15T07:42:35.160120Z",
     "iopub.status.busy": "2021-03-15T07:42:35.159300Z",
     "iopub.status.idle": "2021-03-15T07:42:35.818580Z",
     "shell.execute_reply": "2021-03-15T07:42:35.818102Z"
    },
    "papermill": {
     "duration": 0.711517,
     "end_time": "2021-03-15T07:42:35.818671",
     "exception": false,
     "start_time": "2021-03-15T07:42:35.107154",
     "status": "completed"
    },
    "tags": []
   },
   "outputs": [],
   "source": [
    "from sklearn.ensemble import RandomForestClassifier\n",
    "\n",
    "rnd_clf = RandomForestClassifier(n_estimators=150, criterion='gini', max_depth=5, random_state=11)\n",
    "rnd_clf.fit(X_train_sm, y_train_sm)\n",
    "\n",
    "y_pred = rnd_clf.predict(X_test)\n",
    "\n",
    "print('Accuracy Score:', rnd_clf.score(X_test, y_test))\n",
    "print('Prediction:', y_pred)\n",
    "\n",
    "mscore.append(['Random Forest', rnd_clf.score(X_test, y_test)])\n",
    "\n",
    "print(classification_report(y_test, y_pred))\n",
    "confusion(y_test, y_pred)"
   ]
  },
  {
   "cell_type": "markdown",
   "metadata": {
    "papermill": {
     "duration": 0.049345,
     "end_time": "2021-03-15T07:42:35.917893",
     "exception": false,
     "start_time": "2021-03-15T07:42:35.868548",
     "status": "completed"
    },
    "tags": []
   },
   "source": [
    "### Gradient Boosting Decision Trees"
   ]
  },
  {
   "cell_type": "code",
   "execution_count": null,
   "metadata": {
    "execution": {
     "iopub.execute_input": "2021-03-15T07:42:36.025610Z",
     "iopub.status.busy": "2021-03-15T07:42:36.025106Z",
     "iopub.status.idle": "2021-03-15T07:42:36.156399Z",
     "shell.execute_reply": "2021-03-15T07:42:36.155539Z"
    },
    "papermill": {
     "duration": 0.18846,
     "end_time": "2021-03-15T07:42:36.156494",
     "exception": false,
     "start_time": "2021-03-15T07:42:35.968034",
     "status": "completed"
    },
    "tags": []
   },
   "outputs": [],
   "source": [
    "from sklearn.ensemble import GradientBoostingClassifier\n",
    "\n",
    "gbc = GradientBoostingClassifier(learning_rate=0.1, n_estimators=10, random_state=11)\n",
    "gbc.fit(X_train_sm, y_train_sm)\n",
    "\n",
    "y_pred = gbc.predict(X_test)\n",
    "\n",
    "print('Accuracy Score:', gbc.score(X_test, y_test))\n",
    "print('Prediction:', y_pred)\n",
    "\n",
    "mscore.append(['GradientBoosting', gbc.score(X_test, y_test)])\n",
    "\n",
    "print(classification_report(y_test, y_pred))\n",
    "confusion(y_test, y_pred)"
   ]
  },
  {
   "cell_type": "markdown",
   "metadata": {
    "papermill": {
     "duration": 0.050663,
     "end_time": "2021-03-15T07:42:36.257603",
     "exception": false,
     "start_time": "2021-03-15T07:42:36.206940",
     "status": "completed"
    },
    "tags": []
   },
   "source": [
    "### AdaBoostClassifier"
   ]
  },
  {
   "cell_type": "code",
   "execution_count": null,
   "metadata": {
    "execution": {
     "iopub.execute_input": "2021-03-15T07:42:36.366497Z",
     "iopub.status.busy": "2021-03-15T07:42:36.365672Z",
     "iopub.status.idle": "2021-03-15T07:42:36.621535Z",
     "shell.execute_reply": "2021-03-15T07:42:36.621092Z"
    },
    "papermill": {
     "duration": 0.313927,
     "end_time": "2021-03-15T07:42:36.621645",
     "exception": false,
     "start_time": "2021-03-15T07:42:36.307718",
     "status": "completed"
    },
    "tags": []
   },
   "outputs": [],
   "source": [
    "from sklearn.ensemble import AdaBoostClassifier\n",
    "\n",
    "ada = AdaBoostClassifier(learning_rate=0.01, n_estimators=30, random_state=11)\n",
    "ada.fit(X_train_sm, y_train_sm)\n",
    "\n",
    "y_pred = ada.predict(X_test)\n",
    "\n",
    "print('Accuracy Score:', ada.score(X_test, y_test))\n",
    "print('Prediction:', y_pred)\n",
    "\n",
    "mscore.append(['Adaptive Boosting', ada.score(X_test, y_test)])\n",
    "\n",
    "# from sklearn.metrics import classification_report\n",
    "print(classification_report(y_test, y_pred))\n",
    "confusion(y_test, y_pred)"
   ]
  },
  {
   "cell_type": "markdown",
   "metadata": {
    "papermill": {
     "duration": 0.051183,
     "end_time": "2021-03-15T07:42:36.724681",
     "exception": false,
     "start_time": "2021-03-15T07:42:36.673498",
     "status": "completed"
    },
    "tags": []
   },
   "source": [
    "### SVM"
   ]
  },
  {
   "cell_type": "code",
   "execution_count": null,
   "metadata": {
    "execution": {
     "iopub.execute_input": "2021-03-15T07:42:36.831317Z",
     "iopub.status.busy": "2021-03-15T07:42:36.830483Z",
     "iopub.status.idle": "2021-03-15T07:42:40.770976Z",
     "shell.execute_reply": "2021-03-15T07:42:40.771390Z"
    },
    "papermill": {
     "duration": 3.995481,
     "end_time": "2021-03-15T07:42:40.771518",
     "exception": false,
     "start_time": "2021-03-15T07:42:36.776037",
     "status": "completed"
    },
    "tags": []
   },
   "outputs": [],
   "source": [
    "from sklearn.svm import SVC\n",
    "svm_clf = SVC(kernel='sigmoid', gamma='auto', random_state=11)\n",
    "svm_clf.fit(X_train_sm, y_train_sm)\n",
    "y_pred = svm_clf.predict(X_test)\n",
    "\n",
    "print('Accuracy Score:', svm_clf.score(X_test, y_test))\n",
    "print('Prediction:', y_pred)\n",
    "\n",
    "mscore.append(['SVM', svm_clf.score(X_test, y_test)])\n",
    "\n",
    "# from sklearn.metrics import classification_report\n",
    "print(classification_report(y_test, y_pred))\n",
    "confusion(y_test, y_pred)"
   ]
  },
  {
   "cell_type": "markdown",
   "metadata": {
    "papermill": {
     "duration": 0.052733,
     "end_time": "2021-03-15T07:42:40.877863",
     "exception": false,
     "start_time": "2021-03-15T07:42:40.825130",
     "status": "completed"
    },
    "tags": []
   },
   "source": [
    "### XGBoost"
   ]
  },
  {
   "cell_type": "code",
   "execution_count": null,
   "metadata": {
    "execution": {
     "iopub.execute_input": "2021-03-15T07:42:40.992406Z",
     "iopub.status.busy": "2021-03-15T07:42:40.991762Z",
     "iopub.status.idle": "2021-03-15T07:42:41.674874Z",
     "shell.execute_reply": "2021-03-15T07:42:41.675429Z"
    },
    "papermill": {
     "duration": 0.745868,
     "end_time": "2021-03-15T07:42:41.675610",
     "exception": false,
     "start_time": "2021-03-15T07:42:40.929742",
     "status": "completed"
    },
    "tags": []
   },
   "outputs": [],
   "source": [
    "from xgboost import XGBClassifier\n",
    "\n",
    "xgbc = XGBClassifier(eta=0.01, max_depth=3)\n",
    "# xgbc = XGBClassifier(eta=0.01)\n",
    "xgbc.fit(X_train_sm, y_train_sm)\n",
    "\n",
    "y_pred = xgbc.predict(X_test)\n",
    "\n",
    "print('Accuracy Score:', svm_clf.score(X_test, y_test))\n",
    "print('Prediction:', y_pred)\n",
    "\n",
    "mscore.append(['XGBoost', xgbc.score(X_test, y_test)])\n",
    "\n",
    "from sklearn.metrics import classification_report\n",
    "print(classification_report(y_test, y_pred))\n",
    "confusion(y_test, y_pred)"
   ]
  },
  {
   "cell_type": "markdown",
   "metadata": {
    "papermill": {
     "duration": 0.069122,
     "end_time": "2021-03-15T07:42:41.814072",
     "exception": false,
     "start_time": "2021-03-15T07:42:41.744950",
     "status": "completed"
    },
    "tags": []
   },
   "source": [
    "<div id=\"model-eval\">\n",
    "        <h1 style=\"color:#1a1a1a\">\n",
    "        Model Comparison 📉\n",
    "        </h1>\n",
    "</div>"
   ]
  },
  {
   "cell_type": "code",
   "execution_count": null,
   "metadata": {
    "execution": {
     "iopub.execute_input": "2021-03-15T07:42:41.934404Z",
     "iopub.status.busy": "2021-03-15T07:42:41.933472Z",
     "iopub.status.idle": "2021-03-15T07:42:41.937302Z",
     "shell.execute_reply": "2021-03-15T07:42:41.936774Z"
    },
    "papermill": {
     "duration": 0.062209,
     "end_time": "2021-03-15T07:42:41.937408",
     "exception": false,
     "start_time": "2021-03-15T07:42:41.875199",
     "status": "completed"
    },
    "tags": []
   },
   "outputs": [],
   "source": [
    "mscore.sort(key=lambda x: x[1], reverse=True)\n",
    "mscore"
   ]
  },
  {
   "cell_type": "code",
   "execution_count": null,
   "metadata": {
    "execution": {
     "iopub.execute_input": "2021-03-15T07:42:42.046879Z",
     "iopub.status.busy": "2021-03-15T07:42:42.046278Z",
     "iopub.status.idle": "2021-03-15T07:42:42.162884Z",
     "shell.execute_reply": "2021-03-15T07:42:42.162449Z"
    },
    "papermill": {
     "duration": 0.172038,
     "end_time": "2021-03-15T07:42:42.162981",
     "exception": false,
     "start_time": "2021-03-15T07:42:41.990943",
     "status": "completed"
    },
    "tags": []
   },
   "outputs": [],
   "source": [
    "model = list(i[0] for i in mscore)\n",
    "score = list(round(i[1]*100,2) for i in mscore)\n",
    "\n",
    "print('Accracy Score: \\n')\n",
    "for m,s in zip(model, score):\n",
    "    print(f'{m}: {s}%')\n",
    "  \n",
    " \n",
    "# creating horizontal bar plot\n",
    "plt.barh(model, score, height = 0.5, color='#4B4E6D') # this color is called independence, how cool!\n",
    " \n",
    "plt.xlabel(\"Accuracy Score\")\n",
    "plt.ylabel(\"Model\")\n",
    "plt.title(\"Model Comparison\")\n",
    "plt.gca().invert_yaxis()\n",
    "plt.show()"
   ]
  }
 ],
 "metadata": {
  "kernelspec": {
   "display_name": "Python 3 (ipykernel)",
   "language": "python",
   "name": "python3"
  },
  "language_info": {
   "codemirror_mode": {
    "name": "ipython",
    "version": 3
   },
   "file_extension": ".py",
   "mimetype": "text/x-python",
   "name": "python",
   "nbconvert_exporter": "python",
   "pygments_lexer": "ipython3",
   "version": "3.9.7"
  },
  "papermill": {
   "duration": 29.189126,
   "end_time": "2021-03-15T07:42:42.433508",
   "environment_variables": {},
   "exception": null,
   "input_path": "__notebook__.ipynb",
   "output_path": "__notebook__.ipynb",
   "parameters": {},
   "start_time": "2021-03-15T07:42:13.244382",
   "version": "2.1.0"
  }
 },
 "nbformat": 4,
 "nbformat_minor": 4
}
