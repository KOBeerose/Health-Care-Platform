{
 "cells": [
  {
   "cell_type": "markdown",
   "metadata": {
    "_cell_guid": "b1076dfc-b9ad-4769-8c92-a6c4dae69d19",
    "_kg_hide-input": true,
    "_kg_hide-output": true,
    "_uuid": "8f2839f25d086af736a60e9eeb907d3b93b6e0e5",
    "execution": {
     "iopub.execute_input": "2021-03-15T07:42:17.006787Z",
     "iopub.status.busy": "2021-03-15T07:42:17.006271Z",
     "iopub.status.idle": "2021-03-15T07:42:17.029651Z",
     "shell.execute_reply": "2021-03-15T07:42:17.030271Z"
    },
    "papermill": {
     "duration": 0.060258,
     "end_time": "2021-03-15T07:42:17.030446",
     "exception": false,
     "start_time": "2021-03-15T07:42:16.970188",
     "status": "completed"
    },
    "tags": []
   },
   "source": [
    "<center><h1 style=\"color:#1a1a1a;\n",
    "                    font-size:3em\">\n",
    "        Machine Learning 🧠\n",
    "        </h1> \n",
    "        <h2 style=\"color:#1a1a1a;\n",
    "                    font-size:2em\">\n",
    "        Project: Stroke Prediction Using Machine Learning 🏥\n",
    "       </h2>\n",
    "</center>"
   ]
  },
  {
   "cell_type": "markdown",
   "metadata": {},
   "source": [
    "<div style=\"font-size:1.3em\">\n",
    "    <span>\n",
    "    Réalisé par :¶\n",
    "    </span>\n",
    "      <ul>\n",
    "         <li>ELGHABI Taha</li>\n",
    "         <li>ELBATOURI Badr-eddine</li>\n",
    "      </ul>\n",
    "    <span>\n",
    "    Encadré par :¶\n",
    "    </span>\n",
    "      <ul>\n",
    "         <li>Pr. FISSAA TARIK</li>\n",
    "      </ul>\n",
    "</div>\n"
   ]
  },
  {
   "cell_type": "markdown",
   "metadata": {},
   "source": [
    "<p style=\"font-size:2em\">📜 Table of Content:</p><br>\n",
    "<div style=\"font-size:1.5em\">\n",
    "    <ul>\n",
    "        <li>\n",
    "          <a href=\"#intro\">Introduction 🧾</a>\n",
    "       </li><br>\n",
    "       <li>\n",
    "          <a href=\"#pre-processing\">Prepare a dataset 📂</a>\n",
    "       </li><br>\n",
    "        <li>\n",
    "          <a href=\"#ftr-selct\"> Feature Selection 🛒</a>\n",
    "       </li><br>\n",
    "       <li>\n",
    "          <a href=\"#model-building\">Building models 🛠️</a>\n",
    "       </li><br>\n",
    "       <li>\n",
    "          <a href=\"#model-eval\">Model Comparison 📉</a>\n",
    "       </li><br> \n",
    "    </ul>\n",
    "</div>"
   ]
  },
  {
   "cell_type": "markdown",
   "metadata": {},
   "source": [
    "<div id=\"intro\">\n",
    "        <h1 style=\"color:#1a1a1a\">\n",
    "         Introduction 🧾\n",
    "        </h1>\n",
    "</div>"
   ]
  },
  {
   "cell_type": "markdown",
   "metadata": {
    "papermill": {
     "duration": 0.030848,
     "end_time": "2021-03-15T07:42:17.093522",
     "exception": false,
     "start_time": "2021-03-15T07:42:17.062674",
     "status": "completed"
    },
    "tags": []
   },
   "source": [
    "Stroke is the fifth cause of death in the United States, according to the Heart Disease and Stroke Statistics 2020 report. Those who suffer from stroke, if luckily survived, may also suffer from expensive medical bills and even disability. Foreseeing the underlying risk factors of stroke is highly valuable to stroke screening and prevention. In this project, the National Health and Nutrition Examination Survey (NHANES) data from the National Center for Health Statistics (NCHS) is used to develop machine learning models. The NHANES dataset holds an abundance of variables, ranging from demographics, medical history, physical examinations, biochemistry to dietary and lifestyle questionnaires. Known features contributing to stroke, such as blood pressure, serum cholesterol level, alcohol consumption, weight, etc., and additional features will be selected for correlation evaluation and machine learning model development. \n",
    "\n",
    "Main elements include data cleaning, imbalance dataset processing, feature selection from over 1,000 variables, and model training."
   ]
  },
  {
   "cell_type": "markdown",
   "metadata": {},
   "source": [
    "<h4 style=\"color:grey\"> Importing Liberaries</h4>"
   ]
  },
  {
   "cell_type": "code",
   "execution_count": 1,
   "metadata": {
    "execution": {
     "iopub.execute_input": "2021-03-15T07:42:17.160029Z",
     "iopub.status.busy": "2021-03-15T07:42:17.159327Z",
     "iopub.status.idle": "2021-03-15T07:42:17.977609Z",
     "shell.execute_reply": "2021-03-15T07:42:17.978078Z"
    },
    "papermill": {
     "duration": 0.853655,
     "end_time": "2021-03-15T07:42:17.978223",
     "exception": false,
     "start_time": "2021-03-15T07:42:17.124568",
     "status": "completed"
    },
    "tags": []
   },
   "outputs": [],
   "source": [
    "# Setup Matplotlib to plot inline ( within the notebook ) \n",
    "%matplotlib inline\n",
    "import matplotlib\n",
    "\n",
    "# Import the pyplot module of Matplotlib as plt\n",
    "import matplotlib.pyplot as plt\n",
    "\n",
    "# Import pandas under the abbreviation 'pd'\n",
    "import pandas as pd\n",
    "\n",
    "# Import numPy under the abbreviation 'np'\n",
    "import numpy as np\n",
    "\n",
    "import sklearn\n",
    "import seaborn as sns"
   ]
  },
  {
   "cell_type": "code",
   "execution_count": 2,
   "metadata": {},
   "outputs": [],
   "source": [
    "#  ignore wornings\n",
    "import warnings\n",
    "\n",
    "warnings.filterwarnings(\"ignore\")"
   ]
  },
  {
   "cell_type": "markdown",
   "metadata": {},
   "source": [
    "<div id=\"#pre-processing\">\n",
    "        <h1 style=\"color:#1a1a1a\">\n",
    "            Prepare a dataset 📂\n",
    "        </h1>\n",
    "</div>"
   ]
  },
  {
   "cell_type": "markdown",
   "metadata": {
    "papermill": {
     "duration": 0.031322,
     "end_time": "2021-03-15T07:42:18.041746",
     "exception": false,
     "start_time": "2021-03-15T07:42:18.010424",
     "status": "completed"
    },
    "tags": []
   },
   "source": [
    "### Datasets\n",
    "- NHANES Datasets<br><br>\n",
    "https://www.kaggle.com/cdc/national-health-and-nutrition-examination-survey\n",
    "<br><br>\n",
    "- Variable Search<br><br>\n",
    "https://wwwn.cdc.gov/nchs/nhanes/search/default.aspx\n",
    "<br><br>\n",
    "- Varibles Labels<br><br>\n",
    "https://wwwn.cdc.gov/nchs/nhanes/Search/DataPage.aspx?Component=Demographics&CycleBeginYear=2013\n",
    "<br><br>\n"
   ]
  },
  {
   "cell_type": "code",
   "execution_count": 3,
   "metadata": {
    "execution": {
     "iopub.execute_input": "2021-03-15T07:42:18.107288Z",
     "iopub.status.busy": "2021-03-15T07:42:18.106473Z",
     "iopub.status.idle": "2021-03-15T07:42:18.110797Z",
     "shell.execute_reply": "2021-03-15T07:42:18.111204Z"
    },
    "papermill": {
     "duration": 0.038274,
     "end_time": "2021-03-15T07:42:18.111315",
     "exception": false,
     "start_time": "2021-03-15T07:42:18.073041",
     "status": "completed"
    },
    "tags": []
   },
   "outputs": [],
   "source": [
    "# datasets path and df names\n",
    "path = [\n",
    "    'Datasets/demographic.csv',\n",
    "    'Datasets/examination.csv',\n",
    "    'Datasets/questionnaire.csv',\n",
    "    'Datasets/labs.csv',\n",
    "    'Datasets/diet.csv'  \n",
    "]\n",
    "\n",
    "dfname = [\n",
    "    'dm',\n",
    "    'exam',\n",
    "    'qs',\n",
    "    'lab',\n",
    "    'diet'\n",
    "]"
   ]
  },
  {
   "cell_type": "code",
   "execution_count": 4,
   "metadata": {
    "execution": {
     "iopub.execute_input": "2021-03-15T07:42:18.176914Z",
     "iopub.status.busy": "2021-03-15T07:42:18.176122Z",
     "iopub.status.idle": "2021-03-15T07:42:19.995636Z",
     "shell.execute_reply": "2021-03-15T07:42:19.995018Z"
    },
    "papermill": {
     "duration": 1.853036,
     "end_time": "2021-03-15T07:42:19.995739",
     "exception": false,
     "start_time": "2021-03-15T07:42:18.142703",
     "status": "completed"
    },
    "tags": []
   },
   "outputs": [],
   "source": [
    "# import datasets as dfs\n",
    "\n",
    "df = {}\n",
    "dfn = dict(zip(dfname, path))\n",
    "df = {key: pd.read_csv(value) for key, value in dfn.items()}"
   ]
  },
  {
   "cell_type": "code",
   "execution_count": 5,
   "metadata": {
    "execution": {
     "iopub.execute_input": "2021-03-15T07:42:20.071145Z",
     "iopub.status.busy": "2021-03-15T07:42:20.070126Z",
     "iopub.status.idle": "2021-03-15T07:42:20.136468Z",
     "shell.execute_reply": "2021-03-15T07:42:20.136029Z"
    },
    "papermill": {
     "duration": 0.107357,
     "end_time": "2021-03-15T07:42:20.136565",
     "exception": false,
     "start_time": "2021-03-15T07:42:20.029208",
     "status": "completed"
    },
    "tags": []
   },
   "outputs": [
    {
     "data": {
      "text/plain": [
       "False    9813\n",
       "Name: SEQN, dtype: int64"
      ]
     },
     "execution_count": 5,
     "metadata": {},
     "output_type": "execute_result"
    }
   ],
   "source": [
    "Xs = {k: v for k, v in df.items() if k in ['dm', 'exam', 'labs']}\n",
    "\n",
    "dfs = Xs.values()\n",
    "\n",
    "from functools import partial, reduce \n",
    "inner_merge = partial(pd.merge, how='inner', on='SEQN') \n",
    "\n",
    "c = reduce(inner_merge, dfs)\n",
    "c\n",
    "\n",
    "# check if there are duplicated SEQN\n",
    "c.SEQN.duplicated().value_counts()\n"
   ]
  },
  {
   "cell_type": "code",
   "execution_count": 6,
   "metadata": {
    "execution": {
     "iopub.execute_input": "2021-03-15T07:42:20.209280Z",
     "iopub.status.busy": "2021-03-15T07:42:20.208743Z",
     "iopub.status.idle": "2021-03-15T07:42:20.214994Z",
     "shell.execute_reply": "2021-03-15T07:42:20.215448Z"
    },
    "papermill": {
     "duration": 0.047055,
     "end_time": "2021-03-15T07:42:20.215552",
     "exception": false,
     "start_time": "2021-03-15T07:42:20.168497",
     "status": "completed"
    },
    "tags": []
   },
   "outputs": [
    {
     "data": {
      "text/html": [
       "<div>\n",
       "<style scoped>\n",
       "    .dataframe tbody tr th:only-of-type {\n",
       "        vertical-align: middle;\n",
       "    }\n",
       "\n",
       "    .dataframe tbody tr th {\n",
       "        vertical-align: top;\n",
       "    }\n",
       "\n",
       "    .dataframe thead th {\n",
       "        text-align: right;\n",
       "    }\n",
       "</style>\n",
       "<table border=\"1\" class=\"dataframe\">\n",
       "  <thead>\n",
       "    <tr style=\"text-align: right;\">\n",
       "      <th></th>\n",
       "      <th>SEQN</th>\n",
       "      <th>MCQ160F</th>\n",
       "    </tr>\n",
       "  </thead>\n",
       "  <tbody>\n",
       "    <tr>\n",
       "      <th>0</th>\n",
       "      <td>73557</td>\n",
       "      <td>1.0</td>\n",
       "    </tr>\n",
       "    <tr>\n",
       "      <th>1</th>\n",
       "      <td>73558</td>\n",
       "      <td>2.0</td>\n",
       "    </tr>\n",
       "    <tr>\n",
       "      <th>2</th>\n",
       "      <td>73559</td>\n",
       "      <td>2.0</td>\n",
       "    </tr>\n",
       "    <tr>\n",
       "      <th>3</th>\n",
       "      <td>73560</td>\n",
       "      <td>NaN</td>\n",
       "    </tr>\n",
       "    <tr>\n",
       "      <th>4</th>\n",
       "      <td>73561</td>\n",
       "      <td>2.0</td>\n",
       "    </tr>\n",
       "    <tr>\n",
       "      <th>...</th>\n",
       "      <td>...</td>\n",
       "      <td>...</td>\n",
       "    </tr>\n",
       "    <tr>\n",
       "      <th>10170</th>\n",
       "      <td>83727</td>\n",
       "      <td>2.0</td>\n",
       "    </tr>\n",
       "    <tr>\n",
       "      <th>10171</th>\n",
       "      <td>83728</td>\n",
       "      <td>NaN</td>\n",
       "    </tr>\n",
       "    <tr>\n",
       "      <th>10172</th>\n",
       "      <td>83729</td>\n",
       "      <td>2.0</td>\n",
       "    </tr>\n",
       "    <tr>\n",
       "      <th>10173</th>\n",
       "      <td>83730</td>\n",
       "      <td>NaN</td>\n",
       "    </tr>\n",
       "    <tr>\n",
       "      <th>10174</th>\n",
       "      <td>83731</td>\n",
       "      <td>NaN</td>\n",
       "    </tr>\n",
       "  </tbody>\n",
       "</table>\n",
       "<p>10175 rows × 2 columns</p>\n",
       "</div>"
      ],
      "text/plain": [
       "        SEQN  MCQ160F\n",
       "0      73557      1.0\n",
       "1      73558      2.0\n",
       "2      73559      2.0\n",
       "3      73560      NaN\n",
       "4      73561      2.0\n",
       "...      ...      ...\n",
       "10170  83727      2.0\n",
       "10171  83728      NaN\n",
       "10172  83729      2.0\n",
       "10173  83730      NaN\n",
       "10174  83731      NaN\n",
       "\n",
       "[10175 rows x 2 columns]"
      ]
     },
     "execution_count": 6,
     "metadata": {},
     "output_type": "execute_result"
    }
   ],
   "source": [
    "# show combined df\n",
    "qs = df['qs'][['SEQN','MCQ160F']]\n",
    "qs"
   ]
  },
  {
   "cell_type": "code",
   "execution_count": 7,
   "metadata": {
    "execution": {
     "iopub.execute_input": "2021-03-15T07:42:20.282741Z",
     "iopub.status.busy": "2021-03-15T07:42:20.282250Z",
     "iopub.status.idle": "2021-03-15T07:42:20.326242Z",
     "shell.execute_reply": "2021-03-15T07:42:20.326673Z"
    },
    "papermill": {
     "duration": 0.078379,
     "end_time": "2021-03-15T07:42:20.326775",
     "exception": false,
     "start_time": "2021-03-15T07:42:20.248396",
     "status": "completed"
    },
    "tags": []
   },
   "outputs": [
    {
     "data": {
      "text/html": [
       "<div>\n",
       "<style scoped>\n",
       "    .dataframe tbody tr th:only-of-type {\n",
       "        vertical-align: middle;\n",
       "    }\n",
       "\n",
       "    .dataframe tbody tr th {\n",
       "        vertical-align: top;\n",
       "    }\n",
       "\n",
       "    .dataframe thead th {\n",
       "        text-align: right;\n",
       "    }\n",
       "</style>\n",
       "<table border=\"1\" class=\"dataframe\">\n",
       "  <thead>\n",
       "    <tr style=\"text-align: right;\">\n",
       "      <th></th>\n",
       "      <th>SEQN</th>\n",
       "      <th>SDDSRVYR</th>\n",
       "      <th>RIDSTATR</th>\n",
       "      <th>RIAGENDR</th>\n",
       "      <th>RIDAGEYR</th>\n",
       "      <th>RIDAGEMN</th>\n",
       "      <th>RIDRETH1</th>\n",
       "      <th>RIDRETH3</th>\n",
       "      <th>RIDEXMON</th>\n",
       "      <th>RIDEXAGM</th>\n",
       "      <th>...</th>\n",
       "      <th>CSXSOAOD</th>\n",
       "      <th>CSXGRAOD</th>\n",
       "      <th>CSXONOD</th>\n",
       "      <th>CSXNGSOD</th>\n",
       "      <th>CSXSLTRT</th>\n",
       "      <th>CSXSLTRG</th>\n",
       "      <th>CSXNART</th>\n",
       "      <th>CSXNARG</th>\n",
       "      <th>CSAEFFRT</th>\n",
       "      <th>MCQ160F</th>\n",
       "    </tr>\n",
       "  </thead>\n",
       "  <tbody>\n",
       "    <tr>\n",
       "      <th>0</th>\n",
       "      <td>73557</td>\n",
       "      <td>8</td>\n",
       "      <td>2</td>\n",
       "      <td>1</td>\n",
       "      <td>69</td>\n",
       "      <td>NaN</td>\n",
       "      <td>4</td>\n",
       "      <td>4</td>\n",
       "      <td>1.0</td>\n",
       "      <td>NaN</td>\n",
       "      <td>...</td>\n",
       "      <td>1.0</td>\n",
       "      <td>1.0</td>\n",
       "      <td>1.0</td>\n",
       "      <td>4.0</td>\n",
       "      <td>62.0</td>\n",
       "      <td>1.0</td>\n",
       "      <td>NaN</td>\n",
       "      <td>NaN</td>\n",
       "      <td>1.0</td>\n",
       "      <td>1.0</td>\n",
       "    </tr>\n",
       "    <tr>\n",
       "      <th>1</th>\n",
       "      <td>73558</td>\n",
       "      <td>8</td>\n",
       "      <td>2</td>\n",
       "      <td>1</td>\n",
       "      <td>54</td>\n",
       "      <td>NaN</td>\n",
       "      <td>3</td>\n",
       "      <td>3</td>\n",
       "      <td>1.0</td>\n",
       "      <td>NaN</td>\n",
       "      <td>...</td>\n",
       "      <td>1.0</td>\n",
       "      <td>2.0</td>\n",
       "      <td>3.0</td>\n",
       "      <td>4.0</td>\n",
       "      <td>28.0</td>\n",
       "      <td>1.0</td>\n",
       "      <td>NaN</td>\n",
       "      <td>NaN</td>\n",
       "      <td>1.0</td>\n",
       "      <td>2.0</td>\n",
       "    </tr>\n",
       "    <tr>\n",
       "      <th>2</th>\n",
       "      <td>73559</td>\n",
       "      <td>8</td>\n",
       "      <td>2</td>\n",
       "      <td>1</td>\n",
       "      <td>72</td>\n",
       "      <td>NaN</td>\n",
       "      <td>3</td>\n",
       "      <td>3</td>\n",
       "      <td>2.0</td>\n",
       "      <td>NaN</td>\n",
       "      <td>...</td>\n",
       "      <td>1.0</td>\n",
       "      <td>2.0</td>\n",
       "      <td>3.0</td>\n",
       "      <td>4.0</td>\n",
       "      <td>49.0</td>\n",
       "      <td>1.0</td>\n",
       "      <td>NaN</td>\n",
       "      <td>NaN</td>\n",
       "      <td>3.0</td>\n",
       "      <td>2.0</td>\n",
       "    </tr>\n",
       "    <tr>\n",
       "      <th>3</th>\n",
       "      <td>73560</td>\n",
       "      <td>8</td>\n",
       "      <td>2</td>\n",
       "      <td>1</td>\n",
       "      <td>9</td>\n",
       "      <td>NaN</td>\n",
       "      <td>3</td>\n",
       "      <td>3</td>\n",
       "      <td>1.0</td>\n",
       "      <td>119.0</td>\n",
       "      <td>...</td>\n",
       "      <td>NaN</td>\n",
       "      <td>NaN</td>\n",
       "      <td>NaN</td>\n",
       "      <td>NaN</td>\n",
       "      <td>NaN</td>\n",
       "      <td>NaN</td>\n",
       "      <td>NaN</td>\n",
       "      <td>NaN</td>\n",
       "      <td>NaN</td>\n",
       "      <td>NaN</td>\n",
       "    </tr>\n",
       "    <tr>\n",
       "      <th>4</th>\n",
       "      <td>73561</td>\n",
       "      <td>8</td>\n",
       "      <td>2</td>\n",
       "      <td>2</td>\n",
       "      <td>73</td>\n",
       "      <td>NaN</td>\n",
       "      <td>3</td>\n",
       "      <td>3</td>\n",
       "      <td>1.0</td>\n",
       "      <td>NaN</td>\n",
       "      <td>...</td>\n",
       "      <td>1.0</td>\n",
       "      <td>4.0</td>\n",
       "      <td>3.0</td>\n",
       "      <td>4.0</td>\n",
       "      <td>NaN</td>\n",
       "      <td>NaN</td>\n",
       "      <td>NaN</td>\n",
       "      <td>NaN</td>\n",
       "      <td>1.0</td>\n",
       "      <td>2.0</td>\n",
       "    </tr>\n",
       "    <tr>\n",
       "      <th>...</th>\n",
       "      <td>...</td>\n",
       "      <td>...</td>\n",
       "      <td>...</td>\n",
       "      <td>...</td>\n",
       "      <td>...</td>\n",
       "      <td>...</td>\n",
       "      <td>...</td>\n",
       "      <td>...</td>\n",
       "      <td>...</td>\n",
       "      <td>...</td>\n",
       "      <td>...</td>\n",
       "      <td>...</td>\n",
       "      <td>...</td>\n",
       "      <td>...</td>\n",
       "      <td>...</td>\n",
       "      <td>...</td>\n",
       "      <td>...</td>\n",
       "      <td>...</td>\n",
       "      <td>...</td>\n",
       "      <td>...</td>\n",
       "      <td>...</td>\n",
       "    </tr>\n",
       "    <tr>\n",
       "      <th>9808</th>\n",
       "      <td>83727</td>\n",
       "      <td>8</td>\n",
       "      <td>2</td>\n",
       "      <td>1</td>\n",
       "      <td>26</td>\n",
       "      <td>NaN</td>\n",
       "      <td>2</td>\n",
       "      <td>2</td>\n",
       "      <td>2.0</td>\n",
       "      <td>NaN</td>\n",
       "      <td>...</td>\n",
       "      <td>NaN</td>\n",
       "      <td>NaN</td>\n",
       "      <td>NaN</td>\n",
       "      <td>NaN</td>\n",
       "      <td>NaN</td>\n",
       "      <td>NaN</td>\n",
       "      <td>NaN</td>\n",
       "      <td>NaN</td>\n",
       "      <td>NaN</td>\n",
       "      <td>2.0</td>\n",
       "    </tr>\n",
       "    <tr>\n",
       "      <th>9809</th>\n",
       "      <td>83728</td>\n",
       "      <td>8</td>\n",
       "      <td>2</td>\n",
       "      <td>2</td>\n",
       "      <td>2</td>\n",
       "      <td>24.0</td>\n",
       "      <td>1</td>\n",
       "      <td>1</td>\n",
       "      <td>2.0</td>\n",
       "      <td>24.0</td>\n",
       "      <td>...</td>\n",
       "      <td>NaN</td>\n",
       "      <td>NaN</td>\n",
       "      <td>NaN</td>\n",
       "      <td>NaN</td>\n",
       "      <td>NaN</td>\n",
       "      <td>NaN</td>\n",
       "      <td>NaN</td>\n",
       "      <td>NaN</td>\n",
       "      <td>NaN</td>\n",
       "      <td>NaN</td>\n",
       "    </tr>\n",
       "    <tr>\n",
       "      <th>9810</th>\n",
       "      <td>83729</td>\n",
       "      <td>8</td>\n",
       "      <td>2</td>\n",
       "      <td>2</td>\n",
       "      <td>42</td>\n",
       "      <td>NaN</td>\n",
       "      <td>4</td>\n",
       "      <td>4</td>\n",
       "      <td>2.0</td>\n",
       "      <td>NaN</td>\n",
       "      <td>...</td>\n",
       "      <td>1.0</td>\n",
       "      <td>1.0</td>\n",
       "      <td>3.0</td>\n",
       "      <td>4.0</td>\n",
       "      <td>55.0</td>\n",
       "      <td>1.0</td>\n",
       "      <td>NaN</td>\n",
       "      <td>NaN</td>\n",
       "      <td>3.0</td>\n",
       "      <td>2.0</td>\n",
       "    </tr>\n",
       "    <tr>\n",
       "      <th>9811</th>\n",
       "      <td>83730</td>\n",
       "      <td>8</td>\n",
       "      <td>2</td>\n",
       "      <td>1</td>\n",
       "      <td>7</td>\n",
       "      <td>NaN</td>\n",
       "      <td>2</td>\n",
       "      <td>2</td>\n",
       "      <td>1.0</td>\n",
       "      <td>84.0</td>\n",
       "      <td>...</td>\n",
       "      <td>NaN</td>\n",
       "      <td>NaN</td>\n",
       "      <td>NaN</td>\n",
       "      <td>NaN</td>\n",
       "      <td>NaN</td>\n",
       "      <td>NaN</td>\n",
       "      <td>NaN</td>\n",
       "      <td>NaN</td>\n",
       "      <td>NaN</td>\n",
       "      <td>NaN</td>\n",
       "    </tr>\n",
       "    <tr>\n",
       "      <th>9812</th>\n",
       "      <td>83731</td>\n",
       "      <td>8</td>\n",
       "      <td>2</td>\n",
       "      <td>1</td>\n",
       "      <td>11</td>\n",
       "      <td>NaN</td>\n",
       "      <td>5</td>\n",
       "      <td>6</td>\n",
       "      <td>1.0</td>\n",
       "      <td>140.0</td>\n",
       "      <td>...</td>\n",
       "      <td>NaN</td>\n",
       "      <td>NaN</td>\n",
       "      <td>NaN</td>\n",
       "      <td>NaN</td>\n",
       "      <td>NaN</td>\n",
       "      <td>NaN</td>\n",
       "      <td>NaN</td>\n",
       "      <td>NaN</td>\n",
       "      <td>NaN</td>\n",
       "      <td>NaN</td>\n",
       "    </tr>\n",
       "  </tbody>\n",
       "</table>\n",
       "<p>9813 rows × 271 columns</p>\n",
       "</div>"
      ],
      "text/plain": [
       "       SEQN  SDDSRVYR  RIDSTATR  RIAGENDR  RIDAGEYR  RIDAGEMN  RIDRETH1  \\\n",
       "0     73557         8         2         1        69       NaN         4   \n",
       "1     73558         8         2         1        54       NaN         3   \n",
       "2     73559         8         2         1        72       NaN         3   \n",
       "3     73560         8         2         1         9       NaN         3   \n",
       "4     73561         8         2         2        73       NaN         3   \n",
       "...     ...       ...       ...       ...       ...       ...       ...   \n",
       "9808  83727         8         2         1        26       NaN         2   \n",
       "9809  83728         8         2         2         2      24.0         1   \n",
       "9810  83729         8         2         2        42       NaN         4   \n",
       "9811  83730         8         2         1         7       NaN         2   \n",
       "9812  83731         8         2         1        11       NaN         5   \n",
       "\n",
       "      RIDRETH3  RIDEXMON  RIDEXAGM  ...  CSXSOAOD  CSXGRAOD  CSXONOD  \\\n",
       "0            4       1.0       NaN  ...       1.0       1.0      1.0   \n",
       "1            3       1.0       NaN  ...       1.0       2.0      3.0   \n",
       "2            3       2.0       NaN  ...       1.0       2.0      3.0   \n",
       "3            3       1.0     119.0  ...       NaN       NaN      NaN   \n",
       "4            3       1.0       NaN  ...       1.0       4.0      3.0   \n",
       "...        ...       ...       ...  ...       ...       ...      ...   \n",
       "9808         2       2.0       NaN  ...       NaN       NaN      NaN   \n",
       "9809         1       2.0      24.0  ...       NaN       NaN      NaN   \n",
       "9810         4       2.0       NaN  ...       1.0       1.0      3.0   \n",
       "9811         2       1.0      84.0  ...       NaN       NaN      NaN   \n",
       "9812         6       1.0     140.0  ...       NaN       NaN      NaN   \n",
       "\n",
       "      CSXNGSOD  CSXSLTRT  CSXSLTRG  CSXNART  CSXNARG  CSAEFFRT  MCQ160F  \n",
       "0          4.0      62.0       1.0      NaN      NaN       1.0      1.0  \n",
       "1          4.0      28.0       1.0      NaN      NaN       1.0      2.0  \n",
       "2          4.0      49.0       1.0      NaN      NaN       3.0      2.0  \n",
       "3          NaN       NaN       NaN      NaN      NaN       NaN      NaN  \n",
       "4          4.0       NaN       NaN      NaN      NaN       1.0      2.0  \n",
       "...        ...       ...       ...      ...      ...       ...      ...  \n",
       "9808       NaN       NaN       NaN      NaN      NaN       NaN      2.0  \n",
       "9809       NaN       NaN       NaN      NaN      NaN       NaN      NaN  \n",
       "9810       4.0      55.0       1.0      NaN      NaN       3.0      2.0  \n",
       "9811       NaN       NaN       NaN      NaN      NaN       NaN      NaN  \n",
       "9812       NaN       NaN       NaN      NaN      NaN       NaN      NaN  \n",
       "\n",
       "[9813 rows x 271 columns]"
      ]
     },
     "execution_count": 7,
     "metadata": {},
     "output_type": "execute_result"
    }
   ],
   "source": [
    "c = pd.merge(c,qs, how='left', on='SEQN')\n",
    "c"
   ]
  },
  {
   "cell_type": "code",
   "execution_count": 8,
   "metadata": {
    "execution": {
     "iopub.execute_input": "2021-03-15T07:42:20.399056Z",
     "iopub.status.busy": "2021-03-15T07:42:20.396955Z",
     "iopub.status.idle": "2021-03-15T07:42:20.403418Z",
     "shell.execute_reply": "2021-03-15T07:42:20.402905Z"
    },
    "papermill": {
     "duration": 0.042926,
     "end_time": "2021-03-15T07:42:20.403501",
     "exception": false,
     "start_time": "2021-03-15T07:42:20.360575",
     "status": "completed"
    },
    "tags": []
   },
   "outputs": [
    {
     "data": {
      "text/plain": [
       "2.0    5389\n",
       "1.0     194\n",
       "9.0       5\n",
       "Name: MCQ160F, dtype: int64"
      ]
     },
     "execution_count": 8,
     "metadata": {},
     "output_type": "execute_result"
    }
   ],
   "source": [
    "c.MCQ160F.value_counts()"
   ]
  },
  {
   "cell_type": "markdown",
   "metadata": {
    "papermill": {
     "duration": 0.033847,
     "end_time": "2021-03-15T07:42:20.471168",
     "exception": false,
     "start_time": "2021-03-15T07:42:20.437321",
     "status": "completed"
    },
    "tags": []
   },
   "source": [
    "### Exclude rows with null values or NA for MCQ160F\n",
    "The prediction target in the dataset is MCQ160F, a questionnaire question \"Has a doctor or other health professional ever told you that you had a stroke?\"\n"
   ]
  },
  {
   "cell_type": "code",
   "execution_count": 9,
   "metadata": {
    "execution": {
     "iopub.execute_input": "2021-03-15T07:42:20.543703Z",
     "iopub.status.busy": "2021-03-15T07:42:20.543189Z",
     "iopub.status.idle": "2021-03-15T07:42:20.587125Z",
     "shell.execute_reply": "2021-03-15T07:42:20.587544Z"
    },
    "papermill": {
     "duration": 0.082487,
     "end_time": "2021-03-15T07:42:20.587664",
     "exception": false,
     "start_time": "2021-03-15T07:42:20.505177",
     "status": "completed"
    },
    "tags": []
   },
   "outputs": [
    {
     "data": {
      "text/plain": [
       "count    5583.000000\n",
       "mean        1.965252\n",
       "std         0.183158\n",
       "min         1.000000\n",
       "25%         2.000000\n",
       "50%         2.000000\n",
       "75%         2.000000\n",
       "max         2.000000\n",
       "Name: MCQ160F, dtype: float64"
      ]
     },
     "execution_count": 9,
     "metadata": {},
     "output_type": "execute_result"
    }
   ],
   "source": [
    "# MCQ160F (target feature): exclude null values and NA\n",
    "c = c[(c.MCQ160F.notnull()) & (c.MCQ160F != 9)]\n",
    "\n",
    "# check MCQ160F\n",
    "c.MCQ160F.describe()"
   ]
  },
  {
   "cell_type": "code",
   "execution_count": 10,
   "metadata": {
    "execution": {
     "iopub.execute_input": "2021-03-15T07:42:20.659220Z",
     "iopub.status.busy": "2021-03-15T07:42:20.658424Z",
     "iopub.status.idle": "2021-03-15T07:42:20.664475Z",
     "shell.execute_reply": "2021-03-15T07:42:20.664934Z"
    },
    "papermill": {
     "duration": 0.04314,
     "end_time": "2021-03-15T07:42:20.665049",
     "exception": false,
     "start_time": "2021-03-15T07:42:20.621909",
     "status": "completed"
    },
    "tags": []
   },
   "outputs": [
    {
     "data": {
      "text/plain": [
       "2.0    5389\n",
       "1.0     194\n",
       "Name: MCQ160F, dtype: int64"
      ]
     },
     "execution_count": 10,
     "metadata": {},
     "output_type": "execute_result"
    }
   ],
   "source": [
    "# target varoable counts\n",
    "c.MCQ160F.value_counts()"
   ]
  },
  {
   "cell_type": "markdown",
   "metadata": {
    "papermill": {
     "duration": 0.034792,
     "end_time": "2021-03-15T07:42:20.734170",
     "exception": false,
     "start_time": "2021-03-15T07:42:20.699378",
     "status": "completed"
    },
    "tags": []
   },
   "source": [
    "### NHANES Labels Scraping \n",
    "- Codebook with variable and sas label parsed with Beautiful Soup:\n"
   ]
  },
  {
   "cell_type": "code",
   "execution_count": 11,
   "metadata": {
    "execution": {
     "iopub.execute_input": "2021-03-15T07:42:20.807981Z",
     "iopub.status.busy": "2021-03-15T07:42:20.807169Z",
     "iopub.status.idle": "2021-03-15T07:42:20.827623Z",
     "shell.execute_reply": "2021-03-15T07:42:20.827156Z"
    },
    "papermill": {
     "duration": 0.058145,
     "end_time": "2021-03-15T07:42:20.827708",
     "exception": false,
     "start_time": "2021-03-15T07:42:20.769563",
     "status": "completed"
    },
    "tags": []
   },
   "outputs": [
    {
     "data": {
      "text/html": [
       "<div>\n",
       "<style scoped>\n",
       "    .dataframe tbody tr th:only-of-type {\n",
       "        vertical-align: middle;\n",
       "    }\n",
       "\n",
       "    .dataframe tbody tr th {\n",
       "        vertical-align: top;\n",
       "    }\n",
       "\n",
       "    .dataframe thead th {\n",
       "        text-align: right;\n",
       "    }\n",
       "</style>\n",
       "<table border=\"1\" class=\"dataframe\">\n",
       "  <thead>\n",
       "    <tr style=\"text-align: right;\">\n",
       "      <th></th>\n",
       "      <th>variable</th>\n",
       "      <th>label</th>\n",
       "    </tr>\n",
       "  </thead>\n",
       "  <tbody>\n",
       "    <tr>\n",
       "      <th>0</th>\n",
       "      <td>SEQN</td>\n",
       "      <td>Respondent sequence number</td>\n",
       "    </tr>\n",
       "    <tr>\n",
       "      <th>1</th>\n",
       "      <td>SDDSRVYR</td>\n",
       "      <td>Data release cycle</td>\n",
       "    </tr>\n",
       "    <tr>\n",
       "      <th>2</th>\n",
       "      <td>RIDSTATR</td>\n",
       "      <td>Interview/Examination status</td>\n",
       "    </tr>\n",
       "    <tr>\n",
       "      <th>3</th>\n",
       "      <td>RIAGENDR</td>\n",
       "      <td>Gender</td>\n",
       "    </tr>\n",
       "    <tr>\n",
       "      <th>4</th>\n",
       "      <td>RIDAGEYR</td>\n",
       "      <td>Age in years at screening</td>\n",
       "    </tr>\n",
       "    <tr>\n",
       "      <th>...</th>\n",
       "      <td>...</td>\n",
       "      <td>...</td>\n",
       "    </tr>\n",
       "    <tr>\n",
       "      <th>3846</th>\n",
       "      <td>WHD140</td>\n",
       "      <td>Self-reported greatest weight (pounds)</td>\n",
       "    </tr>\n",
       "    <tr>\n",
       "      <th>3847</th>\n",
       "      <td>WHQ150</td>\n",
       "      <td>Age when heaviest weight</td>\n",
       "    </tr>\n",
       "    <tr>\n",
       "      <th>3848</th>\n",
       "      <td>WHQ030M</td>\n",
       "      <td>How do you consider your weight</td>\n",
       "    </tr>\n",
       "    <tr>\n",
       "      <th>3849</th>\n",
       "      <td>WHQ500</td>\n",
       "      <td>Trying to do about weight</td>\n",
       "    </tr>\n",
       "    <tr>\n",
       "      <th>3850</th>\n",
       "      <td>WHQ520</td>\n",
       "      <td>How often tried to lose weight</td>\n",
       "    </tr>\n",
       "  </tbody>\n",
       "</table>\n",
       "<p>3851 rows × 2 columns</p>\n",
       "</div>"
      ],
      "text/plain": [
       "      variable                                   label\n",
       "0         SEQN              Respondent sequence number\n",
       "1     SDDSRVYR                      Data release cycle\n",
       "2     RIDSTATR            Interview/Examination status\n",
       "3     RIAGENDR                                  Gender\n",
       "4     RIDAGEYR               Age in years at screening\n",
       "...        ...                                     ...\n",
       "3846    WHD140  Self-reported greatest weight (pounds)\n",
       "3847    WHQ150                Age when heaviest weight\n",
       "3848   WHQ030M         How do you consider your weight\n",
       "3849    WHQ500               Trying to do about weight\n",
       "3850    WHQ520          How often tried to lose weight\n",
       "\n",
       "[3851 rows x 2 columns]"
      ]
     },
     "execution_count": 11,
     "metadata": {},
     "output_type": "execute_result"
    }
   ],
   "source": [
    "# import code book\n",
    "Labels = pd.read_csv('Datasets/NHANES_Labels.csv')\n",
    "\n",
    "Labels"
   ]
  },
  {
   "cell_type": "markdown",
   "metadata": {
    "papermill": {
     "duration": 0.035365,
     "end_time": "2021-03-15T07:42:20.898539",
     "exception": false,
     "start_time": "2021-03-15T07:42:20.863174",
     "status": "completed"
    },
    "tags": []
   },
   "source": [
    "### Data Cleaning"
   ]
  },
  {
   "cell_type": "code",
   "execution_count": 12,
   "metadata": {
    "execution": {
     "iopub.execute_input": "2021-03-15T07:42:20.974262Z",
     "iopub.status.busy": "2021-03-15T07:42:20.973464Z",
     "iopub.status.idle": "2021-03-15T07:42:20.992674Z",
     "shell.execute_reply": "2021-03-15T07:42:20.992151Z"
    },
    "papermill": {
     "duration": 0.058378,
     "end_time": "2021-03-15T07:42:20.992768",
     "exception": false,
     "start_time": "2021-03-15T07:42:20.934390",
     "status": "completed"
    },
    "tags": []
   },
   "outputs": [
    {
     "name": "stdout",
     "output_type": "stream",
     "text": [
      "153 columns left\n"
     ]
    }
   ],
   "source": [
    "# exclude non-numeric values\n",
    "d = c.select_dtypes(['number'])\n",
    "\n",
    "# exclue columns that have over 50% NaN\n",
    "d = d.dropna(thresh = 0.5*len(d), axis =1)\n",
    "\n",
    "print(len(d.columns), 'columns left')"
   ]
  },
  {
   "cell_type": "code",
   "execution_count": 13,
   "metadata": {
    "execution": {
     "iopub.execute_input": "2021-03-15T07:42:21.067306Z",
     "iopub.status.busy": "2021-03-15T07:42:21.066771Z",
     "iopub.status.idle": "2021-03-15T07:42:21.162390Z",
     "shell.execute_reply": "2021-03-15T07:42:21.162792Z"
    },
    "papermill": {
     "duration": 0.133839,
     "end_time": "2021-03-15T07:42:21.162935",
     "exception": false,
     "start_time": "2021-03-15T07:42:21.029096",
     "status": "completed"
    },
    "scrolled": true,
    "tags": []
   },
   "outputs": [
    {
     "data": {
      "text/plain": [
       "0    5389\n",
       "1     194\n",
       "Name: MCQ160F, dtype: int64"
      ]
     },
     "execution_count": 13,
     "metadata": {},
     "output_type": "execute_result"
    }
   ],
   "source": [
    "# changing target variable coding from 1, 2 to 0 (Negative), 1 (Positive)\n",
    "d['MCQ160F']=d.apply(lambda x: 1 if x.MCQ160F == 1 else 0, axis='columns')\n",
    "d.MCQ160F.value_counts()"
   ]
  },
  {
   "cell_type": "code",
   "execution_count": null,
   "metadata": {},
   "outputs": [],
   "source": []
  },
  {
   "cell_type": "markdown",
   "metadata": {},
   "source": [
    "<div id=\"ftr-selct\">\n",
    "        <h1 style=\"color:#1a1a1a\">\n",
    "              Feature Selection 🛒\n",
    "        </h1>\n",
    "</div>"
   ]
  },
  {
   "cell_type": "code",
   "execution_count": 14,
   "metadata": {
    "execution": {
     "iopub.execute_input": "2021-03-15T07:42:21.317074Z",
     "iopub.status.busy": "2021-03-15T07:42:21.316522Z",
     "iopub.status.idle": "2021-03-15T07:42:21.462719Z",
     "shell.execute_reply": "2021-03-15T07:42:21.462307Z"
    },
    "papermill": {
     "duration": 0.190117,
     "end_time": "2021-03-15T07:42:21.462850",
     "exception": false,
     "start_time": "2021-03-15T07:42:21.272733",
     "status": "completed"
    },
    "tags": []
   },
   "outputs": [
    {
     "data": {
      "image/png": "[encoded data removed]",
      "text/plain": [
       "<Figure size 576x432 with 1 Axes>"
      ]
     },
     "metadata": {
      "needs_background": "light"
     },
     "output_type": "display_data"
    }
   ],
   "source": [
    "vals = d.MCQ160F.value_counts()\n",
    "\n",
    "plt.figure(figsize=(8,6))\n",
    "plt.rc('font', size=12)\n",
    "\n",
    "ax = vals.plot.bar(rot=0, color='#4B4E6D')\n",
    "\n",
    "for i in range(len(vals)):\n",
    "    ax.annotate(vals[i], xy=[vals.index[i], vals[i]], ha='center', va='bottom')"
   ]
  },
  {
   "cell_type": "code",
   "execution_count": 15,
   "metadata": {
    "execution": {
     "iopub.execute_input": "2021-03-15T07:42:21.540576Z",
     "iopub.status.busy": "2021-03-15T07:42:21.540075Z",
     "iopub.status.idle": "2021-03-15T07:42:21.785294Z",
     "shell.execute_reply": "2021-03-15T07:42:21.784792Z"
    },
    "papermill": {
     "duration": 0.285519,
     "end_time": "2021-03-15T07:42:21.785397",
     "exception": false,
     "start_time": "2021-03-15T07:42:21.499878",
     "status": "completed"
    },
    "tags": []
   },
   "outputs": [],
   "source": [
    "from sklearn.impute import SimpleImputer\n",
    "imp_mode=SimpleImputer(strategy='most_frequent')\n",
    "\n",
    "d = pd.DataFrame(imp_mode.fit_transform(d), columns=d.columns)"
   ]
  },
  {
   "cell_type": "markdown",
   "metadata": {
    "papermill": {
     "duration": 0.037061,
     "end_time": "2021-03-15T07:42:21.859979",
     "exception": false,
     "start_time": "2021-03-15T07:42:21.822918",
     "status": "completed"
    },
    "tags": []
   },
   "source": [
    "### Train/Test Split"
   ]
  },
  {
   "cell_type": "code",
   "execution_count": 16,
   "metadata": {
    "execution": {
     "iopub.execute_input": "2021-03-15T07:42:21.943968Z",
     "iopub.status.busy": "2021-03-15T07:42:21.943335Z",
     "iopub.status.idle": "2021-03-15T07:42:21.945964Z",
     "shell.execute_reply": "2021-03-15T07:42:21.946418Z"
    },
    "papermill": {
     "duration": 0.049497,
     "end_time": "2021-03-15T07:42:21.946548",
     "exception": false,
     "start_time": "2021-03-15T07:42:21.897051",
     "status": "completed"
    },
    "tags": []
   },
   "outputs": [],
   "source": [
    "X = d.loc[:, d.columns != 'MCQ160F']\n",
    "y = d.MCQ160F"
   ]
  },
  {
   "cell_type": "code",
   "execution_count": 17,
   "metadata": {
    "execution": {
     "iopub.execute_input": "2021-03-15T07:42:22.033800Z",
     "iopub.status.busy": "2021-03-15T07:42:22.033252Z",
     "iopub.status.idle": "2021-03-15T07:42:22.035932Z",
     "shell.execute_reply": "2021-03-15T07:42:22.036541Z"
    },
    "papermill": {
     "duration": 0.047188,
     "end_time": "2021-03-15T07:42:22.036682",
     "exception": false,
     "start_time": "2021-03-15T07:42:21.989494",
     "status": "completed"
    },
    "tags": []
   },
   "outputs": [
    {
     "name": "stdout",
     "output_type": "stream",
     "text": [
      "X shape: (5583, 152)\n",
      "y shape: (5583,)\n"
     ]
    }
   ],
   "source": [
    "print('X shape:', X.shape)\n",
    "print('y shape:', y.shape)"
   ]
  },
  {
   "cell_type": "code",
   "execution_count": 18,
   "metadata": {
    "execution": {
     "iopub.execute_input": "2021-03-15T07:42:22.115650Z",
     "iopub.status.busy": "2021-03-15T07:42:22.115132Z",
     "iopub.status.idle": "2021-03-15T07:42:22.123585Z",
     "shell.execute_reply": "2021-03-15T07:42:22.123154Z"
    },
    "papermill": {
     "duration": 0.048649,
     "end_time": "2021-03-15T07:42:22.123671",
     "exception": false,
     "start_time": "2021-03-15T07:42:22.075022",
     "status": "completed"
    },
    "tags": []
   },
   "outputs": [],
   "source": [
    "from sklearn.model_selection import train_test_split\n",
    "X_train, X_test, y_train, y_test = train_test_split(X, y, test_size=0.2, random_state=12)"
   ]
  },
  {
   "cell_type": "markdown",
   "metadata": {
    "papermill": {
     "duration": 0.03759,
     "end_time": "2021-03-15T07:42:22.199080",
     "exception": false,
     "start_time": "2021-03-15T07:42:22.161490",
     "status": "completed"
    },
    "tags": []
   },
   "source": [
    "### XGBClassifier for feature selection\n",
    "From the classificaiton result, the accuracy is pretty decent. However once look into the confusion matrix we can see there is only 1 correct prediction for class 1 (recall for class 1 is bad). This is commonly seen for imbalanced dataset, which the classes in the dataset have highly uneven sample sizes. Imbalanced problems is often seen in healthcare  datasets."
   ]
  },
  {
   "cell_type": "code",
   "execution_count": 19,
   "metadata": {
    "execution": {
     "iopub.execute_input": "2021-03-15T07:42:22.282958Z",
     "iopub.status.busy": "2021-03-15T07:42:22.282262Z",
     "iopub.status.idle": "2021-03-15T07:42:24.323439Z",
     "shell.execute_reply": "2021-03-15T07:42:24.324366Z"
    },
    "papermill": {
     "duration": 2.086952,
     "end_time": "2021-03-15T07:42:24.324538",
     "exception": false,
     "start_time": "2021-03-15T07:42:22.237586",
     "status": "completed"
    },
    "tags": []
   },
   "outputs": [
    {
     "name": "stdout",
     "output_type": "stream",
     "text": [
      "[12:00:32] WARNING: C:/Users/Administrator/workspace/xgboost-win64_release_1.5.1/src/learner.cc:1115: Starting in XGBoost 1.3.0, the default evaluation metric used with the objective 'binary:logistic' was changed from 'error' to 'logloss'. Explicitly set eval_metric if you'd like to restore the old behavior.\n",
      "Accuracy: 96.33%\n",
      "Confusion Matrix:\n",
      "         Predict[0]  Predict[1]\n",
      "True[0]        1075           1\n",
      "True[1]          40           1\n"
     ]
    },
    {
     "data": {
      "text/html": [
       "<div>\n",
       "<style scoped>\n",
       "    .dataframe tbody tr th:only-of-type {\n",
       "        vertical-align: middle;\n",
       "    }\n",
       "\n",
       "    .dataframe tbody tr th {\n",
       "        vertical-align: top;\n",
       "    }\n",
       "\n",
       "    .dataframe thead th {\n",
       "        text-align: right;\n",
       "    }\n",
       "</style>\n",
       "<table border=\"1\" class=\"dataframe\">\n",
       "  <thead>\n",
       "    <tr style=\"text-align: right;\">\n",
       "      <th></th>\n",
       "      <th>Predict[0]</th>\n",
       "      <th>Predict[1]</th>\n",
       "    </tr>\n",
       "  </thead>\n",
       "  <tbody>\n",
       "    <tr>\n",
       "      <th>True[0]</th>\n",
       "      <td>1075</td>\n",
       "      <td>1</td>\n",
       "    </tr>\n",
       "    <tr>\n",
       "      <th>True[1]</th>\n",
       "      <td>40</td>\n",
       "      <td>1</td>\n",
       "    </tr>\n",
       "  </tbody>\n",
       "</table>\n",
       "</div>"
      ],
      "text/plain": [
       "         Predict[0]  Predict[1]\n",
       "True[0]        1075           1\n",
       "True[1]          40           1"
      ]
     },
     "execution_count": 19,
     "metadata": {},
     "output_type": "execute_result"
    }
   ],
   "source": [
    "from xgboost import XGBClassifier\n",
    "from sklearn.metrics import classification_report, accuracy_score, confusion_matrix\n",
    "\n",
    "model = XGBClassifier()\n",
    "model.fit(X_train, y_train)\n",
    "y_pred = model.predict(X_test)\n",
    "\n",
    "accuracy = accuracy_score(y_test, y_pred)\n",
    "print(\"Accuracy: %.2f%%\" % (accuracy * 100.0))\n",
    "\n",
    "def confusion(y_test, y_pred):\n",
    "    conf = pd.DataFrame(confusion_matrix(y_test, y_pred), index=['True[0]', 'True[1]'], columns=['Predict[0]', 'Predict[1]'])\n",
    "    print('Confusion Matrix:')\n",
    "    print(conf)\n",
    "    return conf\n",
    "\n",
    "confusion(y_test, y_pred)"
   ]
  },
  {
   "cell_type": "markdown",
   "metadata": {
    "papermill": {
     "duration": 0.048935,
     "end_time": "2021-03-15T07:42:24.423540",
     "exception": false,
     "start_time": "2021-03-15T07:42:24.374605",
     "status": "completed"
    },
    "tags": []
   },
   "source": [
    "### Upsampling minority class\n",
    "In the following cells the minority class is upsampled with SMOTE (Synthetic Minority Oversampling Technique)."
   ]
  },
  {
   "cell_type": "code",
   "execution_count": 20,
   "metadata": {
    "execution": {
     "iopub.execute_input": "2021-03-15T07:42:24.524078Z",
     "iopub.status.busy": "2021-03-15T07:42:24.523291Z",
     "iopub.status.idle": "2021-03-15T07:42:24.527068Z",
     "shell.execute_reply": "2021-03-15T07:42:24.526530Z"
    },
    "papermill": {
     "duration": 0.054476,
     "end_time": "2021-03-15T07:42:24.527153",
     "exception": false,
     "start_time": "2021-03-15T07:42:24.472677",
     "status": "completed"
    },
    "tags": []
   },
   "outputs": [
    {
     "data": {
      "text/plain": [
       "0.0    1076\n",
       "1.0      41\n",
       "Name: MCQ160F, dtype: int64"
      ]
     },
     "execution_count": 20,
     "metadata": {},
     "output_type": "execute_result"
    }
   ],
   "source": [
    "y_test.value_counts()\n"
   ]
  },
  {
   "cell_type": "markdown",
   "metadata": {
    "papermill": {
     "duration": 0.038548,
     "end_time": "2021-03-15T07:42:24.604312",
     "exception": false,
     "start_time": "2021-03-15T07:42:24.565764",
     "status": "completed"
    },
    "tags": []
   },
   "source": [
    "#### Oversampling with SMOTE"
   ]
  },
  {
   "cell_type": "code",
   "execution_count": 21,
   "metadata": {
    "execution": {
     "iopub.execute_input": "2021-03-15T07:42:24.686630Z",
     "iopub.status.busy": "2021-03-15T07:42:24.685987Z",
     "iopub.status.idle": "2021-03-15T07:42:24.903489Z",
     "shell.execute_reply": "2021-03-15T07:42:24.902805Z"
    },
    "papermill": {
     "duration": 0.261025,
     "end_time": "2021-03-15T07:42:24.903633",
     "exception": false,
     "start_time": "2021-03-15T07:42:24.642608",
     "status": "completed"
    },
    "tags": []
   },
   "outputs": [],
   "source": [
    "from imblearn.over_sampling import SMOTE\n",
    "\n",
    "smote = SMOTE()\n",
    "X_train_sm, y_train_sm = smote.fit_resample(X_train, y_train)\n",
    "X_test_sm, y_test_sm = smote.fit_resample(X_test, y_test)\n",
    "\n",
    "X_train_sm = pd.DataFrame(X_train_sm, columns=X.columns)\n",
    "X_test_sm = pd.DataFrame(X_test_sm, columns=X.columns)"
   ]
  },
  {
   "cell_type": "code",
   "execution_count": 22,
   "metadata": {
    "execution": {
     "iopub.execute_input": "2021-03-15T07:42:24.989286Z",
     "iopub.status.busy": "2021-03-15T07:42:24.988657Z",
     "iopub.status.idle": "2021-03-15T07:42:24.992349Z",
     "shell.execute_reply": "2021-03-15T07:42:24.991609Z"
    },
    "papermill": {
     "duration": 0.048717,
     "end_time": "2021-03-15T07:42:24.992470",
     "exception": false,
     "start_time": "2021-03-15T07:42:24.943753",
     "status": "completed"
    },
    "tags": []
   },
   "outputs": [
    {
     "name": "stdout",
     "output_type": "stream",
     "text": [
      "0.0    4313\n",
      "1.0    4313\n",
      "Name: MCQ160F, dtype: int64\n",
      "0.0    1076\n",
      "1.0    1076\n",
      "Name: MCQ160F, dtype: int64\n"
     ]
    }
   ],
   "source": [
    "print(y_train_sm.value_counts())\n",
    "print(y_test_sm.value_counts())"
   ]
  },
  {
   "cell_type": "markdown",
   "metadata": {
    "papermill": {
     "duration": 0.040982,
     "end_time": "2021-03-15T07:42:25.073755",
     "exception": false,
     "start_time": "2021-03-15T07:42:25.032773",
     "status": "completed"
    },
    "tags": []
   },
   "source": [
    "#### Check the Classification Result Again\n",
    "After oversampling, the classification result is more reasonable."
   ]
  },
  {
   "cell_type": "code",
   "execution_count": 23,
   "metadata": {
    "execution": {
     "iopub.execute_input": "2021-03-15T07:42:25.159289Z",
     "iopub.status.busy": "2021-03-15T07:42:25.158684Z",
     "iopub.status.idle": "2021-03-15T07:42:28.536715Z",
     "shell.execute_reply": "2021-03-15T07:42:28.537260Z"
    },
    "papermill": {
     "duration": 3.424001,
     "end_time": "2021-03-15T07:42:28.537427",
     "exception": false,
     "start_time": "2021-03-15T07:42:25.113426",
     "status": "completed"
    },
    "tags": []
   },
   "outputs": [
    {
     "name": "stdout",
     "output_type": "stream",
     "text": [
      "[12:00:34] WARNING: C:/Users/Administrator/workspace/xgboost-win64_release_1.5.1/src/learner.cc:1115: Starting in XGBoost 1.3.0, the default evaluation metric used with the objective 'binary:logistic' was changed from 'error' to 'logloss'. Explicitly set eval_metric if you'd like to restore the old behavior.\n",
      "Accuracy: 95.40%\n"
     ]
    },
    {
     "data": {
      "text/html": [
       "<div>\n",
       "<style scoped>\n",
       "    .dataframe tbody tr th:only-of-type {\n",
       "        vertical-align: middle;\n",
       "    }\n",
       "\n",
       "    .dataframe tbody tr th {\n",
       "        vertical-align: top;\n",
       "    }\n",
       "\n",
       "    .dataframe thead th {\n",
       "        text-align: right;\n",
       "    }\n",
       "</style>\n",
       "<table border=\"1\" class=\"dataframe\">\n",
       "  <thead>\n",
       "    <tr style=\"text-align: right;\">\n",
       "      <th></th>\n",
       "      <th>Predict[0]</th>\n",
       "      <th>Predict[1]</th>\n",
       "    </tr>\n",
       "  </thead>\n",
       "  <tbody>\n",
       "    <tr>\n",
       "      <th>True[0]</th>\n",
       "      <td>1073</td>\n",
       "      <td>3</td>\n",
       "    </tr>\n",
       "    <tr>\n",
       "      <th>True[1]</th>\n",
       "      <td>96</td>\n",
       "      <td>980</td>\n",
       "    </tr>\n",
       "  </tbody>\n",
       "</table>\n",
       "</div>"
      ],
      "text/plain": [
       "         Predict[0]  Predict[1]\n",
       "True[0]        1073           3\n",
       "True[1]          96         980"
      ]
     },
     "execution_count": 23,
     "metadata": {},
     "output_type": "execute_result"
    }
   ],
   "source": [
    "model = XGBClassifier()\n",
    "model.fit(X_train_sm, y_train_sm)\n",
    "y_pred_sm = model.predict(X_test_sm)\n",
    "\n",
    "accuracy = accuracy_score(y_test_sm, y_pred_sm)\n",
    "print(\"Accuracy: %.2f%%\" % (accuracy * 100.0))\n",
    "conf = pd.DataFrame(confusion_matrix(y_test_sm, y_pred_sm), index=['True[0]', 'True[1]'], columns=['Predict[0]', 'Predict[1]'])\n",
    "conf"
   ]
  },
  {
   "cell_type": "markdown",
   "metadata": {
    "papermill": {
     "duration": 0.051396,
     "end_time": "2021-03-15T07:42:28.640591",
     "exception": false,
     "start_time": "2021-03-15T07:42:28.589195",
     "status": "completed"
    },
    "tags": []
   },
   "source": [
    "### Feature Selection with XGBoost"
   ]
  },
  {
   "cell_type": "code",
   "execution_count": 24,
   "metadata": {
    "execution": {
     "iopub.execute_input": "2021-03-15T07:42:28.745046Z",
     "iopub.status.busy": "2021-03-15T07:42:28.744465Z",
     "iopub.status.idle": "2021-03-15T07:42:32.437204Z",
     "shell.execute_reply": "2021-03-15T07:42:32.437983Z"
    },
    "papermill": {
     "duration": 3.745837,
     "end_time": "2021-03-15T07:42:32.438114",
     "exception": false,
     "start_time": "2021-03-15T07:42:28.692277",
     "status": "completed"
    },
    "tags": []
   },
   "outputs": [
    {
     "name": "stdout",
     "output_type": "stream",
     "text": [
      "[12:00:36] WARNING: C:/Users/Administrator/workspace/xgboost-win64_release_1.5.1/src/learner.cc:1115: Starting in XGBoost 1.3.0, the default evaluation metric used with the objective 'binary:logistic' was changed from 'error' to 'logloss'. Explicitly set eval_metric if you'd like to restore the old behavior.\n"
     ]
    },
    {
     "data": {
      "text/plain": [
       "<AxesSubplot:>"
      ]
     },
     "execution_count": 24,
     "metadata": {},
     "output_type": "execute_result"
    },
    {
     "data": {
      "image/png": "[encoded data removed]",
      "text/plain": [
       "<Figure size 720x576 with 1 Axes>"
      ]
     },
     "metadata": {
      "needs_background": "light"
     },
     "output_type": "display_data"
    }
   ],
   "source": [
    "from xgboost import XGBClassifier\n",
    "from matplotlib import pyplot\n",
    "\n",
    "# fit model no training data\n",
    "model = XGBClassifier()\n",
    "model.fit(X_train_sm, y_train_sm)\n",
    "\n",
    "# Features selected by XGBoost\n",
    "keys = list(model.get_booster().feature_names)\n",
    "values = list(model.feature_importances_)\n",
    "\n",
    "data = pd.DataFrame(data=values, index=keys, columns=[\"score\"]).sort_values(by = \"score\", ascending=False)\n",
    "\n",
    "# Top 24 features\n",
    "xgbfs_ = data[:24]\n",
    "\n",
    "# Plot feature score\n",
    "xgbfs_.sort_values(by='score').plot(kind='barh', figsize=(10, 8), color='#4B4E6D')\n"
   ]
  },
  {
   "cell_type": "code",
   "execution_count": 25,
   "metadata": {
    "execution": {
     "iopub.execute_input": "2021-03-15T07:42:32.532394Z",
     "iopub.status.busy": "2021-03-15T07:42:32.531799Z",
     "iopub.status.idle": "2021-03-15T07:42:32.535163Z",
     "shell.execute_reply": "2021-03-15T07:42:32.535609Z"
    },
    "papermill": {
     "duration": 0.055502,
     "end_time": "2021-03-15T07:42:32.535730",
     "exception": false,
     "start_time": "2021-03-15T07:42:32.480228",
     "status": "completed"
    },
    "tags": []
   },
   "outputs": [
    {
     "data": {
      "text/html": [
       "<div>\n",
       "<style scoped>\n",
       "    .dataframe tbody tr th:only-of-type {\n",
       "        vertical-align: middle;\n",
       "    }\n",
       "\n",
       "    .dataframe tbody tr th {\n",
       "        vertical-align: top;\n",
       "    }\n",
       "\n",
       "    .dataframe thead th {\n",
       "        text-align: right;\n",
       "    }\n",
       "</style>\n",
       "<table border=\"1\" class=\"dataframe\">\n",
       "  <thead>\n",
       "    <tr style=\"text-align: right;\">\n",
       "      <th></th>\n",
       "      <th>index</th>\n",
       "      <th>score</th>\n",
       "    </tr>\n",
       "  </thead>\n",
       "  <tbody>\n",
       "    <tr>\n",
       "      <th>0</th>\n",
       "      <td>OHX13TC</td>\n",
       "      <td>0.457828</td>\n",
       "    </tr>\n",
       "    <tr>\n",
       "      <th>1</th>\n",
       "      <td>OHX31TC</td>\n",
       "      <td>0.083413</td>\n",
       "    </tr>\n",
       "    <tr>\n",
       "      <th>2</th>\n",
       "      <td>OHX22TC</td>\n",
       "      <td>0.055476</td>\n",
       "    </tr>\n",
       "    <tr>\n",
       "      <th>3</th>\n",
       "      <td>OHX20TC</td>\n",
       "      <td>0.044917</td>\n",
       "    </tr>\n",
       "    <tr>\n",
       "      <th>4</th>\n",
       "      <td>OHDEXSTS</td>\n",
       "      <td>0.030556</td>\n",
       "    </tr>\n",
       "    <tr>\n",
       "      <th>5</th>\n",
       "      <td>DMDHHSZE</td>\n",
       "      <td>0.025390</td>\n",
       "    </tr>\n",
       "    <tr>\n",
       "      <th>6</th>\n",
       "      <td>OHX23TC</td>\n",
       "      <td>0.022904</td>\n",
       "    </tr>\n",
       "    <tr>\n",
       "      <th>7</th>\n",
       "      <td>OHDDESTS</td>\n",
       "      <td>0.019462</td>\n",
       "    </tr>\n",
       "    <tr>\n",
       "      <th>8</th>\n",
       "      <td>DMDBORN4</td>\n",
       "      <td>0.014271</td>\n",
       "    </tr>\n",
       "    <tr>\n",
       "      <th>9</th>\n",
       "      <td>OHX12TC</td>\n",
       "      <td>0.014230</td>\n",
       "    </tr>\n",
       "    <tr>\n",
       "      <th>10</th>\n",
       "      <td>MGQ100</td>\n",
       "      <td>0.011956</td>\n",
       "    </tr>\n",
       "    <tr>\n",
       "      <th>11</th>\n",
       "      <td>SIAPROXY</td>\n",
       "      <td>0.011208</td>\n",
       "    </tr>\n",
       "    <tr>\n",
       "      <th>12</th>\n",
       "      <td>OHX02TC</td>\n",
       "      <td>0.010522</td>\n",
       "    </tr>\n",
       "    <tr>\n",
       "      <th>13</th>\n",
       "      <td>CSXSMKOD</td>\n",
       "      <td>0.008809</td>\n",
       "    </tr>\n",
       "    <tr>\n",
       "      <th>14</th>\n",
       "      <td>OHX26TC</td>\n",
       "      <td>0.008379</td>\n",
       "    </tr>\n",
       "    <tr>\n",
       "      <th>15</th>\n",
       "      <td>OHX05TC</td>\n",
       "      <td>0.007723</td>\n",
       "    </tr>\n",
       "    <tr>\n",
       "      <th>16</th>\n",
       "      <td>RIAGENDR</td>\n",
       "      <td>0.007104</td>\n",
       "    </tr>\n",
       "    <tr>\n",
       "      <th>17</th>\n",
       "      <td>CSXONOD</td>\n",
       "      <td>0.005934</td>\n",
       "    </tr>\n",
       "    <tr>\n",
       "      <th>18</th>\n",
       "      <td>OHX32TC</td>\n",
       "      <td>0.005839</td>\n",
       "    </tr>\n",
       "    <tr>\n",
       "      <th>19</th>\n",
       "      <td>OHX14TC</td>\n",
       "      <td>0.005036</td>\n",
       "    </tr>\n",
       "    <tr>\n",
       "      <th>20</th>\n",
       "      <td>OHX06TC</td>\n",
       "      <td>0.004950</td>\n",
       "    </tr>\n",
       "    <tr>\n",
       "      <th>21</th>\n",
       "      <td>MGAPHAND</td>\n",
       "      <td>0.004937</td>\n",
       "    </tr>\n",
       "    <tr>\n",
       "      <th>22</th>\n",
       "      <td>CSXQUIPT</td>\n",
       "      <td>0.004913</td>\n",
       "    </tr>\n",
       "    <tr>\n",
       "      <th>23</th>\n",
       "      <td>OHX18TC</td>\n",
       "      <td>0.004883</td>\n",
       "    </tr>\n",
       "  </tbody>\n",
       "</table>\n",
       "</div>"
      ],
      "text/plain": [
       "       index     score\n",
       "0    OHX13TC  0.457828\n",
       "1    OHX31TC  0.083413\n",
       "2    OHX22TC  0.055476\n",
       "3    OHX20TC  0.044917\n",
       "4   OHDEXSTS  0.030556\n",
       "5   DMDHHSZE  0.025390\n",
       "6    OHX23TC  0.022904\n",
       "7   OHDDESTS  0.019462\n",
       "8   DMDBORN4  0.014271\n",
       "9    OHX12TC  0.014230\n",
       "10    MGQ100  0.011956\n",
       "11  SIAPROXY  0.011208\n",
       "12   OHX02TC  0.010522\n",
       "13  CSXSMKOD  0.008809\n",
       "14   OHX26TC  0.008379\n",
       "15   OHX05TC  0.007723\n",
       "16  RIAGENDR  0.007104\n",
       "17   CSXONOD  0.005934\n",
       "18   OHX32TC  0.005839\n",
       "19   OHX14TC  0.005036\n",
       "20   OHX06TC  0.004950\n",
       "21  MGAPHAND  0.004937\n",
       "22  CSXQUIPT  0.004913\n",
       "23   OHX18TC  0.004883"
      ]
     },
     "execution_count": 25,
     "metadata": {},
     "output_type": "execute_result"
    }
   ],
   "source": [
    "xgbfs_.reset_index()"
   ]
  },
  {
   "cell_type": "markdown",
   "metadata": {
    "papermill": {
     "duration": 0.041842,
     "end_time": "2021-03-15T07:42:32.620041",
     "exception": false,
     "start_time": "2021-03-15T07:42:32.578199",
     "status": "completed"
    },
    "tags": []
   },
   "source": [
    "### Merge SAS Labels from the codebook"
   ]
  },
  {
   "cell_type": "code",
   "execution_count": 26,
   "metadata": {
    "execution": {
     "iopub.execute_input": "2021-03-15T07:42:32.713966Z",
     "iopub.status.busy": "2021-03-15T07:42:32.713419Z",
     "iopub.status.idle": "2021-03-15T07:42:32.725721Z",
     "shell.execute_reply": "2021-03-15T07:42:32.726167Z"
    },
    "papermill": {
     "duration": 0.063612,
     "end_time": "2021-03-15T07:42:32.726271",
     "exception": false,
     "start_time": "2021-03-15T07:42:32.662659",
     "status": "completed"
    },
    "tags": []
   },
   "outputs": [
    {
     "data": {
      "text/html": [
       "<div>\n",
       "<style scoped>\n",
       "    .dataframe tbody tr th:only-of-type {\n",
       "        vertical-align: middle;\n",
       "    }\n",
       "\n",
       "    .dataframe tbody tr th {\n",
       "        vertical-align: top;\n",
       "    }\n",
       "\n",
       "    .dataframe thead th {\n",
       "        text-align: right;\n",
       "    }\n",
       "</style>\n",
       "<table border=\"1\" class=\"dataframe\">\n",
       "  <thead>\n",
       "    <tr style=\"text-align: right;\">\n",
       "      <th></th>\n",
       "      <th>variable</th>\n",
       "      <th>score</th>\n",
       "      <th>label</th>\n",
       "    </tr>\n",
       "  </thead>\n",
       "  <tbody>\n",
       "    <tr>\n",
       "      <th>0</th>\n",
       "      <td>OHX13TC</td>\n",
       "      <td>0.457828</td>\n",
       "      <td>Tooth Count:  #13</td>\n",
       "    </tr>\n",
       "    <tr>\n",
       "      <th>1</th>\n",
       "      <td>OHX31TC</td>\n",
       "      <td>0.083413</td>\n",
       "      <td>Tooth Count:  #31</td>\n",
       "    </tr>\n",
       "    <tr>\n",
       "      <th>2</th>\n",
       "      <td>OHX22TC</td>\n",
       "      <td>0.055476</td>\n",
       "      <td>Tooth Count:  #22</td>\n",
       "    </tr>\n",
       "    <tr>\n",
       "      <th>3</th>\n",
       "      <td>OHX20TC</td>\n",
       "      <td>0.044917</td>\n",
       "      <td>Tooth Count:  #20</td>\n",
       "    </tr>\n",
       "    <tr>\n",
       "      <th>4</th>\n",
       "      <td>OHDEXSTS</td>\n",
       "      <td>0.030556</td>\n",
       "      <td>Overall Oral Health Exam Status</td>\n",
       "    </tr>\n",
       "    <tr>\n",
       "      <th>5</th>\n",
       "      <td>DMDHHSZE</td>\n",
       "      <td>0.025390</td>\n",
       "      <td># of adults 60 years or older in HH</td>\n",
       "    </tr>\n",
       "    <tr>\n",
       "      <th>6</th>\n",
       "      <td>OHX23TC</td>\n",
       "      <td>0.022904</td>\n",
       "      <td>Tooth Count:  #23</td>\n",
       "    </tr>\n",
       "    <tr>\n",
       "      <th>7</th>\n",
       "      <td>OHDDESTS</td>\n",
       "      <td>0.019462</td>\n",
       "      <td>Dentition Status Code</td>\n",
       "    </tr>\n",
       "    <tr>\n",
       "      <th>8</th>\n",
       "      <td>DMDBORN4</td>\n",
       "      <td>0.014271</td>\n",
       "      <td>Country of birth</td>\n",
       "    </tr>\n",
       "    <tr>\n",
       "      <th>9</th>\n",
       "      <td>OHX12TC</td>\n",
       "      <td>0.014230</td>\n",
       "      <td>Tooth Count:  #12</td>\n",
       "    </tr>\n",
       "    <tr>\n",
       "      <th>10</th>\n",
       "      <td>MGQ100</td>\n",
       "      <td>0.011956</td>\n",
       "      <td>Recent pain/aching/stiffness-left hand</td>\n",
       "    </tr>\n",
       "    <tr>\n",
       "      <th>11</th>\n",
       "      <td>SIAPROXY</td>\n",
       "      <td>0.011208</td>\n",
       "      <td>Proxy used in SP Interview?</td>\n",
       "    </tr>\n",
       "    <tr>\n",
       "      <th>12</th>\n",
       "      <td>OHX02TC</td>\n",
       "      <td>0.010522</td>\n",
       "      <td>Tooth Count:  #2</td>\n",
       "    </tr>\n",
       "    <tr>\n",
       "      <th>13</th>\n",
       "      <td>CSXSMKOD</td>\n",
       "      <td>0.008809</td>\n",
       "      <td>Smell Test: Smoke Scent</td>\n",
       "    </tr>\n",
       "    <tr>\n",
       "      <th>14</th>\n",
       "      <td>OHX26TC</td>\n",
       "      <td>0.008379</td>\n",
       "      <td>Tooth Count:  #26</td>\n",
       "    </tr>\n",
       "    <tr>\n",
       "      <th>15</th>\n",
       "      <td>OHX05TC</td>\n",
       "      <td>0.007723</td>\n",
       "      <td>Tooth Count:  #5</td>\n",
       "    </tr>\n",
       "    <tr>\n",
       "      <th>16</th>\n",
       "      <td>RIAGENDR</td>\n",
       "      <td>0.007104</td>\n",
       "      <td>Gender</td>\n",
       "    </tr>\n",
       "    <tr>\n",
       "      <th>17</th>\n",
       "      <td>CSXONOD</td>\n",
       "      <td>0.005934</td>\n",
       "      <td>Smell Test: Onion Scent</td>\n",
       "    </tr>\n",
       "    <tr>\n",
       "      <th>18</th>\n",
       "      <td>OHX32TC</td>\n",
       "      <td>0.005839</td>\n",
       "      <td>Tooth Count:  #32</td>\n",
       "    </tr>\n",
       "    <tr>\n",
       "      <th>19</th>\n",
       "      <td>OHX14TC</td>\n",
       "      <td>0.005036</td>\n",
       "      <td>Tooth Count:  #14</td>\n",
       "    </tr>\n",
       "    <tr>\n",
       "      <th>20</th>\n",
       "      <td>OHX06TC</td>\n",
       "      <td>0.004950</td>\n",
       "      <td>Tooth Count:  #6</td>\n",
       "    </tr>\n",
       "    <tr>\n",
       "      <th>21</th>\n",
       "      <td>MGAPHAND</td>\n",
       "      <td>0.004937</td>\n",
       "      <td>Hand assigned for practice trial</td>\n",
       "    </tr>\n",
       "    <tr>\n",
       "      <th>22</th>\n",
       "      <td>CSXQUIPT</td>\n",
       "      <td>0.004913</td>\n",
       "      <td>Tongue Tip 1mM Quinine: What Was Taste?</td>\n",
       "    </tr>\n",
       "    <tr>\n",
       "      <th>23</th>\n",
       "      <td>OHX18TC</td>\n",
       "      <td>0.004883</td>\n",
       "      <td>Tooth Count:  #18</td>\n",
       "    </tr>\n",
       "  </tbody>\n",
       "</table>\n",
       "</div>"
      ],
      "text/plain": [
       "    variable     score                                    label\n",
       "0    OHX13TC  0.457828                        Tooth Count:  #13\n",
       "1    OHX31TC  0.083413                        Tooth Count:  #31\n",
       "2    OHX22TC  0.055476                        Tooth Count:  #22\n",
       "3    OHX20TC  0.044917                        Tooth Count:  #20\n",
       "4   OHDEXSTS  0.030556          Overall Oral Health Exam Status\n",
       "5   DMDHHSZE  0.025390      # of adults 60 years or older in HH\n",
       "6    OHX23TC  0.022904                        Tooth Count:  #23\n",
       "7   OHDDESTS  0.019462                    Dentition Status Code\n",
       "8   DMDBORN4  0.014271                         Country of birth\n",
       "9    OHX12TC  0.014230                        Tooth Count:  #12\n",
       "10    MGQ100  0.011956   Recent pain/aching/stiffness-left hand\n",
       "11  SIAPROXY  0.011208              Proxy used in SP Interview?\n",
       "12   OHX02TC  0.010522                         Tooth Count:  #2\n",
       "13  CSXSMKOD  0.008809                  Smell Test: Smoke Scent\n",
       "14   OHX26TC  0.008379                        Tooth Count:  #26\n",
       "15   OHX05TC  0.007723                         Tooth Count:  #5\n",
       "16  RIAGENDR  0.007104                                   Gender\n",
       "17   CSXONOD  0.005934                  Smell Test: Onion Scent\n",
       "18   OHX32TC  0.005839                        Tooth Count:  #32\n",
       "19   OHX14TC  0.005036                        Tooth Count:  #14\n",
       "20   OHX06TC  0.004950                         Tooth Count:  #6\n",
       "21  MGAPHAND  0.004937         Hand assigned for practice trial\n",
       "22  CSXQUIPT  0.004913  Tongue Tip 1mM Quinine: What Was Taste?\n",
       "23   OHX18TC  0.004883                        Tooth Count:  #18"
      ]
     },
     "execution_count": 26,
     "metadata": {},
     "output_type": "execute_result"
    }
   ],
   "source": [
    "xgbfs = xgbfs_.reset_index()\n",
    "xgbfs.columns=['variable', 'score']\n",
    "\n",
    "xgbfs['variable'] = xgbfs['variable'].apply(lambda x: x.upper())\n",
    "\n",
    "xgbfs = pd.merge(left=xgbfs, right=Labels, left_on='variable', right_on='variable', how='left')\n",
    "xgbfs"
   ]
  },
  {
   "cell_type": "code",
   "execution_count": 27,
   "metadata": {
    "execution": {
     "iopub.execute_input": "2021-03-15T07:42:32.818165Z",
     "iopub.status.busy": "2021-03-15T07:42:32.817660Z",
     "iopub.status.idle": "2021-03-15T07:42:32.821043Z",
     "shell.execute_reply": "2021-03-15T07:42:32.820591Z"
    },
    "papermill": {
     "duration": 0.050949,
     "end_time": "2021-03-15T07:42:32.821134",
     "exception": false,
     "start_time": "2021-03-15T07:42:32.770185",
     "status": "completed"
    },
    "tags": []
   },
   "outputs": [
    {
     "name": "stdout",
     "output_type": "stream",
     "text": [
      "['OHX13TC', 'OHX31TC', 'OHX22TC', 'OHX20TC', 'OHDEXSTS', 'DMDHHSZE', 'OHX23TC', 'OHDDESTS', 'DMDBORN4', 'OHX12TC', 'MGQ100', 'SIAPROXY', 'OHX02TC', 'CSXSMKOD', 'OHX26TC', 'OHX05TC', 'RIAGENDR', 'CSXONOD', 'OHX32TC', 'OHX14TC', 'OHX06TC', 'MGAPHAND', 'CSXQUIPT', 'OHX18TC', 'MCQ160F']\n"
     ]
    }
   ],
   "source": [
    "# final variables\n",
    "var_list = xgbfs.variable.tolist()\n",
    "var_list.append('MCQ160F')\n",
    "print(var_list)"
   ]
  },
  {
   "cell_type": "code",
   "execution_count": 28,
   "metadata": {
    "execution": {
     "iopub.execute_input": "2021-03-15T07:42:32.919544Z",
     "iopub.status.busy": "2021-03-15T07:42:32.912243Z",
     "iopub.status.idle": "2021-03-15T07:42:32.941279Z",
     "shell.execute_reply": "2021-03-15T07:42:32.940742Z"
    },
    "papermill": {
     "duration": 0.077147,
     "end_time": "2021-03-15T07:42:32.941364",
     "exception": false,
     "start_time": "2021-03-15T07:42:32.864217",
     "status": "completed"
    },
    "tags": []
   },
   "outputs": [
    {
     "data": {
      "text/html": [
       "<div>\n",
       "<style scoped>\n",
       "    .dataframe tbody tr th:only-of-type {\n",
       "        vertical-align: middle;\n",
       "    }\n",
       "\n",
       "    .dataframe tbody tr th {\n",
       "        vertical-align: top;\n",
       "    }\n",
       "\n",
       "    .dataframe thead th {\n",
       "        text-align: right;\n",
       "    }\n",
       "</style>\n",
       "<table border=\"1\" class=\"dataframe\">\n",
       "  <thead>\n",
       "    <tr style=\"text-align: right;\">\n",
       "      <th></th>\n",
       "      <th>OHX13TC</th>\n",
       "      <th>OHX31TC</th>\n",
       "      <th>OHX22TC</th>\n",
       "      <th>OHX20TC</th>\n",
       "      <th>OHDEXSTS</th>\n",
       "      <th>DMDHHSZE</th>\n",
       "      <th>OHX23TC</th>\n",
       "      <th>OHDDESTS</th>\n",
       "      <th>DMDBORN4</th>\n",
       "      <th>OHX12TC</th>\n",
       "      <th>...</th>\n",
       "      <th>OHX05TC</th>\n",
       "      <th>RIAGENDR</th>\n",
       "      <th>CSXONOD</th>\n",
       "      <th>OHX32TC</th>\n",
       "      <th>OHX14TC</th>\n",
       "      <th>OHX06TC</th>\n",
       "      <th>MGAPHAND</th>\n",
       "      <th>CSXQUIPT</th>\n",
       "      <th>OHX18TC</th>\n",
       "      <th>MCQ160F</th>\n",
       "    </tr>\n",
       "  </thead>\n",
       "  <tbody>\n",
       "    <tr>\n",
       "      <th>0</th>\n",
       "      <td>4.0</td>\n",
       "      <td>4.0</td>\n",
       "      <td>4.0</td>\n",
       "      <td>4.0</td>\n",
       "      <td>1.0</td>\n",
       "      <td>2.0</td>\n",
       "      <td>4.0</td>\n",
       "      <td>1.0</td>\n",
       "      <td>1.0</td>\n",
       "      <td>4.0</td>\n",
       "      <td>...</td>\n",
       "      <td>4.0</td>\n",
       "      <td>1.0</td>\n",
       "      <td>1.0</td>\n",
       "      <td>4.0</td>\n",
       "      <td>4.0</td>\n",
       "      <td>4.0</td>\n",
       "      <td>1.0</td>\n",
       "      <td>4.0</td>\n",
       "      <td>4.0</td>\n",
       "      <td>1.0</td>\n",
       "    </tr>\n",
       "    <tr>\n",
       "      <th>1</th>\n",
       "      <td>2.0</td>\n",
       "      <td>4.0</td>\n",
       "      <td>2.0</td>\n",
       "      <td>5.0</td>\n",
       "      <td>1.0</td>\n",
       "      <td>0.0</td>\n",
       "      <td>2.0</td>\n",
       "      <td>1.0</td>\n",
       "      <td>1.0</td>\n",
       "      <td>2.0</td>\n",
       "      <td>...</td>\n",
       "      <td>2.0</td>\n",
       "      <td>1.0</td>\n",
       "      <td>3.0</td>\n",
       "      <td>4.0</td>\n",
       "      <td>2.0</td>\n",
       "      <td>2.0</td>\n",
       "      <td>1.0</td>\n",
       "      <td>4.0</td>\n",
       "      <td>4.0</td>\n",
       "      <td>0.0</td>\n",
       "    </tr>\n",
       "    <tr>\n",
       "      <th>2</th>\n",
       "      <td>2.0</td>\n",
       "      <td>4.0</td>\n",
       "      <td>2.0</td>\n",
       "      <td>2.0</td>\n",
       "      <td>1.0</td>\n",
       "      <td>2.0</td>\n",
       "      <td>2.0</td>\n",
       "      <td>1.0</td>\n",
       "      <td>1.0</td>\n",
       "      <td>2.0</td>\n",
       "      <td>...</td>\n",
       "      <td>2.0</td>\n",
       "      <td>1.0</td>\n",
       "      <td>3.0</td>\n",
       "      <td>4.0</td>\n",
       "      <td>2.0</td>\n",
       "      <td>2.0</td>\n",
       "      <td>1.0</td>\n",
       "      <td>1.0</td>\n",
       "      <td>2.0</td>\n",
       "      <td>0.0</td>\n",
       "    </tr>\n",
       "    <tr>\n",
       "      <th>3</th>\n",
       "      <td>2.0</td>\n",
       "      <td>4.0</td>\n",
       "      <td>2.0</td>\n",
       "      <td>4.0</td>\n",
       "      <td>1.0</td>\n",
       "      <td>2.0</td>\n",
       "      <td>2.0</td>\n",
       "      <td>1.0</td>\n",
       "      <td>1.0</td>\n",
       "      <td>2.0</td>\n",
       "      <td>...</td>\n",
       "      <td>2.0</td>\n",
       "      <td>2.0</td>\n",
       "      <td>3.0</td>\n",
       "      <td>4.0</td>\n",
       "      <td>2.0</td>\n",
       "      <td>2.0</td>\n",
       "      <td>1.0</td>\n",
       "      <td>2.0</td>\n",
       "      <td>4.0</td>\n",
       "      <td>0.0</td>\n",
       "    </tr>\n",
       "    <tr>\n",
       "      <th>4</th>\n",
       "      <td>4.0</td>\n",
       "      <td>4.0</td>\n",
       "      <td>2.0</td>\n",
       "      <td>4.0</td>\n",
       "      <td>1.0</td>\n",
       "      <td>0.0</td>\n",
       "      <td>2.0</td>\n",
       "      <td>1.0</td>\n",
       "      <td>1.0</td>\n",
       "      <td>4.0</td>\n",
       "      <td>...</td>\n",
       "      <td>2.0</td>\n",
       "      <td>1.0</td>\n",
       "      <td>3.0</td>\n",
       "      <td>4.0</td>\n",
       "      <td>4.0</td>\n",
       "      <td>4.0</td>\n",
       "      <td>1.0</td>\n",
       "      <td>4.0</td>\n",
       "      <td>4.0</td>\n",
       "      <td>0.0</td>\n",
       "    </tr>\n",
       "    <tr>\n",
       "      <th>...</th>\n",
       "      <td>...</td>\n",
       "      <td>...</td>\n",
       "      <td>...</td>\n",
       "      <td>...</td>\n",
       "      <td>...</td>\n",
       "      <td>...</td>\n",
       "      <td>...</td>\n",
       "      <td>...</td>\n",
       "      <td>...</td>\n",
       "      <td>...</td>\n",
       "      <td>...</td>\n",
       "      <td>...</td>\n",
       "      <td>...</td>\n",
       "      <td>...</td>\n",
       "      <td>...</td>\n",
       "      <td>...</td>\n",
       "      <td>...</td>\n",
       "      <td>...</td>\n",
       "      <td>...</td>\n",
       "      <td>...</td>\n",
       "      <td>...</td>\n",
       "    </tr>\n",
       "    <tr>\n",
       "      <th>5578</th>\n",
       "      <td>4.0</td>\n",
       "      <td>5.0</td>\n",
       "      <td>2.0</td>\n",
       "      <td>4.0</td>\n",
       "      <td>1.0</td>\n",
       "      <td>2.0</td>\n",
       "      <td>2.0</td>\n",
       "      <td>1.0</td>\n",
       "      <td>1.0</td>\n",
       "      <td>4.0</td>\n",
       "      <td>...</td>\n",
       "      <td>4.0</td>\n",
       "      <td>1.0</td>\n",
       "      <td>3.0</td>\n",
       "      <td>4.0</td>\n",
       "      <td>4.0</td>\n",
       "      <td>2.0</td>\n",
       "      <td>1.0</td>\n",
       "      <td>2.0</td>\n",
       "      <td>4.0</td>\n",
       "      <td>0.0</td>\n",
       "    </tr>\n",
       "    <tr>\n",
       "      <th>5579</th>\n",
       "      <td>2.0</td>\n",
       "      <td>4.0</td>\n",
       "      <td>2.0</td>\n",
       "      <td>2.0</td>\n",
       "      <td>1.0</td>\n",
       "      <td>2.0</td>\n",
       "      <td>2.0</td>\n",
       "      <td>1.0</td>\n",
       "      <td>1.0</td>\n",
       "      <td>4.0</td>\n",
       "      <td>...</td>\n",
       "      <td>2.0</td>\n",
       "      <td>1.0</td>\n",
       "      <td>3.0</td>\n",
       "      <td>4.0</td>\n",
       "      <td>2.0</td>\n",
       "      <td>2.0</td>\n",
       "      <td>1.0</td>\n",
       "      <td>4.0</td>\n",
       "      <td>2.0</td>\n",
       "      <td>0.0</td>\n",
       "    </tr>\n",
       "    <tr>\n",
       "      <th>5580</th>\n",
       "      <td>2.0</td>\n",
       "      <td>2.0</td>\n",
       "      <td>2.0</td>\n",
       "      <td>2.0</td>\n",
       "      <td>3.0</td>\n",
       "      <td>0.0</td>\n",
       "      <td>2.0</td>\n",
       "      <td>3.0</td>\n",
       "      <td>2.0</td>\n",
       "      <td>2.0</td>\n",
       "      <td>...</td>\n",
       "      <td>2.0</td>\n",
       "      <td>1.0</td>\n",
       "      <td>3.0</td>\n",
       "      <td>4.0</td>\n",
       "      <td>2.0</td>\n",
       "      <td>2.0</td>\n",
       "      <td>2.0</td>\n",
       "      <td>1.0</td>\n",
       "      <td>2.0</td>\n",
       "      <td>0.0</td>\n",
       "    </tr>\n",
       "    <tr>\n",
       "      <th>5581</th>\n",
       "      <td>2.0</td>\n",
       "      <td>2.0</td>\n",
       "      <td>2.0</td>\n",
       "      <td>2.0</td>\n",
       "      <td>1.0</td>\n",
       "      <td>0.0</td>\n",
       "      <td>2.0</td>\n",
       "      <td>1.0</td>\n",
       "      <td>1.0</td>\n",
       "      <td>4.0</td>\n",
       "      <td>...</td>\n",
       "      <td>4.0</td>\n",
       "      <td>1.0</td>\n",
       "      <td>3.0</td>\n",
       "      <td>4.0</td>\n",
       "      <td>2.0</td>\n",
       "      <td>2.0</td>\n",
       "      <td>1.0</td>\n",
       "      <td>2.0</td>\n",
       "      <td>2.0</td>\n",
       "      <td>0.0</td>\n",
       "    </tr>\n",
       "    <tr>\n",
       "      <th>5582</th>\n",
       "      <td>2.0</td>\n",
       "      <td>2.0</td>\n",
       "      <td>2.0</td>\n",
       "      <td>2.0</td>\n",
       "      <td>1.0</td>\n",
       "      <td>0.0</td>\n",
       "      <td>2.0</td>\n",
       "      <td>1.0</td>\n",
       "      <td>2.0</td>\n",
       "      <td>2.0</td>\n",
       "      <td>...</td>\n",
       "      <td>2.0</td>\n",
       "      <td>2.0</td>\n",
       "      <td>3.0</td>\n",
       "      <td>2.0</td>\n",
       "      <td>2.0</td>\n",
       "      <td>2.0</td>\n",
       "      <td>2.0</td>\n",
       "      <td>3.0</td>\n",
       "      <td>2.0</td>\n",
       "      <td>0.0</td>\n",
       "    </tr>\n",
       "  </tbody>\n",
       "</table>\n",
       "<p>5583 rows × 25 columns</p>\n",
       "</div>"
      ],
      "text/plain": [
       "      OHX13TC  OHX31TC  OHX22TC  OHX20TC  OHDEXSTS  DMDHHSZE  OHX23TC  \\\n",
       "0         4.0      4.0      4.0      4.0       1.0       2.0      4.0   \n",
       "1         2.0      4.0      2.0      5.0       1.0       0.0      2.0   \n",
       "2         2.0      4.0      2.0      2.0       1.0       2.0      2.0   \n",
       "3         2.0      4.0      2.0      4.0       1.0       2.0      2.0   \n",
       "4         4.0      4.0      2.0      4.0       1.0       0.0      2.0   \n",
       "...       ...      ...      ...      ...       ...       ...      ...   \n",
       "5578      4.0      5.0      2.0      4.0       1.0       2.0      2.0   \n",
       "5579      2.0      4.0      2.0      2.0       1.0       2.0      2.0   \n",
       "5580      2.0      2.0      2.0      2.0       3.0       0.0      2.0   \n",
       "5581      2.0      2.0      2.0      2.0       1.0       0.0      2.0   \n",
       "5582      2.0      2.0      2.0      2.0       1.0       0.0      2.0   \n",
       "\n",
       "      OHDDESTS  DMDBORN4  OHX12TC  ...  OHX05TC  RIAGENDR  CSXONOD  OHX32TC  \\\n",
       "0          1.0       1.0      4.0  ...      4.0       1.0      1.0      4.0   \n",
       "1          1.0       1.0      2.0  ...      2.0       1.0      3.0      4.0   \n",
       "2          1.0       1.0      2.0  ...      2.0       1.0      3.0      4.0   \n",
       "3          1.0       1.0      2.0  ...      2.0       2.0      3.0      4.0   \n",
       "4          1.0       1.0      4.0  ...      2.0       1.0      3.0      4.0   \n",
       "...        ...       ...      ...  ...      ...       ...      ...      ...   \n",
       "5578       1.0       1.0      4.0  ...      4.0       1.0      3.0      4.0   \n",
       "5579       1.0       1.0      4.0  ...      2.0       1.0      3.0      4.0   \n",
       "5580       3.0       2.0      2.0  ...      2.0       1.0      3.0      4.0   \n",
       "5581       1.0       1.0      4.0  ...      4.0       1.0      3.0      4.0   \n",
       "5582       1.0       2.0      2.0  ...      2.0       2.0      3.0      2.0   \n",
       "\n",
       "      OHX14TC  OHX06TC  MGAPHAND  CSXQUIPT  OHX18TC  MCQ160F  \n",
       "0         4.0      4.0       1.0       4.0      4.0      1.0  \n",
       "1         2.0      2.0       1.0       4.0      4.0      0.0  \n",
       "2         2.0      2.0       1.0       1.0      2.0      0.0  \n",
       "3         2.0      2.0       1.0       2.0      4.0      0.0  \n",
       "4         4.0      4.0       1.0       4.0      4.0      0.0  \n",
       "...       ...      ...       ...       ...      ...      ...  \n",
       "5578      4.0      2.0       1.0       2.0      4.0      0.0  \n",
       "5579      2.0      2.0       1.0       4.0      2.0      0.0  \n",
       "5580      2.0      2.0       2.0       1.0      2.0      0.0  \n",
       "5581      2.0      2.0       1.0       2.0      2.0      0.0  \n",
       "5582      2.0      2.0       2.0       3.0      2.0      0.0  \n",
       "\n",
       "[5583 rows x 25 columns]"
      ]
     },
     "execution_count": 28,
     "metadata": {},
     "output_type": "execute_result"
    }
   ],
   "source": [
    "#final df\n",
    "df_final = d.filter(var_list)\n",
    "df_final"
   ]
  },
  {
   "cell_type": "code",
   "execution_count": 29,
   "metadata": {
    "execution": {
     "iopub.execute_input": "2021-03-15T07:42:33.071289Z",
     "iopub.status.busy": "2021-03-15T07:42:33.070742Z",
     "iopub.status.idle": "2021-03-15T07:42:33.560169Z",
     "shell.execute_reply": "2021-03-15T07:42:33.559699Z"
    },
    "papermill": {
     "duration": 0.574213,
     "end_time": "2021-03-15T07:42:33.560268",
     "exception": false,
     "start_time": "2021-03-15T07:42:32.986055",
     "status": "completed"
    },
    "tags": []
   },
   "outputs": [
    {
     "data": {
      "text/plain": [
       "<AxesSubplot:>"
      ]
     },
     "execution_count": 29,
     "metadata": {},
     "output_type": "execute_result"
    },
    {
     "data": {
      "image/png": "[encoded data removed]",
      "text/plain": [
       "<Figure size 1440x1440 with 2 Axes>"
      ]
     },
     "metadata": {
      "needs_background": "light"
     },
     "output_type": "display_data"
    }
   ],
   "source": [
    "# sns.axes_style(\"white\")\n",
    "ax = plt.subplots(figsize=(20,20))\n",
    "\n",
    "corr = df_final.corr()\n",
    "\n",
    "# sns.heatmap(corr, vmin=-1, vmax=1, cmap=sns.cm.rocket_r)\n",
    "sns.heatmap(corr, cmap=sns.cm.rocket_r)"
   ]
  },
  {
   "cell_type": "markdown",
   "metadata": {
    "papermill": {
     "duration": 0.045759,
     "end_time": "2021-03-15T07:42:33.652723",
     "exception": false,
     "start_time": "2021-03-15T07:42:33.606964",
     "status": "completed"
    },
    "tags": []
   },
   "source": [
    "<div id=\"model-building\">\n",
    "        <h1 style=\"color:#1a1a1a\">\n",
    "         Model Building ⚙️\n",
    "        </h1>\n",
    "</div>"
   ]
  },
  {
   "cell_type": "markdown",
   "metadata": {
    "papermill": {
     "duration": 0.046314,
     "end_time": "2021-03-15T07:42:33.745025",
     "exception": false,
     "start_time": "2021-03-15T07:42:33.698711",
     "status": "completed"
    },
    "tags": []
   },
   "source": [
    "### Train/Test Split"
   ]
  },
  {
   "cell_type": "code",
   "execution_count": 30,
   "metadata": {
    "execution": {
     "iopub.execute_input": "2021-03-15T07:42:33.844428Z",
     "iopub.status.busy": "2021-03-15T07:42:33.843909Z",
     "iopub.status.idle": "2021-03-15T07:42:33.845670Z",
     "shell.execute_reply": "2021-03-15T07:42:33.846062Z"
    },
    "papermill": {
     "duration": 0.053865,
     "end_time": "2021-03-15T07:42:33.846172",
     "exception": false,
     "start_time": "2021-03-15T07:42:33.792307",
     "status": "completed"
    },
    "tags": []
   },
   "outputs": [],
   "source": [
    "X_ = df_final.loc[:, df_final.columns != 'MCQ160F']\n",
    "y = df_final.MCQ160F"
   ]
  },
  {
   "cell_type": "markdown",
   "metadata": {
    "papermill": {
     "duration": 0.045719,
     "end_time": "2021-03-15T07:42:33.937689",
     "exception": false,
     "start_time": "2021-03-15T07:42:33.891970",
     "status": "completed"
    },
    "tags": []
   },
   "source": [
    "### Data Normalization"
   ]
  },
  {
   "cell_type": "code",
   "execution_count": 31,
   "metadata": {
    "execution": {
     "iopub.execute_input": "2021-03-15T07:42:34.046706Z",
     "iopub.status.busy": "2021-03-15T07:42:34.045737Z",
     "iopub.status.idle": "2021-03-15T07:42:34.088632Z",
     "shell.execute_reply": "2021-03-15T07:42:34.089212Z"
    },
    "papermill": {
     "duration": 0.103648,
     "end_time": "2021-03-15T07:42:34.089343",
     "exception": false,
     "start_time": "2021-03-15T07:42:33.985695",
     "status": "completed"
    },
    "tags": []
   },
   "outputs": [
    {
     "data": {
      "text/html": [
       "<div>\n",
       "<style scoped>\n",
       "    .dataframe tbody tr th:only-of-type {\n",
       "        vertical-align: middle;\n",
       "    }\n",
       "\n",
       "    .dataframe tbody tr th {\n",
       "        vertical-align: top;\n",
       "    }\n",
       "\n",
       "    .dataframe thead th {\n",
       "        text-align: right;\n",
       "    }\n",
       "</style>\n",
       "<table border=\"1\" class=\"dataframe\">\n",
       "  <thead>\n",
       "    <tr style=\"text-align: right;\">\n",
       "      <th></th>\n",
       "      <th>OHX13TC</th>\n",
       "      <th>OHX31TC</th>\n",
       "      <th>OHX22TC</th>\n",
       "      <th>OHX20TC</th>\n",
       "      <th>OHDEXSTS</th>\n",
       "      <th>DMDHHSZE</th>\n",
       "      <th>OHX23TC</th>\n",
       "      <th>OHDDESTS</th>\n",
       "      <th>DMDBORN4</th>\n",
       "      <th>OHX12TC</th>\n",
       "      <th>...</th>\n",
       "      <th>OHX26TC</th>\n",
       "      <th>OHX05TC</th>\n",
       "      <th>RIAGENDR</th>\n",
       "      <th>CSXONOD</th>\n",
       "      <th>OHX32TC</th>\n",
       "      <th>OHX14TC</th>\n",
       "      <th>OHX06TC</th>\n",
       "      <th>MGAPHAND</th>\n",
       "      <th>CSXQUIPT</th>\n",
       "      <th>OHX18TC</th>\n",
       "    </tr>\n",
       "  </thead>\n",
       "  <tbody>\n",
       "    <tr>\n",
       "      <th>0</th>\n",
       "      <td>0.75</td>\n",
       "      <td>0.666667</td>\n",
       "      <td>0.666667</td>\n",
       "      <td>0.75</td>\n",
       "      <td>0.0</td>\n",
       "      <td>0.666667</td>\n",
       "      <td>0.666667</td>\n",
       "      <td>0.0</td>\n",
       "      <td>0.000000</td>\n",
       "      <td>0.666667</td>\n",
       "      <td>...</td>\n",
       "      <td>0.666667</td>\n",
       "      <td>0.666667</td>\n",
       "      <td>0.0</td>\n",
       "      <td>0.000000</td>\n",
       "      <td>0.666667</td>\n",
       "      <td>0.666667</td>\n",
       "      <td>0.75</td>\n",
       "      <td>0.0</td>\n",
       "      <td>0.75</td>\n",
       "      <td>0.666667</td>\n",
       "    </tr>\n",
       "    <tr>\n",
       "      <th>1</th>\n",
       "      <td>0.25</td>\n",
       "      <td>0.666667</td>\n",
       "      <td>0.000000</td>\n",
       "      <td>1.00</td>\n",
       "      <td>0.0</td>\n",
       "      <td>0.000000</td>\n",
       "      <td>0.000000</td>\n",
       "      <td>0.0</td>\n",
       "      <td>0.000000</td>\n",
       "      <td>0.000000</td>\n",
       "      <td>...</td>\n",
       "      <td>0.000000</td>\n",
       "      <td>0.000000</td>\n",
       "      <td>0.0</td>\n",
       "      <td>0.666667</td>\n",
       "      <td>0.666667</td>\n",
       "      <td>0.000000</td>\n",
       "      <td>0.25</td>\n",
       "      <td>0.0</td>\n",
       "      <td>0.75</td>\n",
       "      <td>0.666667</td>\n",
       "    </tr>\n",
       "    <tr>\n",
       "      <th>2</th>\n",
       "      <td>0.25</td>\n",
       "      <td>0.666667</td>\n",
       "      <td>0.000000</td>\n",
       "      <td>0.25</td>\n",
       "      <td>0.0</td>\n",
       "      <td>0.666667</td>\n",
       "      <td>0.000000</td>\n",
       "      <td>0.0</td>\n",
       "      <td>0.000000</td>\n",
       "      <td>0.000000</td>\n",
       "      <td>...</td>\n",
       "      <td>0.000000</td>\n",
       "      <td>0.000000</td>\n",
       "      <td>0.0</td>\n",
       "      <td>0.666667</td>\n",
       "      <td>0.666667</td>\n",
       "      <td>0.000000</td>\n",
       "      <td>0.25</td>\n",
       "      <td>0.0</td>\n",
       "      <td>0.00</td>\n",
       "      <td>0.000000</td>\n",
       "    </tr>\n",
       "    <tr>\n",
       "      <th>3</th>\n",
       "      <td>0.25</td>\n",
       "      <td>0.666667</td>\n",
       "      <td>0.000000</td>\n",
       "      <td>0.75</td>\n",
       "      <td>0.0</td>\n",
       "      <td>0.666667</td>\n",
       "      <td>0.000000</td>\n",
       "      <td>0.0</td>\n",
       "      <td>0.000000</td>\n",
       "      <td>0.000000</td>\n",
       "      <td>...</td>\n",
       "      <td>0.000000</td>\n",
       "      <td>0.000000</td>\n",
       "      <td>1.0</td>\n",
       "      <td>0.666667</td>\n",
       "      <td>0.666667</td>\n",
       "      <td>0.000000</td>\n",
       "      <td>0.25</td>\n",
       "      <td>0.0</td>\n",
       "      <td>0.25</td>\n",
       "      <td>0.666667</td>\n",
       "    </tr>\n",
       "    <tr>\n",
       "      <th>4</th>\n",
       "      <td>0.75</td>\n",
       "      <td>0.666667</td>\n",
       "      <td>0.000000</td>\n",
       "      <td>0.75</td>\n",
       "      <td>0.0</td>\n",
       "      <td>0.000000</td>\n",
       "      <td>0.000000</td>\n",
       "      <td>0.0</td>\n",
       "      <td>0.000000</td>\n",
       "      <td>0.666667</td>\n",
       "      <td>...</td>\n",
       "      <td>0.000000</td>\n",
       "      <td>0.000000</td>\n",
       "      <td>0.0</td>\n",
       "      <td>0.666667</td>\n",
       "      <td>0.666667</td>\n",
       "      <td>0.666667</td>\n",
       "      <td>0.75</td>\n",
       "      <td>0.0</td>\n",
       "      <td>0.75</td>\n",
       "      <td>0.666667</td>\n",
       "    </tr>\n",
       "    <tr>\n",
       "      <th>...</th>\n",
       "      <td>...</td>\n",
       "      <td>...</td>\n",
       "      <td>...</td>\n",
       "      <td>...</td>\n",
       "      <td>...</td>\n",
       "      <td>...</td>\n",
       "      <td>...</td>\n",
       "      <td>...</td>\n",
       "      <td>...</td>\n",
       "      <td>...</td>\n",
       "      <td>...</td>\n",
       "      <td>...</td>\n",
       "      <td>...</td>\n",
       "      <td>...</td>\n",
       "      <td>...</td>\n",
       "      <td>...</td>\n",
       "      <td>...</td>\n",
       "      <td>...</td>\n",
       "      <td>...</td>\n",
       "      <td>...</td>\n",
       "      <td>...</td>\n",
       "    </tr>\n",
       "    <tr>\n",
       "      <th>5578</th>\n",
       "      <td>0.75</td>\n",
       "      <td>1.000000</td>\n",
       "      <td>0.000000</td>\n",
       "      <td>0.75</td>\n",
       "      <td>0.0</td>\n",
       "      <td>0.666667</td>\n",
       "      <td>0.000000</td>\n",
       "      <td>0.0</td>\n",
       "      <td>0.000000</td>\n",
       "      <td>0.666667</td>\n",
       "      <td>...</td>\n",
       "      <td>0.000000</td>\n",
       "      <td>0.666667</td>\n",
       "      <td>0.0</td>\n",
       "      <td>0.666667</td>\n",
       "      <td>0.666667</td>\n",
       "      <td>0.666667</td>\n",
       "      <td>0.25</td>\n",
       "      <td>0.0</td>\n",
       "      <td>0.25</td>\n",
       "      <td>0.666667</td>\n",
       "    </tr>\n",
       "    <tr>\n",
       "      <th>5579</th>\n",
       "      <td>0.25</td>\n",
       "      <td>0.666667</td>\n",
       "      <td>0.000000</td>\n",
       "      <td>0.25</td>\n",
       "      <td>0.0</td>\n",
       "      <td>0.666667</td>\n",
       "      <td>0.000000</td>\n",
       "      <td>0.0</td>\n",
       "      <td>0.000000</td>\n",
       "      <td>0.666667</td>\n",
       "      <td>...</td>\n",
       "      <td>0.000000</td>\n",
       "      <td>0.000000</td>\n",
       "      <td>0.0</td>\n",
       "      <td>0.666667</td>\n",
       "      <td>0.666667</td>\n",
       "      <td>0.000000</td>\n",
       "      <td>0.25</td>\n",
       "      <td>0.0</td>\n",
       "      <td>0.75</td>\n",
       "      <td>0.000000</td>\n",
       "    </tr>\n",
       "    <tr>\n",
       "      <th>5580</th>\n",
       "      <td>0.25</td>\n",
       "      <td>0.000000</td>\n",
       "      <td>0.000000</td>\n",
       "      <td>0.25</td>\n",
       "      <td>1.0</td>\n",
       "      <td>0.000000</td>\n",
       "      <td>0.000000</td>\n",
       "      <td>1.0</td>\n",
       "      <td>0.013158</td>\n",
       "      <td>0.000000</td>\n",
       "      <td>...</td>\n",
       "      <td>0.000000</td>\n",
       "      <td>0.000000</td>\n",
       "      <td>0.0</td>\n",
       "      <td>0.666667</td>\n",
       "      <td>0.666667</td>\n",
       "      <td>0.000000</td>\n",
       "      <td>0.25</td>\n",
       "      <td>1.0</td>\n",
       "      <td>0.00</td>\n",
       "      <td>0.000000</td>\n",
       "    </tr>\n",
       "    <tr>\n",
       "      <th>5581</th>\n",
       "      <td>0.25</td>\n",
       "      <td>0.000000</td>\n",
       "      <td>0.000000</td>\n",
       "      <td>0.25</td>\n",
       "      <td>0.0</td>\n",
       "      <td>0.000000</td>\n",
       "      <td>0.000000</td>\n",
       "      <td>0.0</td>\n",
       "      <td>0.000000</td>\n",
       "      <td>0.666667</td>\n",
       "      <td>...</td>\n",
       "      <td>0.000000</td>\n",
       "      <td>0.666667</td>\n",
       "      <td>0.0</td>\n",
       "      <td>0.666667</td>\n",
       "      <td>0.666667</td>\n",
       "      <td>0.000000</td>\n",
       "      <td>0.25</td>\n",
       "      <td>0.0</td>\n",
       "      <td>0.25</td>\n",
       "      <td>0.000000</td>\n",
       "    </tr>\n",
       "    <tr>\n",
       "      <th>5582</th>\n",
       "      <td>0.25</td>\n",
       "      <td>0.000000</td>\n",
       "      <td>0.000000</td>\n",
       "      <td>0.25</td>\n",
       "      <td>0.0</td>\n",
       "      <td>0.000000</td>\n",
       "      <td>0.000000</td>\n",
       "      <td>0.0</td>\n",
       "      <td>0.013158</td>\n",
       "      <td>0.000000</td>\n",
       "      <td>...</td>\n",
       "      <td>0.000000</td>\n",
       "      <td>0.000000</td>\n",
       "      <td>1.0</td>\n",
       "      <td>0.666667</td>\n",
       "      <td>0.000000</td>\n",
       "      <td>0.000000</td>\n",
       "      <td>0.25</td>\n",
       "      <td>1.0</td>\n",
       "      <td>0.50</td>\n",
       "      <td>0.000000</td>\n",
       "    </tr>\n",
       "  </tbody>\n",
       "</table>\n",
       "<p>5583 rows × 24 columns</p>\n",
       "</div>"
      ],
      "text/plain": [
       "      OHX13TC   OHX31TC   OHX22TC  OHX20TC  OHDEXSTS  DMDHHSZE   OHX23TC  \\\n",
       "0        0.75  0.666667  0.666667     0.75       0.0  0.666667  0.666667   \n",
       "1        0.25  0.666667  0.000000     1.00       0.0  0.000000  0.000000   \n",
       "2        0.25  0.666667  0.000000     0.25       0.0  0.666667  0.000000   \n",
       "3        0.25  0.666667  0.000000     0.75       0.0  0.666667  0.000000   \n",
       "4        0.75  0.666667  0.000000     0.75       0.0  0.000000  0.000000   \n",
       "...       ...       ...       ...      ...       ...       ...       ...   \n",
       "5578     0.75  1.000000  0.000000     0.75       0.0  0.666667  0.000000   \n",
       "5579     0.25  0.666667  0.000000     0.25       0.0  0.666667  0.000000   \n",
       "5580     0.25  0.000000  0.000000     0.25       1.0  0.000000  0.000000   \n",
       "5581     0.25  0.000000  0.000000     0.25       0.0  0.000000  0.000000   \n",
       "5582     0.25  0.000000  0.000000     0.25       0.0  0.000000  0.000000   \n",
       "\n",
       "      OHDDESTS  DMDBORN4   OHX12TC  ...   OHX26TC   OHX05TC  RIAGENDR  \\\n",
       "0          0.0  0.000000  0.666667  ...  0.666667  0.666667       0.0   \n",
       "1          0.0  0.000000  0.000000  ...  0.000000  0.000000       0.0   \n",
       "2          0.0  0.000000  0.000000  ...  0.000000  0.000000       0.0   \n",
       "3          0.0  0.000000  0.000000  ...  0.000000  0.000000       1.0   \n",
       "4          0.0  0.000000  0.666667  ...  0.000000  0.000000       0.0   \n",
       "...        ...       ...       ...  ...       ...       ...       ...   \n",
       "5578       0.0  0.000000  0.666667  ...  0.000000  0.666667       0.0   \n",
       "5579       0.0  0.000000  0.666667  ...  0.000000  0.000000       0.0   \n",
       "5580       1.0  0.013158  0.000000  ...  0.000000  0.000000       0.0   \n",
       "5581       0.0  0.000000  0.666667  ...  0.000000  0.666667       0.0   \n",
       "5582       0.0  0.013158  0.000000  ...  0.000000  0.000000       1.0   \n",
       "\n",
       "       CSXONOD   OHX32TC   OHX14TC  OHX06TC  MGAPHAND  CSXQUIPT   OHX18TC  \n",
       "0     0.000000  0.666667  0.666667     0.75       0.0      0.75  0.666667  \n",
       "1     0.666667  0.666667  0.000000     0.25       0.0      0.75  0.666667  \n",
       "2     0.666667  0.666667  0.000000     0.25       0.0      0.00  0.000000  \n",
       "3     0.666667  0.666667  0.000000     0.25       0.0      0.25  0.666667  \n",
       "4     0.666667  0.666667  0.666667     0.75       0.0      0.75  0.666667  \n",
       "...        ...       ...       ...      ...       ...       ...       ...  \n",
       "5578  0.666667  0.666667  0.666667     0.25       0.0      0.25  0.666667  \n",
       "5579  0.666667  0.666667  0.000000     0.25       0.0      0.75  0.000000  \n",
       "5580  0.666667  0.666667  0.000000     0.25       1.0      0.00  0.000000  \n",
       "5581  0.666667  0.666667  0.000000     0.25       0.0      0.25  0.000000  \n",
       "5582  0.666667  0.000000  0.000000     0.25       1.0      0.50  0.000000  \n",
       "\n",
       "[5583 rows x 24 columns]"
      ]
     },
     "execution_count": 31,
     "metadata": {},
     "output_type": "execute_result"
    }
   ],
   "source": [
    "from sklearn.preprocessing import MinMaxScaler\n",
    "\n",
    "minmax=MinMaxScaler()\n",
    "X = pd.DataFrame(minmax.fit_transform(X_), columns=X_.columns)\n",
    "X"
   ]
  },
  {
   "cell_type": "markdown",
   "metadata": {
    "papermill": {
     "duration": 0.047069,
     "end_time": "2021-03-15T07:42:34.188205",
     "exception": false,
     "start_time": "2021-03-15T07:42:34.141136",
     "status": "completed"
    },
    "tags": []
   },
   "source": [
    "### Upsampling Minoroty Class with SMOTE\n",
    "Note that it is important to only oversample after train/test split, so the testing data will not leak."
   ]
  },
  {
   "cell_type": "code",
   "execution_count": 32,
   "metadata": {
    "execution": {
     "iopub.execute_input": "2021-03-15T07:42:34.285532Z",
     "iopub.status.busy": "2021-03-15T07:42:34.285034Z",
     "iopub.status.idle": "2021-03-15T07:42:34.290654Z",
     "shell.execute_reply": "2021-03-15T07:42:34.291127Z"
    },
    "papermill": {
     "duration": 0.055826,
     "end_time": "2021-03-15T07:42:34.291235",
     "exception": false,
     "start_time": "2021-03-15T07:42:34.235409",
     "status": "completed"
    },
    "tags": []
   },
   "outputs": [],
   "source": [
    "from sklearn.model_selection import train_test_split \n",
    "\n",
    "X_train, X_test, y_train, y_test = train_test_split(X, y, random_state=11)"
   ]
  },
  {
   "cell_type": "code",
   "execution_count": 34,
   "metadata": {
    "execution": {
     "iopub.execute_input": "2021-03-15T07:42:34.387681Z",
     "iopub.status.busy": "2021-03-15T07:42:34.387192Z",
     "iopub.status.idle": "2021-03-15T07:42:34.402423Z",
     "shell.execute_reply": "2021-03-15T07:42:34.402873Z"
    },
    "papermill": {
     "duration": 0.064814,
     "end_time": "2021-03-15T07:42:34.402987",
     "exception": false,
     "start_time": "2021-03-15T07:42:34.338173",
     "status": "completed"
    },
    "tags": []
   },
   "outputs": [],
   "source": [
    "from imblearn.over_sampling import SMOTE\n",
    "\n",
    "smote = SMOTE()\n",
    "X_train_sm, y_train_sm = smote.fit_resample(X_train, y_train)\n",
    "# X_test_sm, y_test_sm = smote.fit_sample(X_test, y_test)\n",
    "\n",
    "X_train_sm = pd.DataFrame(X_train_sm, columns=X.columns)\n",
    "# X_test_sm = pd.DataFrame(X_test_sm, columns=X.columns)"
   ]
  },
  {
   "cell_type": "code",
   "execution_count": 35,
   "metadata": {
    "execution": {
     "iopub.execute_input": "2021-03-15T07:42:34.499301Z",
     "iopub.status.busy": "2021-03-15T07:42:34.498778Z",
     "iopub.status.idle": "2021-03-15T07:42:34.507458Z",
     "shell.execute_reply": "2021-03-15T07:42:34.507861Z"
    },
    "papermill": {
     "duration": 0.058045,
     "end_time": "2021-03-15T07:42:34.507978",
     "exception": false,
     "start_time": "2021-03-15T07:42:34.449933",
     "status": "completed"
    },
    "tags": []
   },
   "outputs": [
    {
     "name": "stdout",
     "output_type": "stream",
     "text": [
      "X train shape:  (8066, 24)\n",
      "y train values: \n",
      " 0.0    4033\n",
      "1.0    4033\n",
      "Name: MCQ160F, dtype: int64\n",
      "\n",
      "X test shape:  (1396, 24)\n",
      "y test values: \n",
      " 0.0    1356\n",
      "1.0      40\n",
      "Name: MCQ160F, dtype: int64\n"
     ]
    }
   ],
   "source": [
    "print('X train shape: ',X_train_sm.shape)\n",
    "print('y train values: \\n', y_train_sm.value_counts())\n",
    "print()\n",
    "print('X test shape: ',X_test.shape)\n",
    "print('y test values: \\n', y_test.value_counts())"
   ]
  },
  {
   "cell_type": "code",
   "execution_count": 37,
   "metadata": {
    "execution": {
     "iopub.execute_input": "2021-03-15T07:42:34.606680Z",
     "iopub.status.busy": "2021-03-15T07:42:34.606185Z",
     "iopub.status.idle": "2021-03-15T07:42:34.608878Z",
     "shell.execute_reply": "2021-03-15T07:42:34.608434Z"
    },
    "papermill": {
     "duration": 0.05343,
     "end_time": "2021-03-15T07:42:34.608969",
     "exception": false,
     "start_time": "2021-03-15T07:42:34.555539",
     "status": "completed"
    },
    "tags": []
   },
   "outputs": [],
   "source": [
    "mscore=[]"
   ]
  },
  {
   "cell_type": "markdown",
   "metadata": {
    "papermill": {
     "duration": 0.04753,
     "end_time": "2021-03-15T07:42:34.704276",
     "exception": false,
     "start_time": "2021-03-15T07:42:34.656746",
     "status": "completed"
    },
    "tags": []
   },
   "source": [
    "### Logistic Regression"
   ]
  },
  {
   "cell_type": "code",
   "execution_count": 38,
   "metadata": {
    "execution": {
     "iopub.execute_input": "2021-03-15T07:42:34.808581Z",
     "iopub.status.busy": "2021-03-15T07:42:34.808055Z",
     "iopub.status.idle": "2021-03-15T07:42:34.956688Z",
     "shell.execute_reply": "2021-03-15T07:42:34.957293Z"
    },
    "papermill": {
     "duration": 0.205655,
     "end_time": "2021-03-15T07:42:34.957432",
     "exception": false,
     "start_time": "2021-03-15T07:42:34.751777",
     "status": "completed"
    },
    "tags": []
   },
   "outputs": [
    {
     "name": "stdout",
     "output_type": "stream",
     "text": [
      "Accuracy Score: 0.7671919770773639\n",
      "Prediction: [0. 0. 0. ... 0. 0. 1.]\n",
      "              precision    recall  f1-score   support\n",
      "\n",
      "         0.0       0.99      0.77      0.87      1356\n",
      "         1.0       0.08      0.65      0.14        40\n",
      "\n",
      "    accuracy                           0.77      1396\n",
      "   macro avg       0.53      0.71      0.50      1396\n",
      "weighted avg       0.96      0.77      0.84      1396\n",
      "\n",
      "Confusion Matrix:\n",
      "         Predict[0]  Predict[1]\n",
      "True[0]        1045         311\n",
      "True[1]          14          26\n"
     ]
    },
    {
     "data": {
      "text/html": [
       "<div>\n",
       "<style scoped>\n",
       "    .dataframe tbody tr th:only-of-type {\n",
       "        vertical-align: middle;\n",
       "    }\n",
       "\n",
       "    .dataframe tbody tr th {\n",
       "        vertical-align: top;\n",
       "    }\n",
       "\n",
       "    .dataframe thead th {\n",
       "        text-align: right;\n",
       "    }\n",
       "</style>\n",
       "<table border=\"1\" class=\"dataframe\">\n",
       "  <thead>\n",
       "    <tr style=\"text-align: right;\">\n",
       "      <th></th>\n",
       "      <th>Predict[0]</th>\n",
       "      <th>Predict[1]</th>\n",
       "    </tr>\n",
       "  </thead>\n",
       "  <tbody>\n",
       "    <tr>\n",
       "      <th>True[0]</th>\n",
       "      <td>1045</td>\n",
       "      <td>311</td>\n",
       "    </tr>\n",
       "    <tr>\n",
       "      <th>True[1]</th>\n",
       "      <td>14</td>\n",
       "      <td>26</td>\n",
       "    </tr>\n",
       "  </tbody>\n",
       "</table>\n",
       "</div>"
      ],
      "text/plain": [
       "         Predict[0]  Predict[1]\n",
       "True[0]        1045         311\n",
       "True[1]          14          26"
      ]
     },
     "execution_count": 38,
     "metadata": {},
     "output_type": "execute_result"
    }
   ],
   "source": [
    "from sklearn.linear_model import LogisticRegression\n",
    "\n",
    "clf = LogisticRegression(max_iter=100, solver='lbfgs', class_weight='balanced', random_state=11).fit(X_train_sm, y_train_sm)\n",
    "y_pred = clf.predict(X_test)\n",
    "\n",
    "print('Accuracy Score:', clf.score(X_test, y_test))\n",
    "print('Prediction:', y_pred)\n",
    "\n",
    "mscore.append(['Logistic Regression', clf.score(X_test, y_test)])\n",
    "\n",
    "print(classification_report(y_test, y_pred))\n",
    "confusion(y_test, y_pred)"
   ]
  },
  {
   "cell_type": "markdown",
   "metadata": {
    "papermill": {
     "duration": 0.04955,
     "end_time": "2021-03-15T07:42:35.056525",
     "exception": false,
     "start_time": "2021-03-15T07:42:35.006975",
     "status": "completed"
    },
    "tags": []
   },
   "source": [
    "### Random Forest"
   ]
  },
  {
   "cell_type": "code",
   "execution_count": 39,
   "metadata": {
    "execution": {
     "iopub.execute_input": "2021-03-15T07:42:35.160120Z",
     "iopub.status.busy": "2021-03-15T07:42:35.159300Z",
     "iopub.status.idle": "2021-03-15T07:42:35.818580Z",
     "shell.execute_reply": "2021-03-15T07:42:35.818102Z"
    },
    "papermill": {
     "duration": 0.711517,
     "end_time": "2021-03-15T07:42:35.818671",
     "exception": false,
     "start_time": "2021-03-15T07:42:35.107154",
     "status": "completed"
    },
    "tags": []
   },
   "outputs": [
    {
     "name": "stdout",
     "output_type": "stream",
     "text": [
      "Accuracy Score: 0.8610315186246418\n",
      "Prediction: [0. 0. 0. ... 0. 0. 1.]\n",
      "              precision    recall  f1-score   support\n",
      "\n",
      "         0.0       0.98      0.87      0.92      1356\n",
      "         1.0       0.11      0.53      0.18        40\n",
      "\n",
      "    accuracy                           0.86      1396\n",
      "   macro avg       0.55      0.70      0.55      1396\n",
      "weighted avg       0.96      0.86      0.90      1396\n",
      "\n",
      "Confusion Matrix:\n",
      "         Predict[0]  Predict[1]\n",
      "True[0]        1181         175\n",
      "True[1]          19          21\n"
     ]
    },
    {
     "data": {
      "text/html": [
       "<div>\n",
       "<style scoped>\n",
       "    .dataframe tbody tr th:only-of-type {\n",
       "        vertical-align: middle;\n",
       "    }\n",
       "\n",
       "    .dataframe tbody tr th {\n",
       "        vertical-align: top;\n",
       "    }\n",
       "\n",
       "    .dataframe thead th {\n",
       "        text-align: right;\n",
       "    }\n",
       "</style>\n",
       "<table border=\"1\" class=\"dataframe\">\n",
       "  <thead>\n",
       "    <tr style=\"text-align: right;\">\n",
       "      <th></th>\n",
       "      <th>Predict[0]</th>\n",
       "      <th>Predict[1]</th>\n",
       "    </tr>\n",
       "  </thead>\n",
       "  <tbody>\n",
       "    <tr>\n",
       "      <th>True[0]</th>\n",
       "      <td>1181</td>\n",
       "      <td>175</td>\n",
       "    </tr>\n",
       "    <tr>\n",
       "      <th>True[1]</th>\n",
       "      <td>19</td>\n",
       "      <td>21</td>\n",
       "    </tr>\n",
       "  </tbody>\n",
       "</table>\n",
       "</div>"
      ],
      "text/plain": [
       "         Predict[0]  Predict[1]\n",
       "True[0]        1181         175\n",
       "True[1]          19          21"
      ]
     },
     "execution_count": 39,
     "metadata": {},
     "output_type": "execute_result"
    }
   ],
   "source": [
    "from sklearn.ensemble import RandomForestClassifier\n",
    "\n",
    "rnd_clf = RandomForestClassifier(n_estimators=150, criterion='gini', max_depth=5, random_state=11)\n",
    "rnd_clf.fit(X_train_sm, y_train_sm)\n",
    "\n",
    "y_pred = rnd_clf.predict(X_test)\n",
    "\n",
    "print('Accuracy Score:', rnd_clf.score(X_test, y_test))\n",
    "print('Prediction:', y_pred)\n",
    "\n",
    "mscore.append(['Random Forest', rnd_clf.score(X_test, y_test)])\n",
    "\n",
    "print(classification_report(y_test, y_pred))\n",
    "confusion(y_test, y_pred)"
   ]
  },
  {
   "cell_type": "markdown",
   "metadata": {
    "papermill": {
     "duration": 0.049345,
     "end_time": "2021-03-15T07:42:35.917893",
     "exception": false,
     "start_time": "2021-03-15T07:42:35.868548",
     "status": "completed"
    },
    "tags": []
   },
   "source": [
    "### Gradient Boosting Decision Trees"
   ]
  },
  {
   "cell_type": "code",
   "execution_count": 40,
   "metadata": {
    "execution": {
     "iopub.execute_input": "2021-03-15T07:42:36.025610Z",
     "iopub.status.busy": "2021-03-15T07:42:36.025106Z",
     "iopub.status.idle": "2021-03-15T07:42:36.156399Z",
     "shell.execute_reply": "2021-03-15T07:42:36.155539Z"
    },
    "papermill": {
     "duration": 0.18846,
     "end_time": "2021-03-15T07:42:36.156494",
     "exception": false,
     "start_time": "2021-03-15T07:42:35.968034",
     "status": "completed"
    },
    "tags": []
   },
   "outputs": [
    {
     "name": "stdout",
     "output_type": "stream",
     "text": [
      "Accuracy Score: 0.7320916905444126\n",
      "Prediction: [0. 0. 0. ... 0. 0. 1.]\n",
      "              precision    recall  f1-score   support\n",
      "\n",
      "         0.0       0.99      0.73      0.84      1356\n",
      "         1.0       0.07      0.65      0.12        40\n",
      "\n",
      "    accuracy                           0.73      1396\n",
      "   macro avg       0.53      0.69      0.48      1396\n",
      "weighted avg       0.96      0.73      0.82      1396\n",
      "\n",
      "Confusion Matrix:\n",
      "         Predict[0]  Predict[1]\n",
      "True[0]         996         360\n",
      "True[1]          14          26\n"
     ]
    },
    {
     "data": {
      "text/html": [
       "<div>\n",
       "<style scoped>\n",
       "    .dataframe tbody tr th:only-of-type {\n",
       "        vertical-align: middle;\n",
       "    }\n",
       "\n",
       "    .dataframe tbody tr th {\n",
       "        vertical-align: top;\n",
       "    }\n",
       "\n",
       "    .dataframe thead th {\n",
       "        text-align: right;\n",
       "    }\n",
       "</style>\n",
       "<table border=\"1\" class=\"dataframe\">\n",
       "  <thead>\n",
       "    <tr style=\"text-align: right;\">\n",
       "      <th></th>\n",
       "      <th>Predict[0]</th>\n",
       "      <th>Predict[1]</th>\n",
       "    </tr>\n",
       "  </thead>\n",
       "  <tbody>\n",
       "    <tr>\n",
       "      <th>True[0]</th>\n",
       "      <td>996</td>\n",
       "      <td>360</td>\n",
       "    </tr>\n",
       "    <tr>\n",
       "      <th>True[1]</th>\n",
       "      <td>14</td>\n",
       "      <td>26</td>\n",
       "    </tr>\n",
       "  </tbody>\n",
       "</table>\n",
       "</div>"
      ],
      "text/plain": [
       "         Predict[0]  Predict[1]\n",
       "True[0]         996         360\n",
       "True[1]          14          26"
      ]
     },
     "execution_count": 40,
     "metadata": {},
     "output_type": "execute_result"
    }
   ],
   "source": [
    "from sklearn.ensemble import GradientBoostingClassifier\n",
    "\n",
    "gbc = GradientBoostingClassifier(learning_rate=0.1, n_estimators=10, random_state=11)\n",
    "gbc.fit(X_train_sm, y_train_sm)\n",
    "\n",
    "y_pred = gbc.predict(X_test)\n",
    "\n",
    "print('Accuracy Score:', gbc.score(X_test, y_test))\n",
    "print('Prediction:', y_pred)\n",
    "\n",
    "mscore.append(['GradientBoosting', gbc.score(X_test, y_test)])\n",
    "\n",
    "print(classification_report(y_test, y_pred))\n",
    "confusion(y_test, y_pred)"
   ]
  },
  {
   "cell_type": "markdown",
   "metadata": {
    "papermill": {
     "duration": 0.050663,
     "end_time": "2021-03-15T07:42:36.257603",
     "exception": false,
     "start_time": "2021-03-15T07:42:36.206940",
     "status": "completed"
    },
    "tags": []
   },
   "source": [
    "### AdaBoostClassifier"
   ]
  },
  {
   "cell_type": "code",
   "execution_count": 41,
   "metadata": {
    "execution": {
     "iopub.execute_input": "2021-03-15T07:42:36.366497Z",
     "iopub.status.busy": "2021-03-15T07:42:36.365672Z",
     "iopub.status.idle": "2021-03-15T07:42:36.621535Z",
     "shell.execute_reply": "2021-03-15T07:42:36.621092Z"
    },
    "papermill": {
     "duration": 0.313927,
     "end_time": "2021-03-15T07:42:36.621645",
     "exception": false,
     "start_time": "2021-03-15T07:42:36.307718",
     "status": "completed"
    },
    "tags": []
   },
   "outputs": [
    {
     "name": "stdout",
     "output_type": "stream",
     "text": [
      "Accuracy Score: 0.6210601719197708\n",
      "Prediction: [0. 0. 0. ... 0. 1. 1.]\n",
      "              precision    recall  f1-score   support\n",
      "\n",
      "         0.0       0.99      0.62      0.76      1356\n",
      "         1.0       0.06      0.80      0.11        40\n",
      "\n",
      "    accuracy                           0.62      1396\n",
      "   macro avg       0.52      0.71      0.43      1396\n",
      "weighted avg       0.96      0.62      0.74      1396\n",
      "\n",
      "Confusion Matrix:\n",
      "         Predict[0]  Predict[1]\n",
      "True[0]         835         521\n",
      "True[1]           8          32\n"
     ]
    },
    {
     "data": {
      "text/html": [
       "<div>\n",
       "<style scoped>\n",
       "    .dataframe tbody tr th:only-of-type {\n",
       "        vertical-align: middle;\n",
       "    }\n",
       "\n",
       "    .dataframe tbody tr th {\n",
       "        vertical-align: top;\n",
       "    }\n",
       "\n",
       "    .dataframe thead th {\n",
       "        text-align: right;\n",
       "    }\n",
       "</style>\n",
       "<table border=\"1\" class=\"dataframe\">\n",
       "  <thead>\n",
       "    <tr style=\"text-align: right;\">\n",
       "      <th></th>\n",
       "      <th>Predict[0]</th>\n",
       "      <th>Predict[1]</th>\n",
       "    </tr>\n",
       "  </thead>\n",
       "  <tbody>\n",
       "    <tr>\n",
       "      <th>True[0]</th>\n",
       "      <td>835</td>\n",
       "      <td>521</td>\n",
       "    </tr>\n",
       "    <tr>\n",
       "      <th>True[1]</th>\n",
       "      <td>8</td>\n",
       "      <td>32</td>\n",
       "    </tr>\n",
       "  </tbody>\n",
       "</table>\n",
       "</div>"
      ],
      "text/plain": [
       "         Predict[0]  Predict[1]\n",
       "True[0]         835         521\n",
       "True[1]           8          32"
      ]
     },
     "execution_count": 41,
     "metadata": {},
     "output_type": "execute_result"
    }
   ],
   "source": [
    "from sklearn.ensemble import AdaBoostClassifier\n",
    "\n",
    "ada = AdaBoostClassifier(learning_rate=0.01, n_estimators=30, random_state=11)\n",
    "ada.fit(X_train_sm, y_train_sm)\n",
    "\n",
    "y_pred = ada.predict(X_test)\n",
    "\n",
    "print('Accuracy Score:', ada.score(X_test, y_test))\n",
    "print('Prediction:', y_pred)\n",
    "\n",
    "mscore.append(['Adaptive Boosting', ada.score(X_test, y_test)])\n",
    "\n",
    "# from sklearn.metrics import classification_report\n",
    "print(classification_report(y_test, y_pred))\n",
    "confusion(y_test, y_pred)"
   ]
  },
  {
   "cell_type": "markdown",
   "metadata": {
    "papermill": {
     "duration": 0.051183,
     "end_time": "2021-03-15T07:42:36.724681",
     "exception": false,
     "start_time": "2021-03-15T07:42:36.673498",
     "status": "completed"
    },
    "tags": []
   },
   "source": [
    "### SVM"
   ]
  },
  {
   "cell_type": "code",
   "execution_count": 42,
   "metadata": {
    "execution": {
     "iopub.execute_input": "2021-03-15T07:42:36.831317Z",
     "iopub.status.busy": "2021-03-15T07:42:36.830483Z",
     "iopub.status.idle": "2021-03-15T07:42:40.770976Z",
     "shell.execute_reply": "2021-03-15T07:42:40.771390Z"
    },
    "papermill": {
     "duration": 3.995481,
     "end_time": "2021-03-15T07:42:40.771518",
     "exception": false,
     "start_time": "2021-03-15T07:42:36.776037",
     "status": "completed"
    },
    "tags": []
   },
   "outputs": [
    {
     "name": "stdout",
     "output_type": "stream",
     "text": [
      "Accuracy Score: 0.7349570200573066\n",
      "Prediction: [0. 0. 0. ... 0. 0. 1.]\n",
      "              precision    recall  f1-score   support\n",
      "\n",
      "         0.0       0.99      0.73      0.84      1356\n",
      "         1.0       0.08      0.78      0.14        40\n",
      "\n",
      "    accuracy                           0.73      1396\n",
      "   macro avg       0.54      0.75      0.49      1396\n",
      "weighted avg       0.96      0.73      0.82      1396\n",
      "\n",
      "Confusion Matrix:\n",
      "         Predict[0]  Predict[1]\n",
      "True[0]         995         361\n",
      "True[1]           9          31\n"
     ]
    },
    {
     "data": {
      "text/html": [
       "<div>\n",
       "<style scoped>\n",
       "    .dataframe tbody tr th:only-of-type {\n",
       "        vertical-align: middle;\n",
       "    }\n",
       "\n",
       "    .dataframe tbody tr th {\n",
       "        vertical-align: top;\n",
       "    }\n",
       "\n",
       "    .dataframe thead th {\n",
       "        text-align: right;\n",
       "    }\n",
       "</style>\n",
       "<table border=\"1\" class=\"dataframe\">\n",
       "  <thead>\n",
       "    <tr style=\"text-align: right;\">\n",
       "      <th></th>\n",
       "      <th>Predict[0]</th>\n",
       "      <th>Predict[1]</th>\n",
       "    </tr>\n",
       "  </thead>\n",
       "  <tbody>\n",
       "    <tr>\n",
       "      <th>True[0]</th>\n",
       "      <td>995</td>\n",
       "      <td>361</td>\n",
       "    </tr>\n",
       "    <tr>\n",
       "      <th>True[1]</th>\n",
       "      <td>9</td>\n",
       "      <td>31</td>\n",
       "    </tr>\n",
       "  </tbody>\n",
       "</table>\n",
       "</div>"
      ],
      "text/plain": [
       "         Predict[0]  Predict[1]\n",
       "True[0]         995         361\n",
       "True[1]           9          31"
      ]
     },
     "execution_count": 42,
     "metadata": {},
     "output_type": "execute_result"
    }
   ],
   "source": [
    "from sklearn.svm import SVC\n",
    "svm_clf = SVC(kernel='sigmoid', gamma='auto', random_state=11)\n",
    "svm_clf.fit(X_train_sm, y_train_sm)\n",
    "y_pred = svm_clf.predict(X_test)\n",
    "\n",
    "print('Accuracy Score:', svm_clf.score(X_test, y_test))\n",
    "print('Prediction:', y_pred)\n",
    "\n",
    "mscore.append(['SVM', svm_clf.score(X_test, y_test)])\n",
    "\n",
    "# from sklearn.metrics import classification_report\n",
    "print(classification_report(y_test, y_pred))\n",
    "confusion(y_test, y_pred)"
   ]
  },
  {
   "cell_type": "markdown",
   "metadata": {
    "papermill": {
     "duration": 0.052733,
     "end_time": "2021-03-15T07:42:40.877863",
     "exception": false,
     "start_time": "2021-03-15T07:42:40.825130",
     "status": "completed"
    },
    "tags": []
   },
   "source": [
    "### XGBoost"
   ]
  },
  {
   "cell_type": "code",
   "execution_count": 43,
   "metadata": {
    "execution": {
     "iopub.execute_input": "2021-03-15T07:42:40.992406Z",
     "iopub.status.busy": "2021-03-15T07:42:40.991762Z",
     "iopub.status.idle": "2021-03-15T07:42:41.674874Z",
     "shell.execute_reply": "2021-03-15T07:42:41.675429Z"
    },
    "papermill": {
     "duration": 0.745868,
     "end_time": "2021-03-15T07:42:41.675610",
     "exception": false,
     "start_time": "2021-03-15T07:42:40.929742",
     "status": "completed"
    },
    "tags": []
   },
   "outputs": [
    {
     "name": "stdout",
     "output_type": "stream",
     "text": [
      "[12:01:50] WARNING: C:/Users/Administrator/workspace/xgboost-win64_release_1.5.1/src/learner.cc:1115: Starting in XGBoost 1.3.0, the default evaluation metric used with the objective 'binary:logistic' was changed from 'error' to 'logloss'. Explicitly set eval_metric if you'd like to restore the old behavior.\n",
      "Accuracy Score: 0.7349570200573066\n",
      "Prediction: [0. 0. 0. ... 0. 0. 1.]\n",
      "              precision    recall  f1-score   support\n",
      "\n",
      "         0.0       0.99      0.72      0.84      1356\n",
      "         1.0       0.07      0.68      0.12        40\n",
      "\n",
      "    accuracy                           0.72      1396\n",
      "   macro avg       0.53      0.70      0.48      1396\n",
      "weighted avg       0.96      0.72      0.82      1396\n",
      "\n",
      "Confusion Matrix:\n",
      "         Predict[0]  Predict[1]\n",
      "True[0]         983         373\n",
      "True[1]          13          27\n"
     ]
    },
    {
     "data": {
      "text/html": [
       "<div>\n",
       "<style scoped>\n",
       "    .dataframe tbody tr th:only-of-type {\n",
       "        vertical-align: middle;\n",
       "    }\n",
       "\n",
       "    .dataframe tbody tr th {\n",
       "        vertical-align: top;\n",
       "    }\n",
       "\n",
       "    .dataframe thead th {\n",
       "        text-align: right;\n",
       "    }\n",
       "</style>\n",
       "<table border=\"1\" class=\"dataframe\">\n",
       "  <thead>\n",
       "    <tr style=\"text-align: right;\">\n",
       "      <th></th>\n",
       "      <th>Predict[0]</th>\n",
       "      <th>Predict[1]</th>\n",
       "    </tr>\n",
       "  </thead>\n",
       "  <tbody>\n",
       "    <tr>\n",
       "      <th>True[0]</th>\n",
       "      <td>983</td>\n",
       "      <td>373</td>\n",
       "    </tr>\n",
       "    <tr>\n",
       "      <th>True[1]</th>\n",
       "      <td>13</td>\n",
       "      <td>27</td>\n",
       "    </tr>\n",
       "  </tbody>\n",
       "</table>\n",
       "</div>"
      ],
      "text/plain": [
       "         Predict[0]  Predict[1]\n",
       "True[0]         983         373\n",
       "True[1]          13          27"
      ]
     },
     "execution_count": 43,
     "metadata": {},
     "output_type": "execute_result"
    }
   ],
   "source": [
    "from xgboost import XGBClassifier\n",
    "\n",
    "xgbc = XGBClassifier(eta=0.01, max_depth=3)\n",
    "# xgbc = XGBClassifier(eta=0.01)\n",
    "xgbc.fit(X_train_sm, y_train_sm)\n",
    "\n",
    "y_pred = xgbc.predict(X_test)\n",
    "\n",
    "print('Accuracy Score:', svm_clf.score(X_test, y_test))\n",
    "print('Prediction:', y_pred)\n",
    "\n",
    "mscore.append(['XGBoost', xgbc.score(X_test, y_test)])\n",
    "\n",
    "from sklearn.metrics import classification_report\n",
    "print(classification_report(y_test, y_pred))\n",
    "confusion(y_test, y_pred)"
   ]
  },
  {
   "cell_type": "markdown",
   "metadata": {
    "papermill": {
     "duration": 0.069122,
     "end_time": "2021-03-15T07:42:41.814072",
     "exception": false,
     "start_time": "2021-03-15T07:42:41.744950",
     "status": "completed"
    },
    "tags": []
   },
   "source": [
    "<div id=\"model-eval\">\n",
    "        <h1 style=\"color:#1a1a1a\">\n",
    "        Model Comparison 📉\n",
    "        </h1>\n",
    "</div>"
   ]
  },
  {
   "cell_type": "code",
   "execution_count": 44,
   "metadata": {
    "execution": {
     "iopub.execute_input": "2021-03-15T07:42:41.934404Z",
     "iopub.status.busy": "2021-03-15T07:42:41.933472Z",
     "iopub.status.idle": "2021-03-15T07:42:41.937302Z",
     "shell.execute_reply": "2021-03-15T07:42:41.936774Z"
    },
    "papermill": {
     "duration": 0.062209,
     "end_time": "2021-03-15T07:42:41.937408",
     "exception": false,
     "start_time": "2021-03-15T07:42:41.875199",
     "status": "completed"
    },
    "tags": []
   },
   "outputs": [
    {
     "data": {
      "text/plain": [
       "[['Random Forest', 0.8610315186246418],\n",
       " ['Logistic Regression', 0.7671919770773639],\n",
       " ['SVM', 0.7349570200573066],\n",
       " ['GradientBoosting', 0.7320916905444126],\n",
       " ['XGBoost', 0.7234957020057307],\n",
       " ['Adaptive Boosting', 0.6210601719197708]]"
      ]
     },
     "execution_count": 44,
     "metadata": {},
     "output_type": "execute_result"
    }
   ],
   "source": [
    "mscore.sort(key=lambda x: x[1], reverse=True)\n",
    "mscore"
   ]
  },
  {
   "cell_type": "code",
   "execution_count": 45,
   "metadata": {
    "execution": {
     "iopub.execute_input": "2021-03-15T07:42:42.046879Z",
     "iopub.status.busy": "2021-03-15T07:42:42.046278Z",
     "iopub.status.idle": "2021-03-15T07:42:42.162884Z",
     "shell.execute_reply": "2021-03-15T07:42:42.162449Z"
    },
    "papermill": {
     "duration": 0.172038,
     "end_time": "2021-03-15T07:42:42.162981",
     "exception": false,
     "start_time": "2021-03-15T07:42:41.990943",
     "status": "completed"
    },
    "tags": []
   },
   "outputs": [
    {
     "name": "stdout",
     "output_type": "stream",
     "text": [
      "Accracy Score: \n",
      "\n",
      "Random Forest: 86.1%\n",
      "Logistic Regression: 76.72%\n",
      "SVM: 73.5%\n",
      "GradientBoosting: 73.21%\n",
      "XGBoost: 72.35%\n",
      "Adaptive Boosting: 62.11%\n"
     ]
    },
    {
     "data": {
      "image/png": "[encoded data removed]",
      "text/plain": [
       "<Figure size 432x288 with 1 Axes>"
      ]
     },
     "metadata": {
      "needs_background": "light"
     },
     "output_type": "display_data"
    }
   ],
   "source": [
    "model = list(i[0] for i in mscore)\n",
    "score = list(round(i[1]*100,2) for i in mscore)\n",
    "\n",
    "print('Accracy Score: \\n')\n",
    "for m,s in zip(model, score):\n",
    "    print(f'{m}: {s}%')\n",
    "  \n",
    " \n",
    "# creating horizontal bar plot\n",
    "plt.barh(model, score, height = 0.5, color='#4B4E6D') # this color is called independence, how cool!\n",
    " \n",
    "plt.xlabel(\"Accuracy Score\")\n",
    "plt.ylabel(\"Model\")\n",
    "plt.title(\"Model Comparison\")\n",
    "plt.gca().invert_yaxis()\n",
    "plt.show()"
   ]
  }
 ],
 "metadata": {
  "kernelspec": {
   "display_name": "Python 3 (ipykernel)",
   "language": "python",
   "name": "python3"
  },
  "language_info": {
   "codemirror_mode": {
    "name": "ipython",
    "version": 3
   },
   "file_extension": ".py",
   "mimetype": "text/x-python",
   "name": "python",
   "nbconvert_exporter": "python",
   "pygments_lexer": "ipython3",
   "version": "3.9.7"
  },
  "papermill": {
   "duration": 29.189126,
   "end_time": "2021-03-15T07:42:42.433508",
   "environment_variables": {},
   "exception": null,
   "input_path": "__notebook__.ipynb",
   "output_path": "__notebook__.ipynb",
   "parameters": {},
   "start_time": "2021-03-15T07:42:13.244382",
   "version": "2.1.0"
  }
 },
 "nbformat": 4,
 "nbformat_minor": 4
}
